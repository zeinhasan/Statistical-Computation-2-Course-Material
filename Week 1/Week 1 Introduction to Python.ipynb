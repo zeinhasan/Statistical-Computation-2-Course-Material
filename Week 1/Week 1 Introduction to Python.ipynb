{
 "cells": [
  {
   "attachments": {},
   "cell_type": "markdown",
   "metadata": {},
   "source": [
    "# Introduction to Python"
   ]
  },
  {
   "attachments": {},
   "cell_type": "markdown",
   "metadata": {},
   "source": [
    "## Data Types"
   ]
  },
  {
   "attachments": {},
   "cell_type": "markdown",
   "metadata": {},
   "source": [
    "### Boolean"
   ]
  },
  {
   "attachments": {},
   "cell_type": "markdown",
   "metadata": {},
   "source": [
    "Boolean adalah tipe data yang hanya mempunyai 2 nilai yaitu True atau False. Tipe data ini sering kali digunakan dalam comparison dan logical operators. Untuk comparison operator contohnya adalah sebagai berikut :\n",
    "* a == b : a is equal to b\n",
    "* a != b : a is different than b\n",
    "* a < b : a is smaller than b\n",
    "* a <= b: a is smaller or equal to b\n",
    "* a > b: a is bigger than b\n",
    "* a >= b: a is bigger or equal to b <br/>\n",
    "\n",
    "Untuk logical operators dapat beberapa contohnya adalah sebagai berikut :<br/>\n",
    "* a and b: True if both a and b are True. False otherwise.a == b: a is equal to b\n",
    "* a or b: True if either a or b or both are True. False if both are False.\n",
    "* not a: True if a is False, False if a is True.\n"
   ]
  },
  {
   "cell_type": "code",
   "execution_count": 1,
   "metadata": {},
   "outputs": [
    {
     "name": "stdout",
     "output_type": "stream",
     "text": [
      "True\n",
      "False\n",
      "True\n",
      "False\n"
     ]
    }
   ],
   "source": [
    "print(1 < 10)\n",
    "\n",
    "print(\"Linux\" == \"Windows\")\n",
    "\n",
    "print(1 != \"1\")\n",
    "\n",
    "print(not True)"
   ]
  },
  {
   "attachments": {},
   "cell_type": "markdown",
   "metadata": {},
   "source": [
    "### String"
   ]
  },
  {
   "attachments": {},
   "cell_type": "markdown",
   "metadata": {},
   "source": [
    "String adalah tipe data yang memuat karakter/kalimat bisa berupa huruf, angka, dan sebagainya yang diapit tanda \" atau '. Dalam python tipe data ini dinyatakan sebagai berikut :"
   ]
  },
  {
   "cell_type": "code",
   "execution_count": 2,
   "metadata": {},
   "outputs": [
    {
     "name": "stdout",
     "output_type": "stream",
     "text": [
      "<class 'str'>\n"
     ]
    }
   ],
   "source": [
    "color = \"red\"\n",
    "print(type(color))"
   ]
  },
  {
   "cell_type": "code",
   "execution_count": 3,
   "metadata": {},
   "outputs": [
    {
     "name": "stdout",
     "output_type": "stream",
     "text": [
      "let's\n",
      "\"komstat 2\"\n",
      "0\n",
      "False\n"
     ]
    }
   ],
   "source": [
    "program_name = 'komstat 2'\n",
    "program_year = \"it's the 2nd\"\n",
    "multi_line = \"\"\"hello,\n",
    "email test.\n",
    "signature.\"\"\"\n",
    "\n",
    "\n",
    "  \n",
    "# let's\n",
    "# \"komstat 2\"\n",
    "print(\"let's\\n\\\"\"+program_name+\"\\\"\")\n",
    "\n",
    "\n",
    "print(len(''))  # 0\n",
    "print(len(program_name)==8)  # False"
   ]
  },
  {
   "attachments": {},
   "cell_type": "markdown",
   "metadata": {},
   "source": [
    "**Untuk mengakses substring, gunakan index atau slicing**.\n",
    "\n",
    "Python mulai menghitung indeks dari 0 bukan 1. Indeks akses lebih besar dari panjangnya - 1, memicu indeks di luar jangkauan. Indeks negatif dimulai dari belakang.\n",
    "\n",
    "Untuk mengakses substring, gunakan slicing, mirip dengan index, dengan range menggunakan tanda titik dua sebagai pemisah, dimulai dari angka pertama, sampai 1 kurang dari yang terakhir.\n",
    "\n",
    "Sclicing dengan salah satu dari dua indeks berarti indeks lainnya adalah 0 untuk nilai pertama atau panjangnya untuk nilai kedua."
   ]
  },
  {
   "cell_type": "code",
   "execution_count": 4,
   "metadata": {},
   "outputs": [
    {
     "name": "stdout",
     "output_type": "stream",
     "text": [
      "o\n",
      "2\n",
      "2\n",
      " \n",
      "tat \n",
      "koms\n",
      "tat 2\n"
     ]
    }
   ],
   "source": [
    "name = 'komstat 2'\n",
    "print(name[1])  # o\n",
    "print(name[len(name)-1])  # 2\n",
    "print(name[-1])  # 2\n",
    "print(name[-2])  # blank (whitespace)\n",
    "  \n",
    "print(name[4:len(name)-1])  # tat\n",
    "  \n",
    "print(name[:4])  # koms (0-3)\n",
    "print(name[4:])  # tat 2  (4-len)"
   ]
  },
  {
   "attachments": {},
   "cell_type": "markdown",
   "metadata": {},
   "source": [
    "**String dalam Python tidak dapat diubah**\n",
    "\n",
    "String dalam Python tidak dapat diubah, artinya tidak dapat dimodifikasi, tidak dapat mengubah karakter individu. Itu akan memicu objek TypeError tidak mendukung item assignment. Untuk mengubah string, ganti dengan string baru. Gunakan kata kunci in untuk memeriksa apakah substring merupakan bagian dari string."
   ]
  },
  {
   "cell_type": "code",
   "execution_count": 5,
   "metadata": {},
   "outputs": [
    {
     "ename": "TypeError",
     "evalue": "'str' object does not support item assignment",
     "output_type": "error",
     "traceback": [
      "\u001b[1;31m---------------------------------------------------------------------------\u001b[0m",
      "\u001b[1;31mTypeError\u001b[0m                                 Traceback (most recent call last)",
      "Cell \u001b[1;32mIn[5], line 2\u001b[0m\n\u001b[0;32m      1\u001b[0m year \u001b[38;5;241m=\u001b[39m \u001b[38;5;124m\"\u001b[39m\u001b[38;5;124mit\u001b[39m\u001b[38;5;124m'\u001b[39m\u001b[38;5;124ms 2021\u001b[39m\u001b[38;5;124m\"\u001b[39m\n\u001b[1;32m----> 2\u001b[0m year[\u001b[38;5;241m-\u001b[39m\u001b[38;5;241m1\u001b[39m] \u001b[38;5;241m=\u001b[39m \u001b[38;5;124m\"\u001b[39m\u001b[38;5;124m0\u001b[39m\u001b[38;5;124m\"\u001b[39m\n",
      "\u001b[1;31mTypeError\u001b[0m: 'str' object does not support item assignment"
     ]
    }
   ],
   "source": [
    "year = \"it's 2021\"\n",
    "year[-1] = \"0\"  # TypeError"
   ]
  },
  {
   "attachments": {},
   "cell_type": "markdown",
   "metadata": {},
   "source": [
    "### Integer"
   ]
  },
  {
   "attachments": {},
   "cell_type": "markdown",
   "metadata": {},
   "source": [
    "Tipe data integer adalah tipe data yang menyatakan bilangan bulat. Dalam python dapat dituliskan sebagai berikut :"
   ]
  },
  {
   "cell_type": "code",
   "execution_count": 6,
   "metadata": {},
   "outputs": [
    {
     "name": "stdout",
     "output_type": "stream",
     "text": [
      "<class 'int'>\n"
     ]
    }
   ],
   "source": [
    "length = 10\n",
    "print(type(length))"
   ]
  },
  {
   "attachments": {},
   "cell_type": "markdown",
   "metadata": {},
   "source": [
    "### Float"
   ]
  },
  {
   "attachments": {},
   "cell_type": "markdown",
   "metadata": {},
   "source": [
    "Tipe data float adalah tipe data yang mempunyai desimal. Dalam python dapat dituliskan sebagai berikut :"
   ]
  },
  {
   "cell_type": "code",
   "execution_count": 7,
   "metadata": {},
   "outputs": [
    {
     "name": "stdout",
     "output_type": "stream",
     "text": [
      "<class 'float'>\n"
     ]
    }
   ],
   "source": [
    "width = 2.5\n",
    "print(type(width))"
   ]
  },
  {
   "attachments": {},
   "cell_type": "markdown",
   "metadata": {},
   "source": [
    "### List"
   ]
  },
  {
   "attachments": {},
   "cell_type": "markdown",
   "metadata": {},
   "source": [
    "list adalah wadah dengan ruang di dalamnya dibagi menjadi slot yang berbeda. Setiap slot dapat berisi nilai yang berbeda. Python menggunakan tanda kurung siku [] untuk menunjukkan di mana indeks dimulai dan diakhiri. List indeks dimulai dari 0, seperti string, juga dapat melakukan slicing untuk mengembalikan list lain."
   ]
  },
  {
   "cell_type": "code",
   "execution_count": 8,
   "metadata": {},
   "outputs": [
    {
     "name": "stdout",
     "output_type": "stream",
     "text": [
      "<class 'list'>\n",
      "[2020, 2021]\n",
      "2\n",
      "False\n",
      "2020\n",
      "[2020]\n",
      "2020\n",
      "2021\n"
     ]
    }
   ],
   "source": [
    "program_year = [2020, 2021]\n",
    "\n",
    "print(type(program_year))    # list\n",
    "print(program_year)\n",
    "print(len(program_year))     # 2\n",
    "print(2019 in program_year)  # False\n",
    "\n",
    "print(program_year[0])       # 2020\n",
    "print(program_year[:1])     # [2020]\n",
    "\n",
    "for year in program_year:\n",
    "    print(year)  # element per line\n"
   ]
  },
  {
   "attachments": {},
   "cell_type": "markdown",
   "metadata": {},
   "source": [
    "Jika string tidak dapat diubah, list dapat diubah, artinya dapat menambah, menghapus, atau memodifikasi elemen dalam list.\n",
    "\n",
    "Gunakan append untuk menambah elemen terakhir. Untuk menambahkan indeks tertentu, gunakan insert. Untuk menghapus elemen, gunakan hapus dengan elemen atau pop dengan indeks.\n",
    "\n",
    "Untuk modifikasi elemen, ubah langsung ke indeks tertentu."
   ]
  },
  {
   "cell_type": "code",
   "execution_count": 9,
   "metadata": {},
   "outputs": [
    {
     "name": "stdout",
     "output_type": "stream",
     "text": [
      "['Datmin', 'Komstat', 'Peramalan']\n",
      "3\n",
      "['Datmin', 'Dasains', 'Komstat']\n",
      "['Datmin', 'Dasains', 'Komstat', 'Python']\n",
      "['Datmin', 'Dasains', 'Komstat']\n",
      "['Data Mining', 'Dasains', 'Komstat']\n"
     ]
    }
   ],
   "source": [
    "paths = ['Datmin', 'Komstat']\n",
    "paths.append('Peramalan')\n",
    "print(paths)  # ['Datmin', 'Komstat', 'Peramalan']\n",
    "print(len(paths))  # 3\n",
    "paths.remove('Peramalan')\n",
    "paths.insert(1, 'Dasains')\n",
    "\n",
    "# ['Datmin', 'Dasains', 'Komstat']\n",
    "print(paths)\n",
    "paths.append('Python')\n",
    "print(paths)  # ['Datmin', 'Dasains', 'Komstat', 'Python']\n",
    "paths.pop(-1)  # remove 'Python'\n",
    "print(paths)  # ['Datmin', 'Dasains', 'Komstat']\n",
    "\n",
    "# change 'Datmin' to 'Data Mining'\n",
    "paths[0] = 'Data Mining'\n",
    "print(paths)\n"
   ]
  },
  {
   "attachments": {},
   "cell_type": "markdown",
   "metadata": {},
   "source": [
    "### Tuple"
   ]
  },
  {
   "attachments": {},
   "cell_type": "markdown",
   "metadata": {},
   "source": [
    "Tuple seperti list. Mereka dapat berisi elemen dari tipe data apa pun. Tapi, tidak seperti list, tupel tidak dapat diubah. Python menggunakan tanda kurung () untuk menunjukkan di mana tuple dimulai dan diakhiri. Contoh tuple yang bagus adalah ketika suatu fungsi mengembalikan banyak nilai. String, list, dan Tuple disertakan sebagai tipe urutan. Dalam python dapat dituliskan sebagai berikut :"
   ]
  },
  {
   "cell_type": "code",
   "execution_count": 10,
   "metadata": {},
   "outputs": [
    {
     "name": "stdout",
     "output_type": "stream",
     "text": [
      "(1, 3, 5, 7)\n",
      "<class 'tuple'>\n"
     ]
    }
   ],
   "source": [
    "stat = (1, 3, 5, 7)\n",
    "print(stat)  # (1, 3, 5, 7)\n",
    "print(type(stat))  # tuple"
   ]
  },
  {
   "attachments": {},
   "cell_type": "markdown",
   "metadata": {},
   "source": [
    "### Dictionary"
   ]
  },
  {
   "attachments": {},
   "cell_type": "markdown",
   "metadata": {},
   "source": [
    "Seperti list, dictionary digunakan untuk mengatur elemen ke dalam koleksi. Tidak seperti list, dictionary tidak mengakses elemen di dalam menggunakan posisi (indeks). Data di dalam dictionary berbentuk pasangan key dan value. Untuk mendapatkan value dari dictionary, gunakan key yang sesuai. Tidak seperti indeks list harus berupa angka, tipe key dalam dictionary menggunakan string, bilangan bulat, tupel & lainnya. dictionary menggunakan kurung kurawal {}."
   ]
  },
  {
   "cell_type": "code",
   "execution_count": 11,
   "metadata": {},
   "outputs": [
    {
     "name": "stdout",
     "output_type": "stream",
     "text": [
      "<class 'dict'>\n",
      "30\n",
      "komstat 2: 60\n",
      "data mining: 90\n",
      "peramalan: 30\n"
     ]
    }
   ],
   "source": [
    "students = {\n",
    "    'komstat 2': 60,\n",
    "    'data mining': 90,\n",
    "    'peramalan': 30\n",
    "}\n",
    "print(type(students))     # dict\n",
    "print(students['peramalan'])  # 30\n",
    "\n",
    "# keys: ['komstat', 'data mining', 'peramalan']\n",
    "for key in students.keys():\n",
    "    # eg: komstat 2:60\n",
    "    print(key + ': '+ str(students[key]))"
   ]
  },
  {
   "attachments": {},
   "cell_type": "markdown",
   "metadata": {},
   "source": [
    "# Function"
   ]
  },
  {
   "attachments": {},
   "cell_type": "markdown",
   "metadata": {},
   "source": [
    "Fungsi adalah blok kode yang hanya berjalan saat dipanggil. kita dapat meneruskan data, yang dikenal sebagai parameter, ke dalam suatu fungsi. Suatu fungsi dapat mengembalikan data sebagai hasilnya. Dalam Python fungsi memiliki beberapa aturan yaitu : \n",
    "* Tentukan fungsi dengan kata kunci def.\n",
    "* Fungsi memiliki badan, ditulis sebagai blok setelah titik dua dalam definisi fungsi. Blok telah menjorok ke kanan.\n",
    "* Untuk mendapatkan nilai dari suatu fungsi gunakan kata kunci return.\n"
   ]
  },
  {
   "cell_type": "code",
   "execution_count": 12,
   "metadata": {},
   "outputs": [
    {
     "name": "stdout",
     "output_type": "stream",
     "text": [
      "Hello, komstat 2\n",
      "Hello, Komstat 2 2024\n"
     ]
    }
   ],
   "source": [
    "def greeting(name='komstat 2'):\n",
    "  return 'Hello, ' + name\n",
    "\n",
    "print(greeting())\n",
    "print(greeting(name=\"Komstat 2 2024\"))"
   ]
  },
  {
   "attachments": {},
   "cell_type": "markdown",
   "metadata": {},
   "source": [
    "# Control Flow"
   ]
  },
  {
   "attachments": {},
   "cell_type": "markdown",
   "metadata": {},
   "source": [
    "Barisan perintah dalam Python biasanya di eksekusi baris per baris. Dalam Python, barisan perintah dipisahkan dengan : diikuti dengan spasi dan indentasi sebagai satu group dipandang sebagai satu ekspresi tunggal dalam Python, tetapi barisan ekspresi yang dinyatakan dalam bentuk grup ini juga di execute baris perbaris. Untuk mengatur proses eksekusi, diperlukan perintah - perintah control flow. Bentuk control flow ini akan banyak digunakan dalam menulis suatu fungsi yang dibentuk oleh user. Beberapa perintah control flow yang dikenal di dalam Python sebagai berikut\n"
   ]
  },
  {
   "attachments": {},
   "cell_type": "markdown",
   "metadata": {},
   "source": [
    "# If Statement"
   ]
  },
  {
   "cell_type": "code",
   "execution_count": 13,
   "metadata": {},
   "outputs": [
    {
     "name": "stdout",
     "output_type": "stream",
     "text": [
      "Positive\n"
     ]
    }
   ],
   "source": [
    "def check(number):\n",
    "    if number > 0:\n",
    "        return \"Positive\"\n",
    "    elif number == 0:\n",
    "        return \"Zero\"\n",
    "    else: \n",
    "        return \"Negative\"\n",
    "\n",
    "print(check(number=10)) # Positive"
   ]
  },
  {
   "attachments": {},
   "cell_type": "markdown",
   "metadata": {},
   "source": [
    "## Match"
   ]
  },
  {
   "attachments": {},
   "cell_type": "markdown",
   "metadata": {},
   "source": [
    "Akan dievaluasi dari nilai expression, yang bernilai karakter atau numerik Nilai dari expression dibandingkan dengan nilai dari argumen setelahnya, jika cocok dengan salah satu, nilai dari argumen tersebut kemudian dimunculkan sebagai nilai dari fungsi switch. Fungsi ini dapat menggantikan nested if untuk melakukan multiple conditional."
   ]
  },
  {
   "cell_type": "code",
   "execution_count": 15,
   "metadata": {},
   "outputs": [
    {
     "name": "stdout",
     "output_type": "stream",
     "text": [
      "The language doesn't matter, what matters is solving problems.\n"
     ]
    }
   ],
   "source": [
    "lang = input(\"What's the programming language you want to learn? \")\n",
    "\n",
    "match lang:\n",
    "    case \"JavaScript\":\n",
    "        print(\"You can become a web developer.\")\n",
    "\n",
    "    case \"Python\":\n",
    "        print(\"You can become a Data Scientist\")\n",
    "\n",
    "    case \"PHP\":\n",
    "        print(\"You can become a backend developer\")\n",
    "    \n",
    "    case \"Solidity\":\n",
    "        print(\"You can become a Blockchain developer\")\n",
    "\n",
    "    case \"Java\":\n",
    "        print(\"You can become a mobile app developer\")\n",
    "    case _:\n",
    "        print(\"The language doesn't matter, what matters is solving problems.\")"
   ]
  },
  {
   "attachments": {},
   "cell_type": "markdown",
   "metadata": {},
   "source": [
    "## For Loops"
   ]
  },
  {
   "attachments": {},
   "cell_type": "markdown",
   "metadata": {},
   "source": [
    "Syntax dasar fungsi sebagai berikut: <br/><br/>\n",
    "for name in expression1: <br/>\n",
    "&nbsp;&nbsp;&nbsp;&nbsp; expression2 <br/><br/>\n",
    "Pertama akan dievaluasi nilai dari expression2 untuk setiap nilai di suatu barisan index di expression1. Dalam python dapat dituliskan sebagai berikut :\n"
   ]
  },
  {
   "cell_type": "code",
   "execution_count": 16,
   "metadata": {},
   "outputs": [
    {
     "name": "stdout",
     "output_type": "stream",
     "text": [
      "x =0\n",
      "x =1\n",
      "x =2\n",
      "x =3\n"
     ]
    }
   ],
   "source": [
    "for x in range(4):\n",
    "  print(\"x =\" + str(x))"
   ]
  },
  {
   "attachments": {},
   "cell_type": "markdown",
   "metadata": {},
   "source": [
    "## While"
   ]
  },
  {
   "attachments": {},
   "cell_type": "markdown",
   "metadata": {},
   "source": [
    "Syntax dasar statement adalah sebagai berikut:\n",
    "<br/><br/>\n",
    "while <condition>:<br/>\n",
    "&nbsp;&nbsp;&nbsp;&nbsp;# Jika kondisi benar<br/>\n",
    "&nbsp;&nbsp;&nbsp;&nbsp;run_this_statement\n",
    "<br/><br/>\n",
    "Evaluasi nilai boolean dari condition, jika TRUE maka evaluasi nilai run_this_statement, kemudian kembali ke awal untuk mengevaluasi run_this_statement lagi. Dalam python dapat dituliskan sebagai berikut :\n"
   ]
  },
  {
   "cell_type": "code",
   "execution_count": 17,
   "metadata": {},
   "outputs": [
    {
     "name": "stdout",
     "output_type": "stream",
     "text": [
      "positive x=7\n",
      "now x=6\n",
      "positive x=6\n",
      "now x=5\n",
      "positive x=5\n",
      "now x=4\n",
      "positive x=4\n",
      "now x=3\n",
      "positive x=3\n",
      "now x=2\n",
      "positive x=2\n",
      "now x=1\n",
      "positive x=1\n",
      "now x=0\n"
     ]
    }
   ],
   "source": [
    "x = 7  # also try with x = 0\n",
    "\n",
    "while x > 0:\n",
    "  print(\"positive x=\" + str(x))\n",
    "  x = x - 1\n",
    "  print(\"now x=\" + str(x))"
   ]
  },
  {
   "attachments": {},
   "cell_type": "markdown",
   "metadata": {},
   "source": [
    "# Data Frame"
   ]
  },
  {
   "attachments": {},
   "cell_type": "markdown",
   "metadata": {},
   "source": [
    "# Matrix"
   ]
  },
  {
   "attachments": {},
   "cell_type": "markdown",
   "metadata": {},
   "source": [
    "Matrix pada python merupakan sebuah n dimensional array yang menyimpan data pada $Row$ dan $Column$. Data didalam matrix dapat bertipe numbers, strings, expressions, symbols, etc."
   ]
  },
  {
   "cell_type": "code",
   "execution_count": 18,
   "metadata": {},
   "outputs": [
    {
     "name": "stdout",
     "output_type": "stream",
     "text": [
      "[[2, 3], [4, 6]]\n"
     ]
    }
   ],
   "source": [
    "#Membuat Matrix dengan metode Nested List\n",
    "matrix = [[2,3], [4,6]]\n",
    "\n",
    "print(matrix)"
   ]
  },
  {
   "cell_type": "code",
   "execution_count": 19,
   "metadata": {},
   "outputs": [
    {
     "name": "stdout",
     "output_type": "stream",
     "text": [
      "[[2 3]\n",
      " [4 6]]\n"
     ]
    }
   ],
   "source": [
    "import numpy as np\n",
    "matrix=np.matrix(matrix)\n",
    "print(matrix)"
   ]
  },
  {
   "attachments": {},
   "cell_type": "markdown",
   "metadata": {},
   "source": [
    "> Pada code diatas memperlihatkan matrix tersebut memiliki 2 Rows dan 2 column\n",
    "> Data didalam matrix tersebut merupakan $Number$\n",
    "> Kolom pertama memiliki value `2,4` dan Kolom kedua memiliki value `3,6`"
   ]
  },
  {
   "attachments": {},
   "cell_type": "markdown",
   "metadata": {},
   "source": [
    "## Nested List"
   ]
  },
  {
   "attachments": {},
   "cell_type": "markdown",
   "metadata": {},
   "source": [
    "Dalam Python arrays direpresentasikan dengan menggunakan `list` data type <br><br>\n",
    "Dan Nested list atau list didalam list, dapat digunakan untuk membuat matrix"
   ]
  },
  {
   "cell_type": "code",
   "execution_count": 20,
   "metadata": {},
   "outputs": [
    {
     "name": "stdout",
     "output_type": "stream",
     "text": [
      "mat1\n",
      "[[2, 3], [4, 6]]\n",
      "\n",
      "mat2\n",
      "[[4.3, 2.3, 20.3, 234], [1.3, 7.5, 10.3, 124], [9.0, 12.3, 4.8, 0.2], [7.9, 3.7, 5.8, 234], [8.7, 0.5, 3.4, 788]]\n",
      "\n",
      "mat3\n",
      "[[4, 8, 9], [8, 0, 9]]\n",
      "\n",
      "mat4\n",
      "[[0, 1, 2, 3, 4], [0, 1, 2, 3, 4], [0, 1, 2, 3, 4], [0, 1, 2, 3, 4], [0, 1, 2, 3, 4]]\n"
     ]
    }
   ],
   "source": [
    "#Matrix 2 x 2\n",
    "mat1 = [[2, 3], [4, 6]]\n",
    "\n",
    "#Matrix 4x5\n",
    "mat2 = [[4.3, 2.3, 20.3,234], \n",
    "        [1.3, 7.5, 10.3,124],\n",
    "        [9.0, 12.3, 4.8,0.2],\n",
    "        [7.9, 3.7, 5.8,234],\n",
    "        [8.7, 0.5, 3.4,788]]\n",
    "\n",
    "#Callback Multiple list\n",
    "first_row = [4, 8, 9]\n",
    "second_row = [8, 0, 9]\n",
    "mat3 = [first_row, second_row]\n",
    "\n",
    "#Loop Matrix\n",
    "mat4 = []\n",
    "for i in range(5):\n",
    "    mat4.append([])  \n",
    "    for j in range(5):\n",
    "        mat4[i].append(j)\n",
    "\n",
    "print(f\"mat1\\n{mat1}\\n\\nmat2\\n{mat2}\\n\\nmat3\\n{mat3}\\n\\nmat4\\n{mat4}\")"
   ]
  },
  {
   "cell_type": "code",
   "execution_count": 20,
   "metadata": {},
   "outputs": [
    {
     "data": {
      "text/plain": [
       "array([[4, 8, 9],\n",
       "       [8, 0, 9]])"
      ]
     },
     "execution_count": 20,
     "metadata": {},
     "output_type": "execute_result"
    }
   ],
   "source": [
    "\"\"\"# Convert list to array\n",
    "import numpy as np\n",
    "mat3 = np.array(mat3)\n",
    "mat3\"\"\""
   ]
  },
  {
   "attachments": {},
   "cell_type": "markdown",
   "metadata": {},
   "source": [
    "Untuk Membaca matrix dalam bentuk Nested List kita dapat membacanya seperti kita memanggil list"
   ]
  },
  {
   "cell_type": "code",
   "execution_count": 21,
   "metadata": {},
   "outputs": [
    {
     "data": {
      "text/plain": [
       "[[4, 8, 9], [8, 0, 9]]"
      ]
     },
     "execution_count": 21,
     "metadata": {},
     "output_type": "execute_result"
    }
   ],
   "source": [
    "mat3"
   ]
  },
  {
   "cell_type": "code",
   "execution_count": 22,
   "metadata": {},
   "outputs": [
    {
     "name": "stdout",
     "output_type": "stream",
     "text": [
      "Membaca spesifik Baris\n",
      "[4, 8, 9]\n",
      "\n",
      "Membaca spesifik value\n",
      "8\n",
      "\n",
      "Membaca spesifik Kolom\n",
      "[8, 0]\n"
     ]
    }
   ],
   "source": [
    "#Membaca spesifik baris\n",
    "print(\"Membaca spesifik Baris\")\n",
    "print(f\"{mat3[0]}\\n\")\n",
    "\n",
    "#Membaca spesifik value\n",
    "print(\"Membaca spesifik value\")\n",
    "print(f\"{mat3[0][1]}\\n\")\n",
    "\n",
    "#Membaca spesifik kolom\n",
    "print(\"Membaca spesifik Kolom\")\n",
    "print([col[1] for col in mat3])"
   ]
  },
  {
   "attachments": {},
   "cell_type": "markdown",
   "metadata": {},
   "source": [
    "### Matrix Comprehension"
   ]
  },
  {
   "attachments": {},
   "cell_type": "markdown",
   "metadata": {},
   "source": [
    "List Comprehension merupakan sebuah feature pada python yang sangat membantu dalam membuat sebuah list dengan iterasi sebuah object. Nested list comprehension tidak jauh beda dengan List comprehension, dimana sifat logikanya sama seperti nested untuk loops"
   ]
  },
  {
   "attachments": {},
   "cell_type": "markdown",
   "metadata": {},
   "source": [
    "Dalam Pembuatan Nested Loop Matrix dapat dilihat Code yang dipakai <br>\n",
    "```\n",
    "{\n",
    "mat4 = []\n",
    "for i in range(5):\n",
    "    mat4.append([])  \n",
    "    for j in range(5):\n",
    "        mat4[i].append(j)\n",
    "}\n",
    "```\n",
    "\n",
    "dan dengan memakai Nested List Comprehension dapat dibuat Seperti ini\n",
    "```\n",
    "{\n",
    "mat4 = [[j for j in range(5)] for i in range(5)]\n",
    "}\n",
    "```\n",
    "dan keduanya akan menghasilkan output yang sama, yaitu\n",
    "```\n",
    "[[0, 1, 2, 3, 4], [0, 1, 2, 3, 4], [0, 1, 2, 3, 4], [0, 1, 2, 3, 4], [0, 1, 2, 3, 4]]\n",
    "```"
   ]
  },
  {
   "attachments": {},
   "cell_type": "markdown",
   "metadata": {},
   "source": [
    "### Operasi pada Nested List Matrix"
   ]
  },
  {
   "cell_type": "code",
   "execution_count": 24,
   "metadata": {},
   "outputs": [],
   "source": [
    "X = [[12,7,3],\n",
    "    [4 ,5,6],\n",
    "    [7 ,8,9]]\n",
    "\n",
    "Y = [[5,8,1],\n",
    "    [6,7,3],\n",
    "    [4,5,9]]"
   ]
  },
  {
   "cell_type": "code",
   "execution_count": 25,
   "metadata": {},
   "outputs": [
    {
     "name": "stdout",
     "output_type": "stream",
     "text": [
      "Penjumlahan\n",
      "[[17, 15, 4], [10, 12, 9], [11, 13, 18]]\n"
     ]
    }
   ],
   "source": [
    "# Penjumlahan\n",
    "penjumlahan = [[X[i][j] + Y[i][j]  for j in range(len(X[0]))] for i in range(len(X))]\n",
    "print(f'Penjumlahan\\n{penjumlahan}')"
   ]
  },
  {
   "cell_type": "code",
   "execution_count": 26,
   "metadata": {},
   "outputs": [
    {
     "name": "stdout",
     "output_type": "stream",
     "text": [
      "Perkalian\n",
      "[[114, 160, 60], [74, 97, 73], [119, 157, 112]]\n"
     ]
    }
   ],
   "source": [
    "# Perkalian\n",
    "perkalian = [[sum(X*Y for X,Y in zip(X_row,Y_col)) for Y_col in zip(*Y)] for X_row in X]\n",
    "print(f'Perkalian\\n{perkalian}')"
   ]
  },
  {
   "cell_type": "code",
   "execution_count": 27,
   "metadata": {},
   "outputs": [
    {
     "name": "stdout",
     "output_type": "stream",
     "text": [
      "Before Transpose\n",
      "[[12, 7, 3], [4, 5, 6], [7, 8, 9]]\n",
      "After Transpose\n",
      "[[12, 4, 7], [7, 5, 8], [3, 6, 9]]\n"
     ]
    }
   ],
   "source": [
    "# Transpose\n",
    "transpose = [[X[j][i] for j in range(len(X))] for i in range(len(X[0]))]\n",
    "print(f'Before Transpose\\n{X}')\n",
    "print(f'After Transpose\\n{transpose}')"
   ]
  },
  {
   "cell_type": "code",
   "execution_count": 28,
   "metadata": {},
   "outputs": [
    {
     "name": "stdout",
     "output_type": "stream",
     "text": [
      "Before Transpose\n",
      "[[12  7  3]\n",
      " [ 4  5  6]\n",
      " [ 7  8  9]]\n",
      "After Transpose\n",
      "[[12  4  7]\n",
      " [ 7  5  8]\n",
      " [ 3  6  9]]\n"
     ]
    }
   ],
   "source": [
    "# Convert matrix to array\n",
    "import numpy as np\n",
    "X_array=np.array(X)\n",
    "# Transpose\n",
    "transpose_array = X_array.T\n",
    "print(f'Before Transpose\\n{X_array}')\n",
    "print(f'After Transpose\\n{transpose_array}')"
   ]
  },
  {
   "attachments": {},
   "cell_type": "markdown",
   "metadata": {},
   "source": [
    "## Module Numpy"
   ]
  },
  {
   "cell_type": "code",
   "execution_count": 30,
   "metadata": {},
   "outputs": [
    {
     "name": "stdout",
     "output_type": "stream",
     "text": [
      "Requirement already satisfied: numpy in c:\\python312\\lib\\site-packages (2.0.0)\n"
     ]
    },
    {
     "name": "stderr",
     "output_type": "stream",
     "text": [
      "\n",
      "[notice] A new release of pip is available: 24.0 -> 24.2\n",
      "[notice] To update, run: C:\\Python312\\python.exe -m pip install --upgrade pip\n"
     ]
    }
   ],
   "source": [
    "#Install Module\n",
    "!pip install numpy"
   ]
  },
  {
   "cell_type": "code",
   "execution_count": 31,
   "metadata": {},
   "outputs": [],
   "source": [
    "import numpy as np"
   ]
  },
  {
   "cell_type": "code",
   "execution_count": 29,
   "metadata": {},
   "outputs": [
    {
     "name": "stdout",
     "output_type": "stream",
     "text": [
      "mat1\n",
      "[[2 3]\n",
      " [4 6]]\n",
      "\n",
      "mat2\n",
      "[[4.30e+00 2.30e+00 2.03e+01 2.34e+02]\n",
      " [1.30e+00 7.50e+00 1.03e+01 1.24e+02]\n",
      " [9.00e+00 1.23e+01 4.80e+00 2.00e-01]\n",
      " [7.90e+00 3.70e+00 5.80e+00 2.34e+02]\n",
      " [8.70e+00 5.00e-01 3.40e+00 7.88e+02]]\n",
      "\n",
      "mat3\n",
      "[[4 8 9]\n",
      " [8 0 9]]\n",
      "\n",
      "mat4\n",
      "[[0 1 2 3 4]\n",
      " [0 1 2 3 4]\n",
      " [0 1 2 3 4]\n",
      " [0 1 2 3 4]\n",
      " [0 1 2 3 4]]\n"
     ]
    }
   ],
   "source": [
    "#Make the Matrix\n",
    "mat1 = np.array([[2, 3], [4, 6]])\n",
    "\n",
    "#Calling Existing Array\n",
    "mat2, mat3, mat4 = np.array(mat2), np.array(mat3), np.array(mat4)\n",
    "\n",
    "print(f\"mat1\\n{mat1}\\n\\nmat2\\n{mat2}\\n\\nmat3\\n{mat3}\\n\\nmat4\\n{mat4}\")\n"
   ]
  },
  {
   "attachments": {},
   "cell_type": "markdown",
   "metadata": {},
   "source": [
    "### Read Matrix"
   ]
  },
  {
   "cell_type": "code",
   "execution_count": 30,
   "metadata": {},
   "outputs": [
    {
     "data": {
      "text/plain": [
       "array([[4, 8, 9],\n",
       "       [8, 0, 9]])"
      ]
     },
     "execution_count": 30,
     "metadata": {},
     "output_type": "execute_result"
    }
   ],
   "source": [
    "mat3"
   ]
  },
  {
   "cell_type": "code",
   "execution_count": 31,
   "metadata": {},
   "outputs": [
    {
     "name": "stdout",
     "output_type": "stream",
     "text": [
      "Membaca spesifik Baris\n",
      "[4 8 9]\n",
      "\n",
      "Membaca spesifik value\n",
      "8\n",
      "\n",
      "Membaca spesifik Kolom\n",
      "[8 0]\n"
     ]
    }
   ],
   "source": [
    "#Membaca spesifik baris\n",
    "print(\"Membaca spesifik Baris\")\n",
    "print(f\"{mat3[0, :]}\\n\")\n",
    "\n",
    "#Membaca spesifik value\n",
    "print(\"Membaca spesifik value\")\n",
    "print(f\"{mat3[0][1]}\\n\")\n",
    "\n",
    "#Membaca spesifik kolom\n",
    "print(\"Membaca spesifik Kolom\")\n",
    "print(mat3[:, 1])"
   ]
  },
  {
   "attachments": {},
   "cell_type": "markdown",
   "metadata": {},
   "source": [
    "### Operation"
   ]
  },
  {
   "cell_type": "code",
   "execution_count": 32,
   "metadata": {},
   "outputs": [],
   "source": [
    "X, Y = np.array(X), np.array(Y)"
   ]
  },
  {
   "cell_type": "code",
   "execution_count": 34,
   "metadata": {},
   "outputs": [
    {
     "name": "stdout",
     "output_type": "stream",
     "text": [
      "[[17 15  4]\n",
      " [10 12  9]\n",
      " [11 13 18]]\n"
     ]
    }
   ],
   "source": [
    "# Penjumlahan\n",
    "penjumlahan = X + Y\n",
    "print(penjumlahan)"
   ]
  },
  {
   "cell_type": "code",
   "execution_count": 35,
   "metadata": {},
   "outputs": [
    {
     "name": "stdout",
     "output_type": "stream",
     "text": [
      "[[60 56  3]\n",
      " [24 35 18]\n",
      " [28 40 81]]\n"
     ]
    }
   ],
   "source": [
    "# Perkalian\n",
    "perkalian = X * Y\n",
    "print(perkalian)"
   ]
  },
  {
   "cell_type": "code",
   "execution_count": 36,
   "metadata": {},
   "outputs": [
    {
     "name": "stdout",
     "output_type": "stream",
     "text": [
      "Before Transpose\n",
      "[[12  7  3]\n",
      " [ 4  5  6]\n",
      " [ 7  8  9]]\n",
      "After Transpose\n",
      "[[12  4  7]\n",
      " [ 7  5  8]\n",
      " [ 3  6  9]]\n"
     ]
    }
   ],
   "source": [
    "#Transpose\n",
    "transpose = np.transpose(X)\n",
    "print(f'Before Transpose\\n{X}')\n",
    "print(f'After Transpose\\n{transpose}')"
   ]
  },
  {
   "attachments": {},
   "cell_type": "markdown",
   "metadata": {},
   "source": [
    "# DataFrame"
   ]
  },
  {
   "cell_type": "code",
   "execution_count": 37,
   "metadata": {},
   "outputs": [
    {
     "name": "stdout",
     "output_type": "stream",
     "text": [
      "Requirement already satisfied: pandas in c:\\users\\hasan\\appdata\\local\\programs\\python\\python310\\lib\\site-packages (1.5.2)\n",
      "Requirement already satisfied: pytz>=2020.1 in c:\\users\\hasan\\appdata\\local\\programs\\python\\python310\\lib\\site-packages (from pandas) (2022.7)\n",
      "Requirement already satisfied: python-dateutil>=2.8.1 in c:\\users\\hasan\\appdata\\local\\programs\\python\\python310\\lib\\site-packages (from pandas) (2.8.2)\n",
      "Requirement already satisfied: numpy>=1.21.0 in c:\\users\\hasan\\appdata\\local\\programs\\python\\python310\\lib\\site-packages (from pandas) (1.23.5)\n",
      "Requirement already satisfied: six>=1.5 in c:\\users\\hasan\\appdata\\local\\programs\\python\\python310\\lib\\site-packages (from python-dateutil>=2.8.1->pandas) (1.16.0)\n",
      "Note: you may need to restart the kernel to use updated packages.\n"
     ]
    },
    {
     "name": "stderr",
     "output_type": "stream",
     "text": [
      "\n",
      "[notice] A new release of pip available: 22.3.1 -> 24.2\n",
      "[notice] To update, run: python.exe -m pip install --upgrade pip\n"
     ]
    },
    {
     "name": "stdout",
     "output_type": "stream",
     "text": [
      "Requirement already satisfied: matplotlib in c:\\users\\hasan\\appdata\\local\\programs\\python\\python310\\lib\\site-packages (3.6.2)\n",
      "Requirement already satisfied: fonttools>=4.22.0 in c:\\users\\hasan\\appdata\\local\\programs\\python\\python310\\lib\\site-packages (from matplotlib) (4.38.0)\n",
      "Requirement already satisfied: pyparsing>=2.2.1 in c:\\users\\hasan\\appdata\\local\\programs\\python\\python310\\lib\\site-packages (from matplotlib) (3.0.9)\n",
      "Requirement already satisfied: pillow>=6.2.0 in c:\\users\\hasan\\appdata\\local\\programs\\python\\python310\\lib\\site-packages (from matplotlib) (9.3.0)\n",
      "Requirement already satisfied: packaging>=20.0 in c:\\users\\hasan\\appdata\\local\\programs\\python\\python310\\lib\\site-packages (from matplotlib) (21.3)\n",
      "Requirement already satisfied: numpy>=1.19 in c:\\users\\hasan\\appdata\\local\\programs\\python\\python310\\lib\\site-packages (from matplotlib) (1.23.5)\n",
      "Requirement already satisfied: contourpy>=1.0.1 in c:\\users\\hasan\\appdata\\local\\programs\\python\\python310\\lib\\site-packages (from matplotlib) (1.0.6)\n",
      "Requirement already satisfied: cycler>=0.10 in c:\\users\\hasan\\appdata\\local\\programs\\python\\python310\\lib\\site-packages (from matplotlib) (0.11.0)\n",
      "Requirement already satisfied: python-dateutil>=2.7 in c:\\users\\hasan\\appdata\\local\\programs\\python\\python310\\lib\\site-packages (from matplotlib) (2.8.2)\n",
      "Requirement already satisfied: kiwisolver>=1.0.1 in c:\\users\\hasan\\appdata\\local\\programs\\python\\python310\\lib\\site-packages (from matplotlib) (1.4.4)\n",
      "Requirement already satisfied: six>=1.5 in c:\\users\\hasan\\appdata\\local\\programs\\python\\python310\\lib\\site-packages (from python-dateutil>=2.7->matplotlib) (1.16.0)\n",
      "Note: you may need to restart the kernel to use updated packages.\n"
     ]
    },
    {
     "name": "stderr",
     "output_type": "stream",
     "text": [
      "\n",
      "[notice] A new release of pip available: 22.3.1 -> 24.2\n",
      "[notice] To update, run: python.exe -m pip install --upgrade pip\n"
     ]
    }
   ],
   "source": [
    "%pip install pandas\n",
    "%pip install matplotlib"
   ]
  },
  {
   "cell_type": "code",
   "execution_count": 38,
   "metadata": {},
   "outputs": [],
   "source": [
    "import pandas as pd"
   ]
  },
  {
   "attachments": {},
   "cell_type": "markdown",
   "metadata": {},
   "source": [
    "## 1. Membentuk DataFrame dari sebuah dictionary\n",
    "\n",
    "Perhatikan tipe data yang akan digunakan. Pada contoh di bawah ini, kolom Nilai adalah Integer.\n",
    "\n",
    "Tidak disarankan untuk menggunakan spasi (whitespace) pada penamaan kolom/baris.\n",
    "\n",
    "DataFrame juga dapat dibentuk dari sebuah numpy array. Cukup ubah argumen dictionary dibawah menjadi numpy array yang diinginkan, kemudian tambahkan argumen columns untuk memberi nama kolom."
   ]
  },
  {
   "cell_type": "code",
   "execution_count": 42,
   "metadata": {},
   "outputs": [
    {
     "data": {
      "text/html": [
       "<div>\n",
       "<style scoped>\n",
       "    .dataframe tbody tr th:only-of-type {\n",
       "        vertical-align: middle;\n",
       "    }\n",
       "\n",
       "    .dataframe tbody tr th {\n",
       "        vertical-align: top;\n",
       "    }\n",
       "\n",
       "    .dataframe thead th {\n",
       "        text-align: right;\n",
       "    }\n",
       "</style>\n",
       "<table border=\"1\" class=\"dataframe\">\n",
       "  <thead>\n",
       "    <tr style=\"text-align: right;\">\n",
       "      <th></th>\n",
       "      <th>Nama</th>\n",
       "      <th>NIM</th>\n",
       "      <th>Nilai</th>\n",
       "    </tr>\n",
       "  </thead>\n",
       "  <tbody>\n",
       "    <tr>\n",
       "      <th>0</th>\n",
       "      <td>Mas Iqbal</td>\n",
       "      <td>19/PA/007</td>\n",
       "      <td>90</td>\n",
       "    </tr>\n",
       "    <tr>\n",
       "      <th>1</th>\n",
       "      <td>Riifat</td>\n",
       "      <td>20/PI/008</td>\n",
       "      <td>70</td>\n",
       "    </tr>\n",
       "    <tr>\n",
       "      <th>2</th>\n",
       "      <td>Zayn</td>\n",
       "      <td>21/PU/009</td>\n",
       "      <td>50</td>\n",
       "    </tr>\n",
       "    <tr>\n",
       "      <th>3</th>\n",
       "      <td>Zuko</td>\n",
       "      <td>22/PE/010</td>\n",
       "      <td>30</td>\n",
       "    </tr>\n",
       "  </tbody>\n",
       "</table>\n",
       "</div>"
      ],
      "text/plain": [
       "        Nama        NIM  Nilai\n",
       "0  Mas Iqbal  19/PA/007     90\n",
       "1     Riifat  20/PI/008     70\n",
       "2       Zayn  21/PU/009     50\n",
       "3       Zuko  22/PE/010     30"
      ]
     },
     "execution_count": 42,
     "metadata": {},
     "output_type": "execute_result"
    }
   ],
   "source": [
    "pd.DataFrame(\n",
    "  {\n",
    "    'Nama' : ['Mas Iqbal', 'Riifat', 'Zayn', 'Zuko'],\n",
    "    'NIM' : ['19/PA/007', '20/PI/008', '21/PU/009', '22/PE/010'],\n",
    "    'Nilai' : [90, 70, 50, 30]\n",
    "  }\n",
    ")"
   ]
  },
  {
   "cell_type": "code",
   "execution_count": 44,
   "metadata": {},
   "outputs": [
    {
     "name": "stdout",
     "output_type": "stream",
     "text": [
      "        Nama        NIM  Nilai\n",
      "0  Mas Iqbal  19/PA/007     90\n",
      "1     Riifat  20/PI/008     70\n",
      "2       Zayn  21/PU/009     50\n",
      "3       Zuko  22/PE/010     30\n"
     ]
    }
   ],
   "source": [
    "data_mahasiswa = {\n",
    "    'Nama' : ['Mas Iqbal', 'Riifat', 'Zayn', 'Zuko'],\n",
    "    'NIM' : ['19/PA/007', '20/PI/008', '21/PU/009', '22/PE/010'],\n",
    "    'Nilai' : [90, 70, 50, 30]\n",
    "  }\n",
    "dataku = pd.DataFrame(data_mahasiswa)\n",
    "print(dataku)"
   ]
  },
  {
   "cell_type": "code",
   "execution_count": 45,
   "metadata": {},
   "outputs": [
    {
     "data": {
      "text/html": [
       "<div>\n",
       "<style scoped>\n",
       "    .dataframe tbody tr th:only-of-type {\n",
       "        vertical-align: middle;\n",
       "    }\n",
       "\n",
       "    .dataframe tbody tr th {\n",
       "        vertical-align: top;\n",
       "    }\n",
       "\n",
       "    .dataframe thead th {\n",
       "        text-align: right;\n",
       "    }\n",
       "</style>\n",
       "<table border=\"1\" class=\"dataframe\">\n",
       "  <thead>\n",
       "    <tr style=\"text-align: right;\">\n",
       "      <th></th>\n",
       "      <th>Nama</th>\n",
       "      <th>NIM</th>\n",
       "      <th>Nilai</th>\n",
       "    </tr>\n",
       "  </thead>\n",
       "  <tbody>\n",
       "    <tr>\n",
       "      <th>0</th>\n",
       "      <td>Mas Iqbal</td>\n",
       "      <td>19/PA/007</td>\n",
       "      <td>90</td>\n",
       "    </tr>\n",
       "    <tr>\n",
       "      <th>1</th>\n",
       "      <td>Riifat</td>\n",
       "      <td>20/PI/008</td>\n",
       "      <td>70</td>\n",
       "    </tr>\n",
       "  </tbody>\n",
       "</table>\n",
       "</div>"
      ],
      "text/plain": [
       "        Nama        NIM  Nilai\n",
       "0  Mas Iqbal  19/PA/007     90\n",
       "1     Riifat  20/PI/008     70"
      ]
     },
     "execution_count": 45,
     "metadata": {},
     "output_type": "execute_result"
    }
   ],
   "source": [
    "dataku.head(2)"
   ]
  },
  {
   "cell_type": "code",
   "execution_count": 46,
   "metadata": {},
   "outputs": [
    {
     "data": {
      "text/html": [
       "<div>\n",
       "<style scoped>\n",
       "    .dataframe tbody tr th:only-of-type {\n",
       "        vertical-align: middle;\n",
       "    }\n",
       "\n",
       "    .dataframe tbody tr th {\n",
       "        vertical-align: top;\n",
       "    }\n",
       "\n",
       "    .dataframe thead th {\n",
       "        text-align: right;\n",
       "    }\n",
       "</style>\n",
       "<table border=\"1\" class=\"dataframe\">\n",
       "  <thead>\n",
       "    <tr style=\"text-align: right;\">\n",
       "      <th></th>\n",
       "      <th>Nama</th>\n",
       "      <th>NIM</th>\n",
       "      <th>Nilai</th>\n",
       "    </tr>\n",
       "  </thead>\n",
       "  <tbody>\n",
       "    <tr>\n",
       "      <th>2</th>\n",
       "      <td>Zayn</td>\n",
       "      <td>21/PU/009</td>\n",
       "      <td>50</td>\n",
       "    </tr>\n",
       "    <tr>\n",
       "      <th>3</th>\n",
       "      <td>Zuko</td>\n",
       "      <td>22/PE/010</td>\n",
       "      <td>30</td>\n",
       "    </tr>\n",
       "  </tbody>\n",
       "</table>\n",
       "</div>"
      ],
      "text/plain": [
       "   Nama        NIM  Nilai\n",
       "2  Zayn  21/PU/009     50\n",
       "3  Zuko  22/PE/010     30"
      ]
     },
     "execution_count": 46,
     "metadata": {},
     "output_type": "execute_result"
    }
   ],
   "source": [
    "dataku.tail(2)"
   ]
  },
  {
   "cell_type": "code",
   "execution_count": 47,
   "metadata": {},
   "outputs": [
    {
     "data": {
      "text/html": [
       "<div>\n",
       "<style scoped>\n",
       "    .dataframe tbody tr th:only-of-type {\n",
       "        vertical-align: middle;\n",
       "    }\n",
       "\n",
       "    .dataframe tbody tr th {\n",
       "        vertical-align: top;\n",
       "    }\n",
       "\n",
       "    .dataframe thead th {\n",
       "        text-align: right;\n",
       "    }\n",
       "</style>\n",
       "<table border=\"1\" class=\"dataframe\">\n",
       "  <thead>\n",
       "    <tr style=\"text-align: right;\">\n",
       "      <th></th>\n",
       "      <th>A</th>\n",
       "      <th>B</th>\n",
       "      <th>C</th>\n",
       "    </tr>\n",
       "  </thead>\n",
       "  <tbody>\n",
       "    <tr>\n",
       "      <th>10</th>\n",
       "      <td>1</td>\n",
       "      <td>2</td>\n",
       "      <td>3</td>\n",
       "    </tr>\n",
       "    <tr>\n",
       "      <th>20</th>\n",
       "      <td>3</td>\n",
       "      <td>4</td>\n",
       "      <td>5</td>\n",
       "    </tr>\n",
       "    <tr>\n",
       "      <th>30</th>\n",
       "      <td>7</td>\n",
       "      <td>1</td>\n",
       "      <td>3</td>\n",
       "    </tr>\n",
       "  </tbody>\n",
       "</table>\n",
       "</div>"
      ],
      "text/plain": [
       "    A  B  C\n",
       "10  1  2  3\n",
       "20  3  4  5\n",
       "30  7  1  3"
      ]
     },
     "execution_count": 47,
     "metadata": {},
     "output_type": "execute_result"
    }
   ],
   "source": [
    "# Menggunakan np array\n",
    "import numpy as np\n",
    "\n",
    "pd.DataFrame(np.array([\n",
    "    (1,2,3),\n",
    "    (3,4,5),\n",
    "    (7,1,3)\n",
    "]), columns = ['A', 'B', 'C'], index = [10, 20, 30])"
   ]
  },
  {
   "attachments": {},
   "cell_type": "markdown",
   "metadata": {},
   "source": [
    "## 2. Manipulasi Data Frame"
   ]
  },
  {
   "attachments": {},
   "cell_type": "markdown",
   "metadata": {},
   "source": [
    "### Mengakses dan merubah sel\n",
    "\n",
    "Gunakan loc jika nama baris & kolom diketahui, iloc jika ingin menggunakan indeks."
   ]
  },
  {
   "cell_type": "code",
   "execution_count": 48,
   "metadata": {},
   "outputs": [
    {
     "data": {
      "text/html": [
       "<div>\n",
       "<style scoped>\n",
       "    .dataframe tbody tr th:only-of-type {\n",
       "        vertical-align: middle;\n",
       "    }\n",
       "\n",
       "    .dataframe tbody tr th {\n",
       "        vertical-align: top;\n",
       "    }\n",
       "\n",
       "    .dataframe thead th {\n",
       "        text-align: right;\n",
       "    }\n",
       "</style>\n",
       "<table border=\"1\" class=\"dataframe\">\n",
       "  <thead>\n",
       "    <tr style=\"text-align: right;\">\n",
       "      <th></th>\n",
       "      <th>Nama</th>\n",
       "      <th>NIM</th>\n",
       "      <th>Nilai</th>\n",
       "    </tr>\n",
       "  </thead>\n",
       "  <tbody>\n",
       "    <tr>\n",
       "      <th>0</th>\n",
       "      <td>Mas Iqbal</td>\n",
       "      <td>19/PA/007</td>\n",
       "      <td>90</td>\n",
       "    </tr>\n",
       "    <tr>\n",
       "      <th>1</th>\n",
       "      <td>Riifat</td>\n",
       "      <td>20/PI/008</td>\n",
       "      <td>70</td>\n",
       "    </tr>\n",
       "    <tr>\n",
       "      <th>2</th>\n",
       "      <td>Zayn</td>\n",
       "      <td>21/PU/009</td>\n",
       "      <td>50</td>\n",
       "    </tr>\n",
       "    <tr>\n",
       "      <th>3</th>\n",
       "      <td>Zuko</td>\n",
       "      <td>22/PE/010</td>\n",
       "      <td>30</td>\n",
       "    </tr>\n",
       "  </tbody>\n",
       "</table>\n",
       "</div>"
      ],
      "text/plain": [
       "        Nama        NIM  Nilai\n",
       "0  Mas Iqbal  19/PA/007     90\n",
       "1     Riifat  20/PI/008     70\n",
       "2       Zayn  21/PU/009     50\n",
       "3       Zuko  22/PE/010     30"
      ]
     },
     "execution_count": 48,
     "metadata": {},
     "output_type": "execute_result"
    }
   ],
   "source": [
    "dataku"
   ]
  },
  {
   "cell_type": "code",
   "execution_count": 49,
   "metadata": {},
   "outputs": [
    {
     "data": {
      "text/plain": [
       "70"
      ]
     },
     "execution_count": 49,
     "metadata": {},
     "output_type": "execute_result"
    }
   ],
   "source": [
    "dataku.loc[1,'Nilai'] #menggunakan loc[nama baris, nama kolom]"
   ]
  },
  {
   "cell_type": "code",
   "execution_count": 50,
   "metadata": {},
   "outputs": [
    {
     "data": {
      "text/plain": [
       "'21/PU/009'"
      ]
     },
     "execution_count": 50,
     "metadata": {},
     "output_type": "execute_result"
    }
   ],
   "source": [
    "dataku.iloc[2,1] #menggunakan iloc[indeks baris, indeks kolom]"
   ]
  },
  {
   "cell_type": "code",
   "execution_count": 51,
   "metadata": {},
   "outputs": [
    {
     "data": {
      "text/plain": [
       "50"
      ]
     },
     "execution_count": 51,
     "metadata": {},
     "output_type": "execute_result"
    }
   ],
   "source": [
    "dataku.iat[2,2] #menggunakan iat[indeks baris, indeks kolom]"
   ]
  },
  {
   "attachments": {},
   "cell_type": "markdown",
   "metadata": {},
   "source": [
    "Untuk merubah isi sel tersebut, gunakan assignment (=) secara langsung. \n",
    "\n",
    "Perhatikan tipe data yang digunakan. Jika tidak sesuai dengan sel lainnya di kolom tersebut, maka bisa jadi tipe data kolom tersebut akan berubah."
   ]
  },
  {
   "cell_type": "code",
   "execution_count": 53,
   "metadata": {},
   "outputs": [
    {
     "data": {
      "text/html": [
       "<div>\n",
       "<style scoped>\n",
       "    .dataframe tbody tr th:only-of-type {\n",
       "        vertical-align: middle;\n",
       "    }\n",
       "\n",
       "    .dataframe tbody tr th {\n",
       "        vertical-align: top;\n",
       "    }\n",
       "\n",
       "    .dataframe thead th {\n",
       "        text-align: right;\n",
       "    }\n",
       "</style>\n",
       "<table border=\"1\" class=\"dataframe\">\n",
       "  <thead>\n",
       "    <tr style=\"text-align: right;\">\n",
       "      <th></th>\n",
       "      <th>Nama</th>\n",
       "      <th>NIM</th>\n",
       "      <th>Nilai</th>\n",
       "    </tr>\n",
       "  </thead>\n",
       "  <tbody>\n",
       "    <tr>\n",
       "      <th>0</th>\n",
       "      <td>Mas Iqbal</td>\n",
       "      <td>19/PA/007</td>\n",
       "      <td>90</td>\n",
       "    </tr>\n",
       "    <tr>\n",
       "      <th>1</th>\n",
       "      <td>Riifat</td>\n",
       "      <td>20/PI/008</td>\n",
       "      <td>79</td>\n",
       "    </tr>\n",
       "    <tr>\n",
       "      <th>2</th>\n",
       "      <td>Zayn</td>\n",
       "      <td>16/PK/923</td>\n",
       "      <td>120</td>\n",
       "    </tr>\n",
       "    <tr>\n",
       "      <th>3</th>\n",
       "      <td>Zuko</td>\n",
       "      <td>22/PE/010</td>\n",
       "      <td>30</td>\n",
       "    </tr>\n",
       "  </tbody>\n",
       "</table>\n",
       "</div>"
      ],
      "text/plain": [
       "        Nama        NIM  Nilai\n",
       "0  Mas Iqbal  19/PA/007     90\n",
       "1     Riifat  20/PI/008     79\n",
       "2       Zayn  16/PK/923    120\n",
       "3       Zuko  22/PE/010     30"
      ]
     },
     "execution_count": 53,
     "metadata": {},
     "output_type": "execute_result"
    }
   ],
   "source": [
    "#merubah nilai sel\n",
    "dataku.loc[1, 'Nilai'] = 79\n",
    "dataku.iloc[2,1] = '16/PK/923'\n",
    "dataku.iat[2,2] = 120\n",
    "dataku"
   ]
  },
  {
   "cell_type": "code",
   "execution_count": 52,
   "metadata": {},
   "outputs": [
    {
     "name": "stdout",
     "output_type": "stream",
     "text": [
      "<class 'pandas.core.frame.DataFrame'>\n",
      "RangeIndex: 4 entries, 0 to 3\n",
      "Data columns (total 3 columns):\n",
      " #   Column  Non-Null Count  Dtype \n",
      "---  ------  --------------  ----- \n",
      " 0   Nama    4 non-null      object\n",
      " 1   NIM     4 non-null      object\n",
      " 2   Nilai   4 non-null      int64 \n",
      "dtypes: int64(1), object(2)\n",
      "memory usage: 224.0+ bytes\n"
     ]
    }
   ],
   "source": [
    "dataku.info()"
   ]
  },
  {
   "cell_type": "code",
   "execution_count": 54,
   "metadata": {},
   "outputs": [
    {
     "data": {
      "text/html": [
       "<div>\n",
       "<style scoped>\n",
       "    .dataframe tbody tr th:only-of-type {\n",
       "        vertical-align: middle;\n",
       "    }\n",
       "\n",
       "    .dataframe tbody tr th {\n",
       "        vertical-align: top;\n",
       "    }\n",
       "\n",
       "    .dataframe thead th {\n",
       "        text-align: right;\n",
       "    }\n",
       "</style>\n",
       "<table border=\"1\" class=\"dataframe\">\n",
       "  <thead>\n",
       "    <tr style=\"text-align: right;\">\n",
       "      <th></th>\n",
       "      <th>Nama</th>\n",
       "      <th>NIM</th>\n",
       "      <th>Nilai</th>\n",
       "    </tr>\n",
       "  </thead>\n",
       "  <tbody>\n",
       "    <tr>\n",
       "      <th>0</th>\n",
       "      <td>Mas Iqbal</td>\n",
       "      <td>19/PA/007</td>\n",
       "      <td>90</td>\n",
       "    </tr>\n",
       "    <tr>\n",
       "      <th>1</th>\n",
       "      <td>Riifat</td>\n",
       "      <td>20/PI/008</td>\n",
       "      <td>79</td>\n",
       "    </tr>\n",
       "    <tr>\n",
       "      <th>2</th>\n",
       "      <td>Zayn</td>\n",
       "      <td>16/PK/923</td>\n",
       "      <td>d</td>\n",
       "    </tr>\n",
       "    <tr>\n",
       "      <th>3</th>\n",
       "      <td>Zuko</td>\n",
       "      <td>22/PE/010</td>\n",
       "      <td>30</td>\n",
       "    </tr>\n",
       "  </tbody>\n",
       "</table>\n",
       "</div>"
      ],
      "text/plain": [
       "        Nama        NIM Nilai\n",
       "0  Mas Iqbal  19/PA/007    90\n",
       "1     Riifat  20/PI/008    79\n",
       "2       Zayn  16/PK/923     d\n",
       "3       Zuko  22/PE/010    30"
      ]
     },
     "execution_count": 54,
     "metadata": {},
     "output_type": "execute_result"
    }
   ],
   "source": [
    "# tipe data kolom Nilai akan berubah menjadi string/object.\n",
    "data_lagi = dataku.copy()\n",
    "data_lagi.iat[2,2] = 'd' \n",
    "data_lagi\n"
   ]
  },
  {
   "cell_type": "code",
   "execution_count": 55,
   "metadata": {},
   "outputs": [
    {
     "name": "stdout",
     "output_type": "stream",
     "text": [
      "<class 'pandas.core.frame.DataFrame'>\n",
      "RangeIndex: 4 entries, 0 to 3\n",
      "Data columns (total 3 columns):\n",
      " #   Column  Non-Null Count  Dtype \n",
      "---  ------  --------------  ----- \n",
      " 0   Nama    4 non-null      object\n",
      " 1   NIM     4 non-null      object\n",
      " 2   Nilai   4 non-null      object\n",
      "dtypes: object(3)\n",
      "memory usage: 224.0+ bytes\n"
     ]
    }
   ],
   "source": [
    "data_lagi.info()"
   ]
  },
  {
   "attachments": {},
   "cell_type": "markdown",
   "metadata": {},
   "source": [
    "### Merubah nama kolom/baris\n",
    "\n",
    "Cara paling aman adalah dengan menggunakan method rename. \n",
    "\n",
    "Terdapat 2 cara berbeda yang dapat digunakan, yakni menggunakan columns&index atau menggunakan axis.\n",
    "\n",
    "Alternatif lainnya adalah dengan langsung merubahnya menggunakan .columns dan .index."
   ]
  },
  {
   "cell_type": "code",
   "execution_count": 56,
   "metadata": {},
   "outputs": [
    {
     "data": {
      "text/html": [
       "<div>\n",
       "<style scoped>\n",
       "    .dataframe tbody tr th:only-of-type {\n",
       "        vertical-align: middle;\n",
       "    }\n",
       "\n",
       "    .dataframe tbody tr th {\n",
       "        vertical-align: top;\n",
       "    }\n",
       "\n",
       "    .dataframe thead th {\n",
       "        text-align: right;\n",
       "    }\n",
       "</style>\n",
       "<table border=\"1\" class=\"dataframe\">\n",
       "  <thead>\n",
       "    <tr style=\"text-align: right;\">\n",
       "      <th></th>\n",
       "      <th>Nama Panggilan</th>\n",
       "      <th>NIM</th>\n",
       "      <th>Nilai</th>\n",
       "    </tr>\n",
       "  </thead>\n",
       "  <tbody>\n",
       "    <tr>\n",
       "      <th>Mhsw</th>\n",
       "      <td>Mas Iqbal</td>\n",
       "      <td>19/PA/007</td>\n",
       "      <td>90</td>\n",
       "    </tr>\n",
       "    <tr>\n",
       "      <th>Mhsw jg</th>\n",
       "      <td>Riifat</td>\n",
       "      <td>20/PI/008</td>\n",
       "      <td>79</td>\n",
       "    </tr>\n",
       "    <tr>\n",
       "      <th>2</th>\n",
       "      <td>Zayn</td>\n",
       "      <td>16/PK/923</td>\n",
       "      <td>120</td>\n",
       "    </tr>\n",
       "    <tr>\n",
       "      <th>3</th>\n",
       "      <td>Zuko</td>\n",
       "      <td>22/PE/010</td>\n",
       "      <td>30</td>\n",
       "    </tr>\n",
       "  </tbody>\n",
       "</table>\n",
       "</div>"
      ],
      "text/plain": [
       "        Nama Panggilan        NIM  Nilai\n",
       "Mhsw         Mas Iqbal  19/PA/007     90\n",
       "Mhsw jg         Riifat  20/PI/008     79\n",
       "2                 Zayn  16/PK/923    120\n",
       "3                 Zuko  22/PE/010     30"
      ]
     },
     "execution_count": 56,
     "metadata": {},
     "output_type": "execute_result"
    }
   ],
   "source": [
    "dataku = dataku.rename(columns = {'Nama' : 'Nama Panggilan'}, index = {0 : 'Mhsw', 1 : 'Mhsw jg'})\n",
    "dataku"
   ]
  },
  {
   "cell_type": "code",
   "execution_count": 57,
   "metadata": {},
   "outputs": [
    {
     "data": {
      "text/html": [
       "<div>\n",
       "<style scoped>\n",
       "    .dataframe tbody tr th:only-of-type {\n",
       "        vertical-align: middle;\n",
       "    }\n",
       "\n",
       "    .dataframe tbody tr th {\n",
       "        vertical-align: top;\n",
       "    }\n",
       "\n",
       "    .dataframe thead th {\n",
       "        text-align: right;\n",
       "    }\n",
       "</style>\n",
       "<table border=\"1\" class=\"dataframe\">\n",
       "  <thead>\n",
       "    <tr style=\"text-align: right;\">\n",
       "      <th></th>\n",
       "      <th>Nama aja deh</th>\n",
       "      <th>NIM</th>\n",
       "      <th>Nilai</th>\n",
       "    </tr>\n",
       "  </thead>\n",
       "  <tbody>\n",
       "    <tr>\n",
       "      <th>Mhsw</th>\n",
       "      <td>Mas Iqbal</td>\n",
       "      <td>19/PA/007</td>\n",
       "      <td>90</td>\n",
       "    </tr>\n",
       "    <tr>\n",
       "      <th>Mhsw jg</th>\n",
       "      <td>Riifat</td>\n",
       "      <td>20/PI/008</td>\n",
       "      <td>79</td>\n",
       "    </tr>\n",
       "    <tr>\n",
       "      <th>2</th>\n",
       "      <td>Zayn</td>\n",
       "      <td>16/PK/923</td>\n",
       "      <td>120</td>\n",
       "    </tr>\n",
       "    <tr>\n",
       "      <th>3</th>\n",
       "      <td>Zuko</td>\n",
       "      <td>22/PE/010</td>\n",
       "      <td>30</td>\n",
       "    </tr>\n",
       "  </tbody>\n",
       "</table>\n",
       "</div>"
      ],
      "text/plain": [
       "        Nama aja deh        NIM  Nilai\n",
       "Mhsw       Mas Iqbal  19/PA/007     90\n",
       "Mhsw jg       Riifat  20/PI/008     79\n",
       "2               Zayn  16/PK/923    120\n",
       "3               Zuko  22/PE/010     30"
      ]
     },
     "execution_count": 57,
     "metadata": {},
     "output_type": "execute_result"
    }
   ],
   "source": [
    "dataku = dataku.rename({'Nama Panggilan' : 'Nama aja deh'}, axis = 1) #axis = 1 untuk kolom, axis = 0 untuk baris\n",
    "dataku"
   ]
  },
  {
   "cell_type": "code",
   "execution_count": 60,
   "metadata": {},
   "outputs": [
    {
     "data": {
      "text/html": [
       "<div>\n",
       "<style scoped>\n",
       "    .dataframe tbody tr th:only-of-type {\n",
       "        vertical-align: middle;\n",
       "    }\n",
       "\n",
       "    .dataframe tbody tr th {\n",
       "        vertical-align: top;\n",
       "    }\n",
       "\n",
       "    .dataframe thead th {\n",
       "        text-align: right;\n",
       "    }\n",
       "</style>\n",
       "<table border=\"1\" class=\"dataframe\">\n",
       "  <thead>\n",
       "    <tr style=\"text-align: right;\">\n",
       "      <th></th>\n",
       "      <th>Nama Panggilan</th>\n",
       "      <th>NIU</th>\n",
       "      <th>Nilai Ujian</th>\n",
       "    </tr>\n",
       "  </thead>\n",
       "  <tbody>\n",
       "    <tr>\n",
       "      <th>A</th>\n",
       "      <td>Mas Iqbal</td>\n",
       "      <td>19/PA/007</td>\n",
       "      <td>90</td>\n",
       "    </tr>\n",
       "    <tr>\n",
       "      <th>B</th>\n",
       "      <td>Riifat</td>\n",
       "      <td>20/PI/008</td>\n",
       "      <td>79</td>\n",
       "    </tr>\n",
       "    <tr>\n",
       "      <th>C</th>\n",
       "      <td>Zayn</td>\n",
       "      <td>16/PK/923</td>\n",
       "      <td>120</td>\n",
       "    </tr>\n",
       "    <tr>\n",
       "      <th>D</th>\n",
       "      <td>Zuko</td>\n",
       "      <td>22/PE/010</td>\n",
       "      <td>30</td>\n",
       "    </tr>\n",
       "  </tbody>\n",
       "</table>\n",
       "</div>"
      ],
      "text/plain": [
       "  Nama Panggilan        NIU  Nilai Ujian\n",
       "A      Mas Iqbal  19/PA/007           90\n",
       "B         Riifat  20/PI/008           79\n",
       "C           Zayn  16/PK/923          120\n",
       "D           Zuko  22/PE/010           30"
      ]
     },
     "execution_count": 60,
     "metadata": {},
     "output_type": "execute_result"
    }
   ],
   "source": [
    "dataku.columns = ['Nama Panggilan', 'NIU', 'Nilai Ujian']\n",
    "dataku.index = ['A', 'B', 'C', 'D']\n",
    "dataku"
   ]
  },
  {
   "cell_type": "markdown",
   "metadata": {},
   "source": [
    "### Mengakses dan merubah kolom/baris"
   ]
  },
  {
   "cell_type": "markdown",
   "metadata": {},
   "source": [
    "#### Akses kolom\n",
    "\n",
    "Terdapat banyak cara untuk melakukannya, seperti dibawah ini.\n"
   ]
  },
  {
   "cell_type": "code",
   "execution_count": 57,
   "metadata": {},
   "outputs": [
    {
     "data": {
      "text/plain": [
       "A    19/PA/007\n",
       "B    20/PI/008\n",
       "C    16/PK/923\n",
       "D    22/PE/010\n",
       "Name: NIU, dtype: object"
      ]
     },
     "execution_count": 57,
     "metadata": {},
     "output_type": "execute_result"
    }
   ],
   "source": [
    "dataku.NIU"
   ]
  },
  {
   "cell_type": "code",
   "execution_count": 61,
   "metadata": {},
   "outputs": [
    {
     "data": {
      "text/html": [
       "<div>\n",
       "<style scoped>\n",
       "    .dataframe tbody tr th:only-of-type {\n",
       "        vertical-align: middle;\n",
       "    }\n",
       "\n",
       "    .dataframe tbody tr th {\n",
       "        vertical-align: top;\n",
       "    }\n",
       "\n",
       "    .dataframe thead th {\n",
       "        text-align: right;\n",
       "    }\n",
       "</style>\n",
       "<table border=\"1\" class=\"dataframe\">\n",
       "  <thead>\n",
       "    <tr style=\"text-align: right;\">\n",
       "      <th></th>\n",
       "      <th>Nilai Ujian</th>\n",
       "      <th>Nama Panggilan</th>\n",
       "    </tr>\n",
       "  </thead>\n",
       "  <tbody>\n",
       "    <tr>\n",
       "      <th>A</th>\n",
       "      <td>90</td>\n",
       "      <td>Mas Iqbal</td>\n",
       "    </tr>\n",
       "    <tr>\n",
       "      <th>B</th>\n",
       "      <td>79</td>\n",
       "      <td>Riifat</td>\n",
       "    </tr>\n",
       "    <tr>\n",
       "      <th>C</th>\n",
       "      <td>120</td>\n",
       "      <td>Zayn</td>\n",
       "    </tr>\n",
       "    <tr>\n",
       "      <th>D</th>\n",
       "      <td>30</td>\n",
       "      <td>Zuko</td>\n",
       "    </tr>\n",
       "  </tbody>\n",
       "</table>\n",
       "</div>"
      ],
      "text/plain": [
       "   Nilai Ujian Nama Panggilan\n",
       "A           90      Mas Iqbal\n",
       "B           79         Riifat\n",
       "C          120           Zayn\n",
       "D           30           Zuko"
      ]
     },
     "execution_count": 61,
     "metadata": {},
     "output_type": "execute_result"
    }
   ],
   "source": [
    "dataku[['Nilai Ujian', 'Nama Panggilan']]"
   ]
  },
  {
   "cell_type": "code",
   "execution_count": 62,
   "metadata": {},
   "outputs": [
    {
     "data": {
      "text/html": [
       "<div>\n",
       "<style scoped>\n",
       "    .dataframe tbody tr th:only-of-type {\n",
       "        vertical-align: middle;\n",
       "    }\n",
       "\n",
       "    .dataframe tbody tr th {\n",
       "        vertical-align: top;\n",
       "    }\n",
       "\n",
       "    .dataframe thead th {\n",
       "        text-align: right;\n",
       "    }\n",
       "</style>\n",
       "<table border=\"1\" class=\"dataframe\">\n",
       "  <thead>\n",
       "    <tr style=\"text-align: right;\">\n",
       "      <th></th>\n",
       "      <th>Nama Panggilan</th>\n",
       "      <th>NIU</th>\n",
       "      <th>Nilai Ujian</th>\n",
       "      <th>Nilai Tugas</th>\n",
       "    </tr>\n",
       "  </thead>\n",
       "  <tbody>\n",
       "    <tr>\n",
       "      <th>A</th>\n",
       "      <td>Mas Iqbal</td>\n",
       "      <td>22/PE/010</td>\n",
       "      <td>10</td>\n",
       "      <td>70</td>\n",
       "    </tr>\n",
       "    <tr>\n",
       "      <th>B</th>\n",
       "      <td>Riifat</td>\n",
       "      <td>21/PE/010</td>\n",
       "      <td>20</td>\n",
       "      <td>80</td>\n",
       "    </tr>\n",
       "    <tr>\n",
       "      <th>C</th>\n",
       "      <td>Zayn</td>\n",
       "      <td>22/PE/001</td>\n",
       "      <td>30</td>\n",
       "      <td>90</td>\n",
       "    </tr>\n",
       "    <tr>\n",
       "      <th>D</th>\n",
       "      <td>Zuko</td>\n",
       "      <td>10/HK/233</td>\n",
       "      <td>40</td>\n",
       "      <td>100</td>\n",
       "    </tr>\n",
       "  </tbody>\n",
       "</table>\n",
       "</div>"
      ],
      "text/plain": [
       "  Nama Panggilan        NIU  Nilai Ujian  Nilai Tugas\n",
       "A      Mas Iqbal  22/PE/010           10           70\n",
       "B         Riifat  21/PE/010           20           80\n",
       "C           Zayn  22/PE/001           30           90\n",
       "D           Zuko  10/HK/233           40          100"
      ]
     },
     "execution_count": 62,
     "metadata": {},
     "output_type": "execute_result"
    }
   ],
   "source": [
    "dataku.NIU = ['22/PE/010', '21/PE/010', '22/PE/001', '10/HK/233'] #merubah kolom NIU\n",
    "dataku['Nilai Ujian'] = [(i+1)*10 for i in range(4)] #merubah kolom Nilai Ujian\n",
    "dataku['Nilai Tugas'] = [(i+7)*10 for i in range(4)] #merubah kolom Nilai Tugas\n",
    "dataku"
   ]
  },
  {
   "cell_type": "code",
   "execution_count": 63,
   "metadata": {},
   "outputs": [
    {
     "data": {
      "text/plain": [
       "A    22/PE/010\n",
       "B    21/PE/010\n",
       "C    22/PE/001\n",
       "D    10/HK/233\n",
       "Name: NIU, dtype: object"
      ]
     },
     "execution_count": 63,
     "metadata": {},
     "output_type": "execute_result"
    }
   ],
   "source": [
    "dataku.loc[:,'NIU'] #semua baris di kolom NIU"
   ]
  },
  {
   "cell_type": "code",
   "execution_count": 64,
   "metadata": {},
   "outputs": [
    {
     "data": {
      "text/html": [
       "<div>\n",
       "<style scoped>\n",
       "    .dataframe tbody tr th:only-of-type {\n",
       "        vertical-align: middle;\n",
       "    }\n",
       "\n",
       "    .dataframe tbody tr th {\n",
       "        vertical-align: top;\n",
       "    }\n",
       "\n",
       "    .dataframe thead th {\n",
       "        text-align: right;\n",
       "    }\n",
       "</style>\n",
       "<table border=\"1\" class=\"dataframe\">\n",
       "  <thead>\n",
       "    <tr style=\"text-align: right;\">\n",
       "      <th></th>\n",
       "      <th>NIU</th>\n",
       "      <th>Nilai Ujian</th>\n",
       "    </tr>\n",
       "  </thead>\n",
       "  <tbody>\n",
       "    <tr>\n",
       "      <th>A</th>\n",
       "      <td>22/PE/010</td>\n",
       "      <td>10</td>\n",
       "    </tr>\n",
       "    <tr>\n",
       "      <th>B</th>\n",
       "      <td>21/PE/010</td>\n",
       "      <td>20</td>\n",
       "    </tr>\n",
       "    <tr>\n",
       "      <th>C</th>\n",
       "      <td>22/PE/001</td>\n",
       "      <td>30</td>\n",
       "    </tr>\n",
       "    <tr>\n",
       "      <th>D</th>\n",
       "      <td>10/HK/233</td>\n",
       "      <td>40</td>\n",
       "    </tr>\n",
       "  </tbody>\n",
       "</table>\n",
       "</div>"
      ],
      "text/plain": [
       "         NIU  Nilai Ujian\n",
       "A  22/PE/010           10\n",
       "B  21/PE/010           20\n",
       "C  22/PE/001           30\n",
       "D  10/HK/233           40"
      ]
     },
     "execution_count": 64,
     "metadata": {},
     "output_type": "execute_result"
    }
   ],
   "source": [
    "dataku.loc[:,['NIU', 'Nilai Ujian']] #semua baris di kolom NIU dan Nilai Ujian"
   ]
  },
  {
   "cell_type": "code",
   "execution_count": 65,
   "metadata": {},
   "outputs": [
    {
     "data": {
      "text/html": [
       "<div>\n",
       "<style scoped>\n",
       "    .dataframe tbody tr th:only-of-type {\n",
       "        vertical-align: middle;\n",
       "    }\n",
       "\n",
       "    .dataframe tbody tr th {\n",
       "        vertical-align: top;\n",
       "    }\n",
       "\n",
       "    .dataframe thead th {\n",
       "        text-align: right;\n",
       "    }\n",
       "</style>\n",
       "<table border=\"1\" class=\"dataframe\">\n",
       "  <thead>\n",
       "    <tr style=\"text-align: right;\">\n",
       "      <th></th>\n",
       "      <th>NIU</th>\n",
       "      <th>Nilai Ujian</th>\n",
       "    </tr>\n",
       "  </thead>\n",
       "  <tbody>\n",
       "    <tr>\n",
       "      <th>A</th>\n",
       "      <td>22/PE/010</td>\n",
       "      <td>10</td>\n",
       "    </tr>\n",
       "    <tr>\n",
       "      <th>B</th>\n",
       "      <td>21/PE/010</td>\n",
       "      <td>20</td>\n",
       "    </tr>\n",
       "    <tr>\n",
       "      <th>C</th>\n",
       "      <td>22/PE/001</td>\n",
       "      <td>30</td>\n",
       "    </tr>\n",
       "    <tr>\n",
       "      <th>D</th>\n",
       "      <td>10/HK/233</td>\n",
       "      <td>40</td>\n",
       "    </tr>\n",
       "  </tbody>\n",
       "</table>\n",
       "</div>"
      ],
      "text/plain": [
       "         NIU  Nilai Ujian\n",
       "A  22/PE/010           10\n",
       "B  21/PE/010           20\n",
       "C  22/PE/001           30\n",
       "D  10/HK/233           40"
      ]
     },
     "execution_count": 65,
     "metadata": {},
     "output_type": "execute_result"
    }
   ],
   "source": [
    "dataku[['NIU','Nilai Ujian']]"
   ]
  },
  {
   "cell_type": "markdown",
   "metadata": {},
   "source": [
    "#### Akses Baris\n",
    "\n",
    "Untuk mengakses baris tidak semudah mengakses kolom. Umumnya menggunakan .loc atau .iloc.\n",
    "\n",
    "Tanda : menunjukkan bahwa kita ingin mengambil seluruh baris/kolom."
   ]
  },
  {
   "cell_type": "code",
   "execution_count": 62,
   "metadata": {},
   "outputs": [
    {
     "data": {
      "text/html": [
       "<div>\n",
       "<style scoped>\n",
       "    .dataframe tbody tr th:only-of-type {\n",
       "        vertical-align: middle;\n",
       "    }\n",
       "\n",
       "    .dataframe tbody tr th {\n",
       "        vertical-align: top;\n",
       "    }\n",
       "\n",
       "    .dataframe thead th {\n",
       "        text-align: right;\n",
       "    }\n",
       "</style>\n",
       "<table border=\"1\" class=\"dataframe\">\n",
       "  <thead>\n",
       "    <tr style=\"text-align: right;\">\n",
       "      <th></th>\n",
       "      <th>Nama Panggilan</th>\n",
       "      <th>NIU</th>\n",
       "      <th>Nilai Ujian</th>\n",
       "      <th>Nilai Tugas</th>\n",
       "    </tr>\n",
       "  </thead>\n",
       "  <tbody>\n",
       "    <tr>\n",
       "      <th>A</th>\n",
       "      <td>Mas Iqbal</td>\n",
       "      <td>22/PE/010</td>\n",
       "      <td>10</td>\n",
       "      <td>70</td>\n",
       "    </tr>\n",
       "    <tr>\n",
       "      <th>B</th>\n",
       "      <td>Riifat</td>\n",
       "      <td>21/PE/010</td>\n",
       "      <td>20</td>\n",
       "      <td>80</td>\n",
       "    </tr>\n",
       "    <tr>\n",
       "      <th>C</th>\n",
       "      <td>Zayn</td>\n",
       "      <td>22/PE/001</td>\n",
       "      <td>30</td>\n",
       "      <td>90</td>\n",
       "    </tr>\n",
       "    <tr>\n",
       "      <th>D</th>\n",
       "      <td>Zuko</td>\n",
       "      <td>10/HK/233</td>\n",
       "      <td>40</td>\n",
       "      <td>100</td>\n",
       "    </tr>\n",
       "  </tbody>\n",
       "</table>\n",
       "</div>"
      ],
      "text/plain": [
       "  Nama Panggilan        NIU  Nilai Ujian  Nilai Tugas\n",
       "A      Mas Iqbal  22/PE/010           10           70\n",
       "B         Riifat  21/PE/010           20           80\n",
       "C           Zayn  22/PE/001           30           90\n",
       "D           Zuko  10/HK/233           40          100"
      ]
     },
     "execution_count": 62,
     "metadata": {},
     "output_type": "execute_result"
    }
   ],
   "source": [
    "dataku"
   ]
  },
  {
   "cell_type": "code",
   "execution_count": 66,
   "metadata": {},
   "outputs": [
    {
     "data": {
      "text/plain": [
       "Nama Panggilan    Mas Iqbal\n",
       "NIU               22/PE/010\n",
       "Nilai Ujian              10\n",
       "Nilai Tugas              70\n",
       "Name: A, dtype: object"
      ]
     },
     "execution_count": 66,
     "metadata": {},
     "output_type": "execute_result"
    }
   ],
   "source": [
    "dataku.loc['A',:] #semua kolom di baris 'A'"
   ]
  },
  {
   "cell_type": "code",
   "execution_count": 67,
   "metadata": {},
   "outputs": [
    {
     "data": {
      "text/plain": [
       "Nama Panggilan         Zayn\n",
       "NIU               22/PE/001\n",
       "Nilai Ujian              30\n",
       "Nilai Tugas              90\n",
       "Name: C, dtype: object"
      ]
     },
     "execution_count": 67,
     "metadata": {},
     "output_type": "execute_result"
    }
   ],
   "source": [
    "dataku.iloc[2,:] #semua kolom di baris ke-3 "
   ]
  },
  {
   "cell_type": "code",
   "execution_count": 68,
   "metadata": {},
   "outputs": [
    {
     "data": {
      "text/html": [
       "<div>\n",
       "<style scoped>\n",
       "    .dataframe tbody tr th:only-of-type {\n",
       "        vertical-align: middle;\n",
       "    }\n",
       "\n",
       "    .dataframe tbody tr th {\n",
       "        vertical-align: top;\n",
       "    }\n",
       "\n",
       "    .dataframe thead th {\n",
       "        text-align: right;\n",
       "    }\n",
       "</style>\n",
       "<table border=\"1\" class=\"dataframe\">\n",
       "  <thead>\n",
       "    <tr style=\"text-align: right;\">\n",
       "      <th></th>\n",
       "      <th>Nama Panggilan</th>\n",
       "      <th>NIU</th>\n",
       "      <th>Nilai Ujian</th>\n",
       "      <th>Nilai Tugas</th>\n",
       "    </tr>\n",
       "  </thead>\n",
       "  <tbody>\n",
       "    <tr>\n",
       "      <th>A</th>\n",
       "      <td>Iqbal</td>\n",
       "      <td>21/PE/010</td>\n",
       "      <td>90</td>\n",
       "      <td>100</td>\n",
       "    </tr>\n",
       "    <tr>\n",
       "      <th>B</th>\n",
       "      <td>Riifat</td>\n",
       "      <td>21/PE/010</td>\n",
       "      <td>20</td>\n",
       "      <td>80</td>\n",
       "    </tr>\n",
       "    <tr>\n",
       "      <th>C</th>\n",
       "      <td>Zayn</td>\n",
       "      <td>22/PE/001</td>\n",
       "      <td>30</td>\n",
       "      <td>90</td>\n",
       "    </tr>\n",
       "    <tr>\n",
       "      <th>D</th>\n",
       "      <td>Zuko</td>\n",
       "      <td>10/HK/233</td>\n",
       "      <td>40</td>\n",
       "      <td>100</td>\n",
       "    </tr>\n",
       "  </tbody>\n",
       "</table>\n",
       "</div>"
      ],
      "text/plain": [
       "  Nama Panggilan        NIU  Nilai Ujian  Nilai Tugas\n",
       "A          Iqbal  21/PE/010           90          100\n",
       "B         Riifat  21/PE/010           20           80\n",
       "C           Zayn  22/PE/001           30           90\n",
       "D           Zuko  10/HK/233           40          100"
      ]
     },
     "execution_count": 68,
     "metadata": {},
     "output_type": "execute_result"
    }
   ],
   "source": [
    "dataku.loc['A',:] = ['Iqbal', '21/PE/010', 90, 100]\n",
    "dataku"
   ]
  },
  {
   "attachments": {},
   "cell_type": "markdown",
   "metadata": {},
   "source": [
    "### Duplikasi Data Frame\n",
    "\n",
    "Tidak disarankan melakukan dataku_copy = dataku\n",
    "\n",
    "Apabila digunakan deep = False, maka semua perubahan pada dataku_copy akan muncul di dataku (dan sebaliknya)."
   ]
  },
  {
   "cell_type": "code",
   "execution_count": 69,
   "metadata": {},
   "outputs": [],
   "source": [
    "dataku2 = dataku.copy() \n",
    "dataku9 = dataku.copy(deep = False)"
   ]
  },
  {
   "attachments": {},
   "cell_type": "markdown",
   "metadata": {},
   "source": [
    "### Hapus kolom / baris"
   ]
  },
  {
   "cell_type": "code",
   "execution_count": 70,
   "metadata": {},
   "outputs": [
    {
     "data": {
      "text/html": [
       "<div>\n",
       "<style scoped>\n",
       "    .dataframe tbody tr th:only-of-type {\n",
       "        vertical-align: middle;\n",
       "    }\n",
       "\n",
       "    .dataframe tbody tr th {\n",
       "        vertical-align: top;\n",
       "    }\n",
       "\n",
       "    .dataframe thead th {\n",
       "        text-align: right;\n",
       "    }\n",
       "</style>\n",
       "<table border=\"1\" class=\"dataframe\">\n",
       "  <thead>\n",
       "    <tr style=\"text-align: right;\">\n",
       "      <th></th>\n",
       "      <th>Nama Panggilan</th>\n",
       "    </tr>\n",
       "  </thead>\n",
       "  <tbody>\n",
       "    <tr>\n",
       "      <th>B</th>\n",
       "      <td>Riifat</td>\n",
       "    </tr>\n",
       "    <tr>\n",
       "      <th>C</th>\n",
       "      <td>Zayn</td>\n",
       "    </tr>\n",
       "    <tr>\n",
       "      <th>D</th>\n",
       "      <td>Zuko</td>\n",
       "    </tr>\n",
       "  </tbody>\n",
       "</table>\n",
       "</div>"
      ],
      "text/plain": [
       "  Nama Panggilan\n",
       "B         Riifat\n",
       "C           Zayn\n",
       "D           Zuko"
      ]
     },
     "execution_count": 70,
     "metadata": {},
     "output_type": "execute_result"
    }
   ],
   "source": [
    "dataku2 = dataku2.drop('Nilai Tugas', axis = 1) #axis: 0 untuk baris, 1 untuk kolom\n",
    "dataku2 = dataku2.drop('A', axis = 0)\n",
    "dataku2 = dataku2.drop(['NIU', 'Nilai Ujian'], axis = 1)\n",
    "dataku2"
   ]
  },
  {
   "attachments": {},
   "cell_type": "markdown",
   "metadata": {},
   "source": [
    "### Ubah Tipe Data\n",
    "\n",
    "https://pandas.pydata.org/docs/reference/api/pandas.DataFrame.astype.html\n",
    "\n",
    "https://pandas.pydata.org/docs/reference/api/pandas.DataFrame.dtypes.html\n"
   ]
  },
  {
   "cell_type": "code",
   "execution_count": 71,
   "metadata": {},
   "outputs": [
    {
     "data": {
      "text/plain": [
       "Nama Panggilan    object\n",
       "NIU               object\n",
       "Nilai Ujian        int64\n",
       "Nilai Tugas        int64\n",
       "dtype: object"
      ]
     },
     "execution_count": 71,
     "metadata": {},
     "output_type": "execute_result"
    }
   ],
   "source": [
    "# cek data type\n",
    "dataku.dtypes"
   ]
  },
  {
   "cell_type": "code",
   "execution_count": 72,
   "metadata": {},
   "outputs": [
    {
     "name": "stdout",
     "output_type": "stream",
     "text": [
      "<class 'pandas.core.frame.DataFrame'>\n",
      "Index: 4 entries, A to D\n",
      "Data columns (total 4 columns):\n",
      " #   Column          Non-Null Count  Dtype \n",
      "---  ------          --------------  ----- \n",
      " 0   Nama Panggilan  4 non-null      object\n",
      " 1   NIU             4 non-null      object\n",
      " 2   Nilai Ujian     4 non-null      int64 \n",
      " 3   Nilai Tugas     4 non-null      int64 \n",
      "dtypes: int64(2), object(2)\n",
      "memory usage: 332.0+ bytes\n"
     ]
    }
   ],
   "source": [
    "dataku.info()"
   ]
  },
  {
   "cell_type": "code",
   "execution_count": 73,
   "metadata": {},
   "outputs": [
    {
     "data": {
      "text/plain": [
       "Nama Panggilan     object\n",
       "NIU                object\n",
       "Nilai Ujian       float64\n",
       "Nilai Tugas         int64\n",
       "dtype: object"
      ]
     },
     "execution_count": 73,
     "metadata": {},
     "output_type": "execute_result"
    }
   ],
   "source": [
    "dataku = dataku.astype({'Nilai Ujian' : 'float'}) #ubah kolom nilai ujian ke float64 (desimal)\n",
    "dataku.dtypes"
   ]
  },
  {
   "attachments": {},
   "cell_type": "markdown",
   "metadata": {},
   "source": [
    "## Import dan Export Data"
   ]
  },
  {
   "attachments": {},
   "cell_type": "markdown",
   "metadata": {},
   "source": [
    "### CSV\n",
    "\n",
    "https://pandas.pydata.org/docs/reference/api/pandas.read_csv.html\n",
    "\n",
    "https://pandas.pydata.org/docs/reference/api/pandas.DataFrame.to_csv.html#pandas.DataFrame.to_csv"
   ]
  },
  {
   "cell_type": "code",
   "execution_count": 74,
   "metadata": {},
   "outputs": [
    {
     "data": {
      "text/html": [
       "<div>\n",
       "<style scoped>\n",
       "    .dataframe tbody tr th:only-of-type {\n",
       "        vertical-align: middle;\n",
       "    }\n",
       "\n",
       "    .dataframe tbody tr th {\n",
       "        vertical-align: top;\n",
       "    }\n",
       "\n",
       "    .dataframe thead th {\n",
       "        text-align: right;\n",
       "    }\n",
       "</style>\n",
       "<table border=\"1\" class=\"dataframe\">\n",
       "  <thead>\n",
       "    <tr style=\"text-align: right;\">\n",
       "      <th></th>\n",
       "      <th>0</th>\n",
       "      <th>1</th>\n",
       "      <th>2</th>\n",
       "      <th>3</th>\n",
       "      <th>4</th>\n",
       "      <th>5</th>\n",
       "    </tr>\n",
       "  </thead>\n",
       "  <tbody>\n",
       "    <tr>\n",
       "      <th>0</th>\n",
       "      <td>John</td>\n",
       "      <td>Doe</td>\n",
       "      <td>120 jefferson st.</td>\n",
       "      <td>Riverside</td>\n",
       "      <td>NJ</td>\n",
       "      <td>8075</td>\n",
       "    </tr>\n",
       "    <tr>\n",
       "      <th>1</th>\n",
       "      <td>Jack</td>\n",
       "      <td>McGinnis</td>\n",
       "      <td>220 hobo Av.</td>\n",
       "      <td>Phila</td>\n",
       "      <td>PA</td>\n",
       "      <td>9119</td>\n",
       "    </tr>\n",
       "    <tr>\n",
       "      <th>2</th>\n",
       "      <td>John \"Da Man\"</td>\n",
       "      <td>Repici</td>\n",
       "      <td>120 Jefferson St.</td>\n",
       "      <td>Riverside</td>\n",
       "      <td>NJ</td>\n",
       "      <td>8075</td>\n",
       "    </tr>\n",
       "    <tr>\n",
       "      <th>3</th>\n",
       "      <td>Stephen</td>\n",
       "      <td>Tyler</td>\n",
       "      <td>7452 Terrace \"At the Plaza\" road</td>\n",
       "      <td>SomeTown</td>\n",
       "      <td>SD</td>\n",
       "      <td>91234</td>\n",
       "    </tr>\n",
       "    <tr>\n",
       "      <th>4</th>\n",
       "      <td>NaN</td>\n",
       "      <td>Blankman</td>\n",
       "      <td>NaN</td>\n",
       "      <td>SomeTown</td>\n",
       "      <td>SD</td>\n",
       "      <td>298</td>\n",
       "    </tr>\n",
       "  </tbody>\n",
       "</table>\n",
       "</div>"
      ],
      "text/plain": [
       "               0         1                                 2          3    4  \\\n",
       "0           John       Doe                 120 jefferson st.  Riverside   NJ   \n",
       "1           Jack  McGinnis                      220 hobo Av.      Phila   PA   \n",
       "2  John \"Da Man\"    Repici                 120 Jefferson St.  Riverside   NJ   \n",
       "3        Stephen     Tyler  7452 Terrace \"At the Plaza\" road   SomeTown   SD   \n",
       "4            NaN  Blankman                               NaN   SomeTown   SD   \n",
       "\n",
       "       5  \n",
       "0   8075  \n",
       "1   9119  \n",
       "2   8075  \n",
       "3  91234  \n",
       "4    298  "
      ]
     },
     "execution_count": 74,
     "metadata": {},
     "output_type": "execute_result"
    }
   ],
   "source": [
    "mydata = pd.read_csv('https://people.sc.fsu.edu/~jburkardt/data/csv/addresses.csv', header = None) #CSV tanpa nama kolom\n",
    "mydata.head()"
   ]
  },
  {
   "cell_type": "code",
   "execution_count": 76,
   "metadata": {},
   "outputs": [
    {
     "data": {
      "text/html": [
       "<div>\n",
       "<style scoped>\n",
       "    .dataframe tbody tr th:only-of-type {\n",
       "        vertical-align: middle;\n",
       "    }\n",
       "\n",
       "    .dataframe tbody tr th {\n",
       "        vertical-align: top;\n",
       "    }\n",
       "\n",
       "    .dataframe thead th {\n",
       "        text-align: right;\n",
       "    }\n",
       "</style>\n",
       "<table border=\"1\" class=\"dataframe\">\n",
       "  <thead>\n",
       "    <tr style=\"text-align: right;\">\n",
       "      <th></th>\n",
       "      <th>Name</th>\n",
       "      <th>\"Sex\"</th>\n",
       "      <th>\"Age\"</th>\n",
       "      <th>\"Height (in)\"</th>\n",
       "      <th>\"Weight (lbs)\"</th>\n",
       "    </tr>\n",
       "  </thead>\n",
       "  <tbody>\n",
       "    <tr>\n",
       "      <th>0</th>\n",
       "      <td>Alex</td>\n",
       "      <td>\"M\"</td>\n",
       "      <td>41</td>\n",
       "      <td>74</td>\n",
       "      <td>170</td>\n",
       "    </tr>\n",
       "    <tr>\n",
       "      <th>1</th>\n",
       "      <td>Bert</td>\n",
       "      <td>\"M\"</td>\n",
       "      <td>42</td>\n",
       "      <td>68</td>\n",
       "      <td>166</td>\n",
       "    </tr>\n",
       "    <tr>\n",
       "      <th>2</th>\n",
       "      <td>Carl</td>\n",
       "      <td>\"M\"</td>\n",
       "      <td>32</td>\n",
       "      <td>70</td>\n",
       "      <td>155</td>\n",
       "    </tr>\n",
       "    <tr>\n",
       "      <th>3</th>\n",
       "      <td>Dave</td>\n",
       "      <td>\"M\"</td>\n",
       "      <td>39</td>\n",
       "      <td>72</td>\n",
       "      <td>167</td>\n",
       "    </tr>\n",
       "    <tr>\n",
       "      <th>4</th>\n",
       "      <td>Elly</td>\n",
       "      <td>\"F\"</td>\n",
       "      <td>30</td>\n",
       "      <td>66</td>\n",
       "      <td>124</td>\n",
       "    </tr>\n",
       "    <tr>\n",
       "      <th>5</th>\n",
       "      <td>Fran</td>\n",
       "      <td>\"F\"</td>\n",
       "      <td>33</td>\n",
       "      <td>66</td>\n",
       "      <td>115</td>\n",
       "    </tr>\n",
       "    <tr>\n",
       "      <th>6</th>\n",
       "      <td>Gwen</td>\n",
       "      <td>\"F\"</td>\n",
       "      <td>26</td>\n",
       "      <td>64</td>\n",
       "      <td>121</td>\n",
       "    </tr>\n",
       "    <tr>\n",
       "      <th>7</th>\n",
       "      <td>Hank</td>\n",
       "      <td>\"M\"</td>\n",
       "      <td>30</td>\n",
       "      <td>71</td>\n",
       "      <td>158</td>\n",
       "    </tr>\n",
       "    <tr>\n",
       "      <th>8</th>\n",
       "      <td>Ivan</td>\n",
       "      <td>\"M\"</td>\n",
       "      <td>53</td>\n",
       "      <td>72</td>\n",
       "      <td>175</td>\n",
       "    </tr>\n",
       "    <tr>\n",
       "      <th>9</th>\n",
       "      <td>Jake</td>\n",
       "      <td>\"M\"</td>\n",
       "      <td>32</td>\n",
       "      <td>69</td>\n",
       "      <td>143</td>\n",
       "    </tr>\n",
       "    <tr>\n",
       "      <th>10</th>\n",
       "      <td>Kate</td>\n",
       "      <td>\"F\"</td>\n",
       "      <td>47</td>\n",
       "      <td>69</td>\n",
       "      <td>139</td>\n",
       "    </tr>\n",
       "    <tr>\n",
       "      <th>11</th>\n",
       "      <td>Luke</td>\n",
       "      <td>\"M\"</td>\n",
       "      <td>34</td>\n",
       "      <td>72</td>\n",
       "      <td>163</td>\n",
       "    </tr>\n",
       "    <tr>\n",
       "      <th>12</th>\n",
       "      <td>Myra</td>\n",
       "      <td>\"F\"</td>\n",
       "      <td>23</td>\n",
       "      <td>62</td>\n",
       "      <td>98</td>\n",
       "    </tr>\n",
       "    <tr>\n",
       "      <th>13</th>\n",
       "      <td>Neil</td>\n",
       "      <td>\"M\"</td>\n",
       "      <td>36</td>\n",
       "      <td>75</td>\n",
       "      <td>160</td>\n",
       "    </tr>\n",
       "    <tr>\n",
       "      <th>14</th>\n",
       "      <td>Omar</td>\n",
       "      <td>\"M\"</td>\n",
       "      <td>38</td>\n",
       "      <td>70</td>\n",
       "      <td>145</td>\n",
       "    </tr>\n",
       "    <tr>\n",
       "      <th>15</th>\n",
       "      <td>Page</td>\n",
       "      <td>\"F\"</td>\n",
       "      <td>31</td>\n",
       "      <td>67</td>\n",
       "      <td>135</td>\n",
       "    </tr>\n",
       "    <tr>\n",
       "      <th>16</th>\n",
       "      <td>Quin</td>\n",
       "      <td>\"M\"</td>\n",
       "      <td>29</td>\n",
       "      <td>71</td>\n",
       "      <td>176</td>\n",
       "    </tr>\n",
       "    <tr>\n",
       "      <th>17</th>\n",
       "      <td>Ruth</td>\n",
       "      <td>\"F\"</td>\n",
       "      <td>28</td>\n",
       "      <td>65</td>\n",
       "      <td>131</td>\n",
       "    </tr>\n",
       "  </tbody>\n",
       "</table>\n",
       "</div>"
      ],
      "text/plain": [
       "    Name       \"Sex\"   \"Age\"   \"Height (in)\"   \"Weight (lbs)\"\n",
       "0   Alex         \"M\"      41              74              170\n",
       "1   Bert         \"M\"      42              68              166\n",
       "2   Carl         \"M\"      32              70              155\n",
       "3   Dave         \"M\"      39              72              167\n",
       "4   Elly         \"F\"      30              66              124\n",
       "5   Fran         \"F\"      33              66              115\n",
       "6   Gwen         \"F\"      26              64              121\n",
       "7   Hank         \"M\"      30              71              158\n",
       "8   Ivan         \"M\"      53              72              175\n",
       "9   Jake         \"M\"      32              69              143\n",
       "10  Kate         \"F\"      47              69              139\n",
       "11  Luke         \"M\"      34              72              163\n",
       "12  Myra         \"F\"      23              62               98\n",
       "13  Neil         \"M\"      36              75              160\n",
       "14  Omar         \"M\"      38              70              145\n",
       "15  Page         \"F\"      31              67              135\n",
       "16  Quin         \"M\"      29              71              176\n",
       "17  Ruth         \"F\"      28              65              131"
      ]
     },
     "execution_count": 76,
     "metadata": {},
     "output_type": "execute_result"
    }
   ],
   "source": [
    "mydata2 = pd.read_csv('https://people.sc.fsu.edu/~jburkardt/data/csv/biostats.csv') #CSV dengan nama kolom di baris pertama\n",
    "mydata2"
   ]
  },
  {
   "cell_type": "code",
   "execution_count": 74,
   "metadata": {},
   "outputs": [],
   "source": [
    "mydata2.to_csv('Mydata2', index = False) #Simpan CSV"
   ]
  },
  {
   "attachments": {},
   "cell_type": "markdown",
   "metadata": {},
   "source": [
    "### EXCEL (XLS/XLSX)\n",
    "\n",
    "https://pandas.pydata.org/docs/reference/api/pandas.read_excel.html#pandas.read_excel\n",
    "\n",
    "https://pandas.pydata.org/docs/reference/api/pandas.DataFrame.to_excel.html"
   ]
  },
  {
   "cell_type": "code",
   "execution_count": 77,
   "metadata": {},
   "outputs": [
    {
     "name": "stdout",
     "output_type": "stream",
     "text": [
      "Requirement already satisfied: openpyxl in c:\\users\\hasan\\appdata\\local\\programs\\python\\python310\\lib\\site-packages (3.0.10)Note: you may need to restart the kernel to use updated packages.\n",
      "\n",
      "Requirement already satisfied: et-xmlfile in c:\\users\\hasan\\appdata\\local\\programs\\python\\python310\\lib\\site-packages (from openpyxl) (1.1.0)\n"
     ]
    },
    {
     "name": "stderr",
     "output_type": "stream",
     "text": [
      "\n",
      "[notice] A new release of pip available: 22.3.1 -> 24.2\n",
      "[notice] To update, run: python.exe -m pip install --upgrade pip\n"
     ]
    },
    {
     "name": "stdout",
     "output_type": "stream",
     "text": [
      "Note: you may need to restart the kernel to use updated packages.Requirement already satisfied: xlrd in c:\\users\\hasan\\appdata\\local\\programs\\python\\python310\\lib\\site-packages (2.0.1)\n",
      "\n"
     ]
    },
    {
     "name": "stderr",
     "output_type": "stream",
     "text": [
      "\n",
      "[notice] A new release of pip available: 22.3.1 -> 24.2\n",
      "[notice] To update, run: python.exe -m pip install --upgrade pip\n"
     ]
    }
   ],
   "source": [
    "%pip install openpyxl\n",
    "%pip install xlrd"
   ]
  },
  {
   "cell_type": "code",
   "execution_count": 78,
   "metadata": {},
   "outputs": [
    {
     "data": {
      "text/html": [
       "<div>\n",
       "<style scoped>\n",
       "    .dataframe tbody tr th:only-of-type {\n",
       "        vertical-align: middle;\n",
       "    }\n",
       "\n",
       "    .dataframe tbody tr th {\n",
       "        vertical-align: top;\n",
       "    }\n",
       "\n",
       "    .dataframe thead th {\n",
       "        text-align: right;\n",
       "    }\n",
       "</style>\n",
       "<table border=\"1\" class=\"dataframe\">\n",
       "  <thead>\n",
       "    <tr style=\"text-align: right;\">\n",
       "      <th></th>\n",
       "      <th>0</th>\n",
       "      <th>1</th>\n",
       "      <th>2</th>\n",
       "      <th>3</th>\n",
       "      <th>4</th>\n",
       "      <th>5</th>\n",
       "      <th>6</th>\n",
       "      <th>7</th>\n",
       "      <th>8</th>\n",
       "    </tr>\n",
       "  </thead>\n",
       "  <tbody>\n",
       "    <tr>\n",
       "      <th>0</th>\n",
       "      <td>MC</td>\n",
       "      <td>What is 2+2?</td>\n",
       "      <td>4</td>\n",
       "      <td>correct</td>\n",
       "      <td>3</td>\n",
       "      <td>incorrect</td>\n",
       "      <td>NaN</td>\n",
       "      <td>NaN</td>\n",
       "      <td>NaN</td>\n",
       "    </tr>\n",
       "    <tr>\n",
       "      <th>1</th>\n",
       "      <td>MA</td>\n",
       "      <td>What C datatypes are 8 bits? (assume i386)</td>\n",
       "      <td>int</td>\n",
       "      <td>NaN</td>\n",
       "      <td>float</td>\n",
       "      <td>NaN</td>\n",
       "      <td>double</td>\n",
       "      <td>NaN</td>\n",
       "      <td>char</td>\n",
       "    </tr>\n",
       "    <tr>\n",
       "      <th>2</th>\n",
       "      <td>TF</td>\n",
       "      <td>Bagpipes are awesome.</td>\n",
       "      <td>true</td>\n",
       "      <td>NaN</td>\n",
       "      <td>NaN</td>\n",
       "      <td>NaN</td>\n",
       "      <td>NaN</td>\n",
       "      <td>NaN</td>\n",
       "      <td>NaN</td>\n",
       "    </tr>\n",
       "    <tr>\n",
       "      <th>3</th>\n",
       "      <td>ESS</td>\n",
       "      <td>How have the original Henry Hornbostel buildin...</td>\n",
       "      <td>NaN</td>\n",
       "      <td>NaN</td>\n",
       "      <td>NaN</td>\n",
       "      <td>NaN</td>\n",
       "      <td>NaN</td>\n",
       "      <td>NaN</td>\n",
       "      <td>NaN</td>\n",
       "    </tr>\n",
       "    <tr>\n",
       "      <th>4</th>\n",
       "      <td>ORD</td>\n",
       "      <td>Rank the following in their order of operation.</td>\n",
       "      <td>Parentheses</td>\n",
       "      <td>Exponents</td>\n",
       "      <td>Division</td>\n",
       "      <td>Addition</td>\n",
       "      <td>NaN</td>\n",
       "      <td>NaN</td>\n",
       "      <td>NaN</td>\n",
       "    </tr>\n",
       "  </tbody>\n",
       "</table>\n",
       "</div>"
      ],
      "text/plain": [
       "     0                                                  1            2  \\\n",
       "0   MC                                       What is 2+2?            4   \n",
       "1   MA         What C datatypes are 8 bits? (assume i386)          int   \n",
       "2   TF                              Bagpipes are awesome.         true   \n",
       "3  ESS  How have the original Henry Hornbostel buildin...          NaN   \n",
       "4  ORD    Rank the following in their order of operation.  Parentheses   \n",
       "\n",
       "           3         4          5       6    7     8  \n",
       "0    correct         3  incorrect     NaN  NaN   NaN  \n",
       "1        NaN     float        NaN  double  NaN  char  \n",
       "2        NaN       NaN        NaN     NaN  NaN   NaN  \n",
       "3        NaN       NaN        NaN     NaN  NaN   NaN  \n",
       "4  Exponents  Division   Addition     NaN  NaN   NaN  "
      ]
     },
     "execution_count": 78,
     "metadata": {},
     "output_type": "execute_result"
    }
   ],
   "source": [
    "mydata = pd.read_excel('https://www.cmu.edu/blackboard/files/evaluate/tests-example.xls', header = None, sheet_name = 'Example Test')\n",
    "mydata.head()"
   ]
  },
  {
   "attachments": {},
   "cell_type": "markdown",
   "metadata": {},
   "source": [
    "### Clipboard"
   ]
  },
  {
   "cell_type": "code",
   "execution_count": 79,
   "metadata": {},
   "outputs": [
    {
     "data": {
      "text/html": [
       "<div>\n",
       "<style scoped>\n",
       "    .dataframe tbody tr th:only-of-type {\n",
       "        vertical-align: middle;\n",
       "    }\n",
       "\n",
       "    .dataframe tbody tr th {\n",
       "        vertical-align: top;\n",
       "    }\n",
       "\n",
       "    .dataframe thead th {\n",
       "        text-align: right;\n",
       "    }\n",
       "</style>\n",
       "<table border=\"1\" class=\"dataframe\">\n",
       "  <thead>\n",
       "    <tr style=\"text-align: right;\">\n",
       "      <th></th>\n",
       "      <th>0</th>\n",
       "      <th>1</th>\n",
       "      <th>2</th>\n",
       "      <th>3</th>\n",
       "    </tr>\n",
       "  </thead>\n",
       "  <tbody>\n",
       "    <tr>\n",
       "      <th>0</th>\n",
       "      <td>No</td>\n",
       "      <td>Modul</td>\n",
       "      <td>Level</td>\n",
       "      <td>Jennis</td>\n",
       "    </tr>\n",
       "    <tr>\n",
       "      <th>1</th>\n",
       "      <td>1</td>\n",
       "      <td>Power BI - Mengelola Datasets pada Power BI</td>\n",
       "      <td>Intermediate</td>\n",
       "      <td>HTML5</td>\n",
       "    </tr>\n",
       "    <tr>\n",
       "      <th>2</th>\n",
       "      <td>2</td>\n",
       "      <td>Power BI - Optimalisasi Model Data dalam Power BI</td>\n",
       "      <td>Intermediate</td>\n",
       "      <td>HTML5</td>\n",
       "    </tr>\n",
       "    <tr>\n",
       "      <th>3</th>\n",
       "      <td>3</td>\n",
       "      <td>Power BI - Membangun dan Mengelola Workspace p...</td>\n",
       "      <td>Intermediate</td>\n",
       "      <td>HTML5</td>\n",
       "    </tr>\n",
       "    <tr>\n",
       "      <th>4</th>\n",
       "      <td>4</td>\n",
       "      <td>Power BI - Bekerja dengan Power BI Visuals</td>\n",
       "      <td>Intermediate</td>\n",
       "      <td>HTML5</td>\n",
       "    </tr>\n",
       "  </tbody>\n",
       "</table>\n",
       "</div>"
      ],
      "text/plain": [
       "    0                                                  1             2       3\n",
       "0  No                                              Modul         Level  Jennis\n",
       "1   1        Power BI - Mengelola Datasets pada Power BI  Intermediate   HTML5\n",
       "2   2  Power BI - Optimalisasi Model Data dalam Power BI  Intermediate   HTML5\n",
       "3   3  Power BI - Membangun dan Mengelola Workspace p...  Intermediate   HTML5\n",
       "4   4         Power BI - Bekerja dengan Power BI Visuals  Intermediate   HTML5"
      ]
     },
     "execution_count": 79,
     "metadata": {},
     "output_type": "execute_result"
    }
   ],
   "source": [
    "mydata7 = pd.read_clipboard(header = None)\n",
    "mydata7.head()"
   ]
  },
  {
   "cell_type": "code",
   "execution_count": 80,
   "metadata": {},
   "outputs": [
    {
     "data": {
      "text/html": [
       "<div>\n",
       "<style scoped>\n",
       "    .dataframe tbody tr th:only-of-type {\n",
       "        vertical-align: middle;\n",
       "    }\n",
       "\n",
       "    .dataframe tbody tr th {\n",
       "        vertical-align: top;\n",
       "    }\n",
       "\n",
       "    .dataframe thead th {\n",
       "        text-align: right;\n",
       "    }\n",
       "</style>\n",
       "<table border=\"1\" class=\"dataframe\">\n",
       "  <thead>\n",
       "    <tr style=\"text-align: right;\">\n",
       "      <th></th>\n",
       "      <th>No</th>\n",
       "      <th>Modul</th>\n",
       "      <th>Level</th>\n",
       "      <th>Jennis</th>\n",
       "    </tr>\n",
       "  </thead>\n",
       "  <tbody>\n",
       "    <tr>\n",
       "      <th>0</th>\n",
       "      <td>1</td>\n",
       "      <td>Power BI - Mengelola Datasets pada Power BI</td>\n",
       "      <td>Intermediate</td>\n",
       "      <td>HTML5</td>\n",
       "    </tr>\n",
       "    <tr>\n",
       "      <th>1</th>\n",
       "      <td>2</td>\n",
       "      <td>Power BI - Optimalisasi Model Data dalam Power BI</td>\n",
       "      <td>Intermediate</td>\n",
       "      <td>HTML5</td>\n",
       "    </tr>\n",
       "    <tr>\n",
       "      <th>2</th>\n",
       "      <td>3</td>\n",
       "      <td>Power BI - Membangun dan Mengelola Workspace p...</td>\n",
       "      <td>Intermediate</td>\n",
       "      <td>HTML5</td>\n",
       "    </tr>\n",
       "    <tr>\n",
       "      <th>3</th>\n",
       "      <td>4</td>\n",
       "      <td>Power BI - Bekerja dengan Power BI Visuals</td>\n",
       "      <td>Intermediate</td>\n",
       "      <td>HTML5</td>\n",
       "    </tr>\n",
       "    <tr>\n",
       "      <th>4</th>\n",
       "      <td>5</td>\n",
       "      <td>Power BI - Get Started Building with Power BI</td>\n",
       "      <td>Fundamental</td>\n",
       "      <td>Script</td>\n",
       "    </tr>\n",
       "  </tbody>\n",
       "</table>\n",
       "</div>"
      ],
      "text/plain": [
       "   No                                              Modul         Level  Jennis\n",
       "0   1        Power BI - Mengelola Datasets pada Power BI  Intermediate   HTML5\n",
       "1   2  Power BI - Optimalisasi Model Data dalam Power BI  Intermediate   HTML5\n",
       "2   3  Power BI - Membangun dan Mengelola Workspace p...  Intermediate   HTML5\n",
       "3   4         Power BI - Bekerja dengan Power BI Visuals  Intermediate   HTML5\n",
       "4   5      Power BI - Get Started Building with Power BI   Fundamental  Script"
      ]
     },
     "execution_count": 80,
     "metadata": {},
     "output_type": "execute_result"
    }
   ],
   "source": [
    "mydata7 = pd.read_clipboard(header = 0)\n",
    "mydata7.head()"
   ]
  },
  {
   "attachments": {},
   "cell_type": "markdown",
   "metadata": {},
   "source": [
    "## Common Methods"
   ]
  },
  {
   "attachments": {},
   "cell_type": "markdown",
   "metadata": {},
   "source": [
    "### pd.describe() (ringkasan data variabel numerik)\n",
    "\n",
    "https://pandas.pydata.org/docs/reference/api/pandas.DataFrame.describe.html"
   ]
  },
  {
   "cell_type": "code",
   "execution_count": 81,
   "metadata": {},
   "outputs": [
    {
     "data": {
      "text/html": [
       "<div>\n",
       "<style scoped>\n",
       "    .dataframe tbody tr th:only-of-type {\n",
       "        vertical-align: middle;\n",
       "    }\n",
       "\n",
       "    .dataframe tbody tr th {\n",
       "        vertical-align: top;\n",
       "    }\n",
       "\n",
       "    .dataframe thead th {\n",
       "        text-align: right;\n",
       "    }\n",
       "</style>\n",
       "<table border=\"1\" class=\"dataframe\">\n",
       "  <thead>\n",
       "    <tr style=\"text-align: right;\">\n",
       "      <th></th>\n",
       "      <th>Nilai Ujian</th>\n",
       "      <th>Nilai Tugas</th>\n",
       "    </tr>\n",
       "  </thead>\n",
       "  <tbody>\n",
       "    <tr>\n",
       "      <th>count</th>\n",
       "      <td>4.000000</td>\n",
       "      <td>4.000000</td>\n",
       "    </tr>\n",
       "    <tr>\n",
       "      <th>mean</th>\n",
       "      <td>45.000000</td>\n",
       "      <td>92.500000</td>\n",
       "    </tr>\n",
       "    <tr>\n",
       "      <th>std</th>\n",
       "      <td>31.091264</td>\n",
       "      <td>9.574271</td>\n",
       "    </tr>\n",
       "    <tr>\n",
       "      <th>min</th>\n",
       "      <td>20.000000</td>\n",
       "      <td>80.000000</td>\n",
       "    </tr>\n",
       "    <tr>\n",
       "      <th>25%</th>\n",
       "      <td>27.500000</td>\n",
       "      <td>87.500000</td>\n",
       "    </tr>\n",
       "    <tr>\n",
       "      <th>50%</th>\n",
       "      <td>35.000000</td>\n",
       "      <td>95.000000</td>\n",
       "    </tr>\n",
       "    <tr>\n",
       "      <th>75%</th>\n",
       "      <td>52.500000</td>\n",
       "      <td>100.000000</td>\n",
       "    </tr>\n",
       "    <tr>\n",
       "      <th>max</th>\n",
       "      <td>90.000000</td>\n",
       "      <td>100.000000</td>\n",
       "    </tr>\n",
       "  </tbody>\n",
       "</table>\n",
       "</div>"
      ],
      "text/plain": [
       "       Nilai Ujian  Nilai Tugas\n",
       "count     4.000000     4.000000\n",
       "mean     45.000000    92.500000\n",
       "std      31.091264     9.574271\n",
       "min      20.000000    80.000000\n",
       "25%      27.500000    87.500000\n",
       "50%      35.000000    95.000000\n",
       "75%      52.500000   100.000000\n",
       "max      90.000000   100.000000"
      ]
     },
     "execution_count": 81,
     "metadata": {},
     "output_type": "execute_result"
    }
   ],
   "source": [
    "dataku.describe()"
   ]
  },
  {
   "attachments": {},
   "cell_type": "markdown",
   "metadata": {},
   "source": [
    "### pd.plot() (plot sederhana) \n",
    "\n",
    "https://pandas.pydata.org/docs/reference/api/pandas.DataFrame.sort_values.html #sort_values\n",
    "\n",
    "https://pandas.pydata.org/docs/reference/api/pandas.DataFrame.plot.html #plot"
   ]
  },
  {
   "cell_type": "code",
   "execution_count": 87,
   "metadata": {},
   "outputs": [],
   "source": [
    "import matplotlib.pyplot as plt"
   ]
  },
  {
   "cell_type": "code",
   "execution_count": 82,
   "metadata": {},
   "outputs": [
    {
     "data": {
      "text/plain": [
       "<AxesSubplot: xlabel='Nama Panggilan'>"
      ]
     },
     "execution_count": 82,
     "metadata": {},
     "output_type": "execute_result"
    },
    {
     "data": {
      "image/png": "[encoded data removed]",
      "text/plain": [
       "<Figure size 640x480 with 1 Axes>"
      ]
     },
     "metadata": {},
     "output_type": "display_data"
    }
   ],
   "source": [
    "dataku.sort_values('Nilai Ujian', ascending = False).plot(y = 'Nilai Ujian', kind = 'bar', color = 'red', x = 'Nama Panggilan') #barplot"
   ]
  },
  {
   "cell_type": "code",
   "execution_count": 83,
   "metadata": {},
   "outputs": [
    {
     "data": {
      "text/plain": [
       "<AxesSubplot: title={'center': 'Ini Boxplot'}>"
      ]
     },
     "execution_count": 83,
     "metadata": {},
     "output_type": "execute_result"
    },
    {
     "data": {
      "image/png": "[encoded data removed]",
      "text/plain": [
       "<Figure size 640x480 with 1 Axes>"
      ]
     },
     "metadata": {},
     "output_type": "display_data"
    }
   ],
   "source": [
    "dataku.plot('Nilai Tugas', kind = 'box', color = 'red', title = 'Ini Boxplot') #boxplot"
   ]
  },
  {
   "attachments": {},
   "cell_type": "markdown",
   "metadata": {},
   "source": [
    "### pd.dropna() (buang missing values)\n",
    "\n",
    "https://pandas.pydata.org/docs/reference/api/pandas.DataFrame.dropna.html"
   ]
  },
  {
   "cell_type": "code",
   "execution_count": 84,
   "metadata": {},
   "outputs": [
    {
     "data": {
      "text/html": [
       "<div>\n",
       "<style scoped>\n",
       "    .dataframe tbody tr th:only-of-type {\n",
       "        vertical-align: middle;\n",
       "    }\n",
       "\n",
       "    .dataframe tbody tr th {\n",
       "        vertical-align: top;\n",
       "    }\n",
       "\n",
       "    .dataframe thead th {\n",
       "        text-align: right;\n",
       "    }\n",
       "</style>\n",
       "<table border=\"1\" class=\"dataframe\">\n",
       "  <thead>\n",
       "    <tr style=\"text-align: right;\">\n",
       "      <th></th>\n",
       "      <th>0</th>\n",
       "      <th>1</th>\n",
       "      <th>2</th>\n",
       "      <th>3</th>\n",
       "      <th>4</th>\n",
       "      <th>5</th>\n",
       "      <th>6</th>\n",
       "      <th>7</th>\n",
       "      <th>8</th>\n",
       "    </tr>\n",
       "  </thead>\n",
       "  <tbody>\n",
       "    <tr>\n",
       "      <th>0</th>\n",
       "      <td>MC</td>\n",
       "      <td>What is 2+2?</td>\n",
       "      <td>4</td>\n",
       "      <td>correct</td>\n",
       "      <td>3</td>\n",
       "      <td>incorrect</td>\n",
       "      <td>NaN</td>\n",
       "      <td>NaN</td>\n",
       "      <td>NaN</td>\n",
       "    </tr>\n",
       "    <tr>\n",
       "      <th>1</th>\n",
       "      <td>MA</td>\n",
       "      <td>What C datatypes are 8 bits? (assume i386)</td>\n",
       "      <td>int</td>\n",
       "      <td>NaN</td>\n",
       "      <td>float</td>\n",
       "      <td>NaN</td>\n",
       "      <td>double</td>\n",
       "      <td>NaN</td>\n",
       "      <td>char</td>\n",
       "    </tr>\n",
       "    <tr>\n",
       "      <th>2</th>\n",
       "      <td>TF</td>\n",
       "      <td>Bagpipes are awesome.</td>\n",
       "      <td>true</td>\n",
       "      <td>NaN</td>\n",
       "      <td>NaN</td>\n",
       "      <td>NaN</td>\n",
       "      <td>NaN</td>\n",
       "      <td>NaN</td>\n",
       "      <td>NaN</td>\n",
       "    </tr>\n",
       "    <tr>\n",
       "      <th>3</th>\n",
       "      <td>ESS</td>\n",
       "      <td>How have the original Henry Hornbostel buildin...</td>\n",
       "      <td>NaN</td>\n",
       "      <td>NaN</td>\n",
       "      <td>NaN</td>\n",
       "      <td>NaN</td>\n",
       "      <td>NaN</td>\n",
       "      <td>NaN</td>\n",
       "      <td>NaN</td>\n",
       "    </tr>\n",
       "    <tr>\n",
       "      <th>4</th>\n",
       "      <td>ORD</td>\n",
       "      <td>Rank the following in their order of operation.</td>\n",
       "      <td>Parentheses</td>\n",
       "      <td>Exponents</td>\n",
       "      <td>Division</td>\n",
       "      <td>Addition</td>\n",
       "      <td>NaN</td>\n",
       "      <td>NaN</td>\n",
       "      <td>NaN</td>\n",
       "    </tr>\n",
       "    <tr>\n",
       "      <th>5</th>\n",
       "      <td>FIB</td>\n",
       "      <td>The student activities fee is</td>\n",
       "      <td>95</td>\n",
       "      <td>dollars for students enrolled in</td>\n",
       "      <td>19</td>\n",
       "      <td>units or more,</td>\n",
       "      <td>NaN</td>\n",
       "      <td>NaN</td>\n",
       "      <td>NaN</td>\n",
       "    </tr>\n",
       "    <tr>\n",
       "      <th>6</th>\n",
       "      <td>MAT</td>\n",
       "      <td>Match the lower-case greek letter with its cap...</td>\n",
       "      <td>λ</td>\n",
       "      <td>Λ</td>\n",
       "      <td>α</td>\n",
       "      <td>γ</td>\n",
       "      <td>Γ</td>\n",
       "      <td>φ</td>\n",
       "      <td>Φ</td>\n",
       "    </tr>\n",
       "  </tbody>\n",
       "</table>\n",
       "</div>"
      ],
      "text/plain": [
       "     0                                                  1            2  \\\n",
       "0   MC                                       What is 2+2?            4   \n",
       "1   MA         What C datatypes are 8 bits? (assume i386)          int   \n",
       "2   TF                              Bagpipes are awesome.         true   \n",
       "3  ESS  How have the original Henry Hornbostel buildin...          NaN   \n",
       "4  ORD    Rank the following in their order of operation.  Parentheses   \n",
       "5  FIB                      The student activities fee is           95   \n",
       "6  MAT  Match the lower-case greek letter with its cap...            λ   \n",
       "\n",
       "                                  3         4               5       6    7  \\\n",
       "0                           correct         3       incorrect     NaN  NaN   \n",
       "1                               NaN     float             NaN  double  NaN   \n",
       "2                               NaN       NaN             NaN     NaN  NaN   \n",
       "3                               NaN       NaN             NaN     NaN  NaN   \n",
       "4                         Exponents  Division        Addition     NaN  NaN   \n",
       "5  dollars for students enrolled in        19  units or more,     NaN  NaN   \n",
       "6                                 Λ         α               γ       Γ    φ   \n",
       "\n",
       "      8  \n",
       "0   NaN  \n",
       "1  char  \n",
       "2   NaN  \n",
       "3   NaN  \n",
       "4   NaN  \n",
       "5   NaN  \n",
       "6     Φ  "
      ]
     },
     "execution_count": 84,
     "metadata": {},
     "output_type": "execute_result"
    }
   ],
   "source": [
    "mydata"
   ]
  },
  {
   "cell_type": "code",
   "execution_count": 85,
   "metadata": {},
   "outputs": [
    {
     "data": {
      "text/html": [
       "<div>\n",
       "<style scoped>\n",
       "    .dataframe tbody tr th:only-of-type {\n",
       "        vertical-align: middle;\n",
       "    }\n",
       "\n",
       "    .dataframe tbody tr th {\n",
       "        vertical-align: top;\n",
       "    }\n",
       "\n",
       "    .dataframe thead th {\n",
       "        text-align: right;\n",
       "    }\n",
       "</style>\n",
       "<table border=\"1\" class=\"dataframe\">\n",
       "  <thead>\n",
       "    <tr style=\"text-align: right;\">\n",
       "      <th></th>\n",
       "      <th>0</th>\n",
       "      <th>1</th>\n",
       "      <th>2</th>\n",
       "      <th>3</th>\n",
       "      <th>4</th>\n",
       "      <th>5</th>\n",
       "      <th>6</th>\n",
       "      <th>7</th>\n",
       "      <th>8</th>\n",
       "    </tr>\n",
       "  </thead>\n",
       "  <tbody>\n",
       "    <tr>\n",
       "      <th>6</th>\n",
       "      <td>MAT</td>\n",
       "      <td>Match the lower-case greek letter with its cap...</td>\n",
       "      <td>λ</td>\n",
       "      <td>Λ</td>\n",
       "      <td>α</td>\n",
       "      <td>γ</td>\n",
       "      <td>Γ</td>\n",
       "      <td>φ</td>\n",
       "      <td>Φ</td>\n",
       "    </tr>\n",
       "  </tbody>\n",
       "</table>\n",
       "</div>"
      ],
      "text/plain": [
       "     0                                                  1  2  3  4  5  6  7  8\n",
       "6  MAT  Match the lower-case greek letter with its cap...  λ  Λ  α  γ  Γ  φ  Φ"
      ]
     },
     "execution_count": 85,
     "metadata": {},
     "output_type": "execute_result"
    }
   ],
   "source": [
    "mydata = mydata.dropna()\n",
    "mydata"
   ]
  },
  {
   "attachments": {},
   "cell_type": "markdown",
   "metadata": {},
   "source": [
    "### pd.fillna() (replace missing values)\n",
    "\n",
    "https://pandas.pydata.org/docs/reference/api/pandas.DataFrame.fillna.html"
   ]
  },
  {
   "cell_type": "code",
   "execution_count": 86,
   "metadata": {},
   "outputs": [
    {
     "data": {
      "text/html": [
       "<div>\n",
       "<style scoped>\n",
       "    .dataframe tbody tr th:only-of-type {\n",
       "        vertical-align: middle;\n",
       "    }\n",
       "\n",
       "    .dataframe tbody tr th {\n",
       "        vertical-align: top;\n",
       "    }\n",
       "\n",
       "    .dataframe thead th {\n",
       "        text-align: right;\n",
       "    }\n",
       "</style>\n",
       "<table border=\"1\" class=\"dataframe\">\n",
       "  <thead>\n",
       "    <tr style=\"text-align: right;\">\n",
       "      <th></th>\n",
       "      <th>0</th>\n",
       "      <th>1</th>\n",
       "      <th>2</th>\n",
       "      <th>3</th>\n",
       "      <th>4</th>\n",
       "      <th>5</th>\n",
       "      <th>6</th>\n",
       "      <th>7</th>\n",
       "      <th>8</th>\n",
       "    </tr>\n",
       "  </thead>\n",
       "  <tbody>\n",
       "    <tr>\n",
       "      <th>0</th>\n",
       "      <td>MC</td>\n",
       "      <td>What is 2+2?</td>\n",
       "      <td>4</td>\n",
       "      <td>correct</td>\n",
       "      <td>3</td>\n",
       "      <td>incorrect</td>\n",
       "      <td>NaN</td>\n",
       "      <td>NaN</td>\n",
       "      <td>NaN</td>\n",
       "    </tr>\n",
       "    <tr>\n",
       "      <th>1</th>\n",
       "      <td>MA</td>\n",
       "      <td>What C datatypes are 8 bits? (assume i386)</td>\n",
       "      <td>int</td>\n",
       "      <td>NaN</td>\n",
       "      <td>float</td>\n",
       "      <td>NaN</td>\n",
       "      <td>double</td>\n",
       "      <td>NaN</td>\n",
       "      <td>char</td>\n",
       "    </tr>\n",
       "    <tr>\n",
       "      <th>2</th>\n",
       "      <td>TF</td>\n",
       "      <td>Bagpipes are awesome.</td>\n",
       "      <td>true</td>\n",
       "      <td>NaN</td>\n",
       "      <td>NaN</td>\n",
       "      <td>NaN</td>\n",
       "      <td>NaN</td>\n",
       "      <td>NaN</td>\n",
       "      <td>NaN</td>\n",
       "    </tr>\n",
       "    <tr>\n",
       "      <th>3</th>\n",
       "      <td>ESS</td>\n",
       "      <td>How have the original Henry Hornbostel buildin...</td>\n",
       "      <td>NaN</td>\n",
       "      <td>NaN</td>\n",
       "      <td>NaN</td>\n",
       "      <td>NaN</td>\n",
       "      <td>NaN</td>\n",
       "      <td>NaN</td>\n",
       "      <td>NaN</td>\n",
       "    </tr>\n",
       "    <tr>\n",
       "      <th>4</th>\n",
       "      <td>ORD</td>\n",
       "      <td>Rank the following in their order of operation.</td>\n",
       "      <td>Parentheses</td>\n",
       "      <td>Exponents</td>\n",
       "      <td>Division</td>\n",
       "      <td>Addition</td>\n",
       "      <td>NaN</td>\n",
       "      <td>NaN</td>\n",
       "      <td>NaN</td>\n",
       "    </tr>\n",
       "  </tbody>\n",
       "</table>\n",
       "</div>"
      ],
      "text/plain": [
       "     0                                                  1            2  \\\n",
       "0   MC                                       What is 2+2?            4   \n",
       "1   MA         What C datatypes are 8 bits? (assume i386)          int   \n",
       "2   TF                              Bagpipes are awesome.         true   \n",
       "3  ESS  How have the original Henry Hornbostel buildin...          NaN   \n",
       "4  ORD    Rank the following in their order of operation.  Parentheses   \n",
       "\n",
       "           3         4          5       6    7     8  \n",
       "0    correct         3  incorrect     NaN  NaN   NaN  \n",
       "1        NaN     float        NaN  double  NaN  char  \n",
       "2        NaN       NaN        NaN     NaN  NaN   NaN  \n",
       "3        NaN       NaN        NaN     NaN  NaN   NaN  \n",
       "4  Exponents  Division   Addition     NaN  NaN   NaN  "
      ]
     },
     "execution_count": 86,
     "metadata": {},
     "output_type": "execute_result"
    }
   ],
   "source": [
    "mydata = pd.read_excel('https://www.cmu.edu/blackboard/files/evaluate/tests-example.xls', header = None, sheet_name = 'Example Test')\n",
    "mydata.head()"
   ]
  },
  {
   "cell_type": "code",
   "execution_count": 87,
   "metadata": {},
   "outputs": [
    {
     "data": {
      "text/html": [
       "<div>\n",
       "<style scoped>\n",
       "    .dataframe tbody tr th:only-of-type {\n",
       "        vertical-align: middle;\n",
       "    }\n",
       "\n",
       "    .dataframe tbody tr th {\n",
       "        vertical-align: top;\n",
       "    }\n",
       "\n",
       "    .dataframe thead th {\n",
       "        text-align: right;\n",
       "    }\n",
       "</style>\n",
       "<table border=\"1\" class=\"dataframe\">\n",
       "  <thead>\n",
       "    <tr style=\"text-align: right;\">\n",
       "      <th></th>\n",
       "      <th>0</th>\n",
       "      <th>1</th>\n",
       "      <th>2</th>\n",
       "      <th>3</th>\n",
       "      <th>4</th>\n",
       "      <th>5</th>\n",
       "      <th>6</th>\n",
       "      <th>7</th>\n",
       "      <th>8</th>\n",
       "    </tr>\n",
       "  </thead>\n",
       "  <tbody>\n",
       "    <tr>\n",
       "      <th>0</th>\n",
       "      <td>MC</td>\n",
       "      <td>What is 2+2?</td>\n",
       "      <td>4</td>\n",
       "      <td>correct</td>\n",
       "      <td>3</td>\n",
       "      <td>incorrect</td>\n",
       "      <td>replacer</td>\n",
       "      <td>replacer</td>\n",
       "      <td>replacer</td>\n",
       "    </tr>\n",
       "    <tr>\n",
       "      <th>1</th>\n",
       "      <td>MA</td>\n",
       "      <td>What C datatypes are 8 bits? (assume i386)</td>\n",
       "      <td>int</td>\n",
       "      <td>replacer</td>\n",
       "      <td>float</td>\n",
       "      <td>replacer</td>\n",
       "      <td>double</td>\n",
       "      <td>replacer</td>\n",
       "      <td>char</td>\n",
       "    </tr>\n",
       "    <tr>\n",
       "      <th>2</th>\n",
       "      <td>TF</td>\n",
       "      <td>Bagpipes are awesome.</td>\n",
       "      <td>true</td>\n",
       "      <td>replacer</td>\n",
       "      <td>replacer</td>\n",
       "      <td>replacer</td>\n",
       "      <td>replacer</td>\n",
       "      <td>replacer</td>\n",
       "      <td>replacer</td>\n",
       "    </tr>\n",
       "    <tr>\n",
       "      <th>3</th>\n",
       "      <td>ESS</td>\n",
       "      <td>How have the original Henry Hornbostel buildin...</td>\n",
       "      <td>replacer</td>\n",
       "      <td>replacer</td>\n",
       "      <td>replacer</td>\n",
       "      <td>replacer</td>\n",
       "      <td>replacer</td>\n",
       "      <td>replacer</td>\n",
       "      <td>replacer</td>\n",
       "    </tr>\n",
       "    <tr>\n",
       "      <th>4</th>\n",
       "      <td>ORD</td>\n",
       "      <td>Rank the following in their order of operation.</td>\n",
       "      <td>Parentheses</td>\n",
       "      <td>Exponents</td>\n",
       "      <td>Division</td>\n",
       "      <td>Addition</td>\n",
       "      <td>replacer</td>\n",
       "      <td>replacer</td>\n",
       "      <td>replacer</td>\n",
       "    </tr>\n",
       "    <tr>\n",
       "      <th>5</th>\n",
       "      <td>FIB</td>\n",
       "      <td>The student activities fee is</td>\n",
       "      <td>95</td>\n",
       "      <td>dollars for students enrolled in</td>\n",
       "      <td>19</td>\n",
       "      <td>units or more,</td>\n",
       "      <td>replacer</td>\n",
       "      <td>replacer</td>\n",
       "      <td>replacer</td>\n",
       "    </tr>\n",
       "    <tr>\n",
       "      <th>6</th>\n",
       "      <td>MAT</td>\n",
       "      <td>Match the lower-case greek letter with its cap...</td>\n",
       "      <td>λ</td>\n",
       "      <td>Λ</td>\n",
       "      <td>α</td>\n",
       "      <td>γ</td>\n",
       "      <td>Γ</td>\n",
       "      <td>φ</td>\n",
       "      <td>Φ</td>\n",
       "    </tr>\n",
       "  </tbody>\n",
       "</table>\n",
       "</div>"
      ],
      "text/plain": [
       "     0                                                  1            2  \\\n",
       "0   MC                                       What is 2+2?            4   \n",
       "1   MA         What C datatypes are 8 bits? (assume i386)          int   \n",
       "2   TF                              Bagpipes are awesome.         true   \n",
       "3  ESS  How have the original Henry Hornbostel buildin...     replacer   \n",
       "4  ORD    Rank the following in their order of operation.  Parentheses   \n",
       "5  FIB                      The student activities fee is           95   \n",
       "6  MAT  Match the lower-case greek letter with its cap...            λ   \n",
       "\n",
       "                                  3         4               5         6  \\\n",
       "0                           correct         3       incorrect  replacer   \n",
       "1                          replacer     float        replacer    double   \n",
       "2                          replacer  replacer        replacer  replacer   \n",
       "3                          replacer  replacer        replacer  replacer   \n",
       "4                         Exponents  Division        Addition  replacer   \n",
       "5  dollars for students enrolled in        19  units or more,  replacer   \n",
       "6                                 Λ         α               γ         Γ   \n",
       "\n",
       "          7         8  \n",
       "0  replacer  replacer  \n",
       "1  replacer      char  \n",
       "2  replacer  replacer  \n",
       "3  replacer  replacer  \n",
       "4  replacer  replacer  \n",
       "5  replacer  replacer  \n",
       "6         φ         Φ  "
      ]
     },
     "execution_count": 87,
     "metadata": {},
     "output_type": "execute_result"
    }
   ],
   "source": [
    "mydata = mydata.fillna('replacer')\n",
    "mydata"
   ]
  },
  {
   "cell_type": "code",
   "execution_count": 96,
   "metadata": {},
   "outputs": [
    {
     "data": {
      "text/plain": [
       "(7, 9)"
      ]
     },
     "execution_count": 96,
     "metadata": {},
     "output_type": "execute_result"
    }
   ],
   "source": [
    "mydata.shape"
   ]
  }
 ],
 "metadata": {
  "kernelspec": {
   "display_name": "Python 3",
   "language": "python",
   "name": "python3"
  },
  "language_info": {
   "codemirror_mode": {
    "name": "ipython",
    "version": 3
   },
   "file_extension": ".py",
   "mimetype": "text/x-python",
   "name": "python",
   "nbconvert_exporter": "python",
   "pygments_lexer": "ipython3",
   "version": "3.10.9"
  },
  "orig_nbformat": 4,
  "vscode": {
   "interpreter": {
    "hash": "31f2aee4e71d21fbe5cf8b01ff0e069b9275f58929596ceb00d14d90e3e16cd6"
   }
  }
 },
 "nbformat": 4,
 "nbformat_minor": 2
}
