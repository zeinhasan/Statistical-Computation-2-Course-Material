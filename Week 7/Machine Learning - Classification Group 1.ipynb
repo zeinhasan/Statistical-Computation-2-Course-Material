{
 "cells": [
  {
   "cell_type": "code",
   "execution_count": null,
   "metadata": {},
   "outputs": [],
   "source": [
    "%pip install ipython-autotime\n",
    "%pip install pandas\n",
    "%pip install numpy\n",
    "%load_ext autotime"
   ]
  },
  {
   "cell_type": "code",
   "execution_count": 2,
   "metadata": {},
   "outputs": [
    {
     "name": "stdout",
     "output_type": "stream",
     "text": [
      "time: 5.74 s (started: 2023-05-04 22:06:44 +07:00)\n"
     ]
    }
   ],
   "source": [
    "import pandas as pd\n",
    "import numpy as np"
   ]
  },
  {
   "attachments": {},
   "cell_type": "markdown",
   "metadata": {},
   "source": [
    "# Read dataset in JSON"
   ]
  },
  {
   "cell_type": "code",
   "execution_count": 4,
   "metadata": {},
   "outputs": [
    {
     "data": {
      "text/html": [
       "<div>\n",
       "<style scoped>\n",
       "    .dataframe tbody tr th:only-of-type {\n",
       "        vertical-align: middle;\n",
       "    }\n",
       "\n",
       "    .dataframe tbody tr th {\n",
       "        vertical-align: top;\n",
       "    }\n",
       "\n",
       "    .dataframe thead th {\n",
       "        text-align: right;\n",
       "    }\n",
       "</style>\n",
       "<table border=\"1\" class=\"dataframe\">\n",
       "  <thead>\n",
       "    <tr style=\"text-align: right;\">\n",
       "      <th></th>\n",
       "      <th>PassengerId</th>\n",
       "      <th>Survived</th>\n",
       "      <th>Pclass</th>\n",
       "      <th>Name</th>\n",
       "      <th>Sex</th>\n",
       "      <th>Age</th>\n",
       "      <th>SibSp</th>\n",
       "      <th>Parch</th>\n",
       "      <th>Ticket</th>\n",
       "      <th>Fare</th>\n",
       "      <th>Cabin</th>\n",
       "      <th>Embarked</th>\n",
       "    </tr>\n",
       "  </thead>\n",
       "  <tbody>\n",
       "    <tr>\n",
       "      <th>0</th>\n",
       "      <td>1</td>\n",
       "      <td>0</td>\n",
       "      <td>3</td>\n",
       "      <td>Braund, Mr. Owen Harris</td>\n",
       "      <td>male</td>\n",
       "      <td>22.0</td>\n",
       "      <td>1</td>\n",
       "      <td>0</td>\n",
       "      <td>A/5 21171</td>\n",
       "      <td>7.2500</td>\n",
       "      <td>None</td>\n",
       "      <td>S</td>\n",
       "    </tr>\n",
       "    <tr>\n",
       "      <th>1</th>\n",
       "      <td>2</td>\n",
       "      <td>1</td>\n",
       "      <td>1</td>\n",
       "      <td>Cumings, Mrs. John Bradley (Florence Briggs Th...</td>\n",
       "      <td>female</td>\n",
       "      <td>38.0</td>\n",
       "      <td>1</td>\n",
       "      <td>0</td>\n",
       "      <td>PC 17599</td>\n",
       "      <td>71.2833</td>\n",
       "      <td>C85</td>\n",
       "      <td>C</td>\n",
       "    </tr>\n",
       "    <tr>\n",
       "      <th>2</th>\n",
       "      <td>3</td>\n",
       "      <td>1</td>\n",
       "      <td>3</td>\n",
       "      <td>Heikkinen, Miss. Laina</td>\n",
       "      <td>female</td>\n",
       "      <td>26.0</td>\n",
       "      <td>0</td>\n",
       "      <td>0</td>\n",
       "      <td>STON/O2. 3101282</td>\n",
       "      <td>7.9250</td>\n",
       "      <td>None</td>\n",
       "      <td>S</td>\n",
       "    </tr>\n",
       "    <tr>\n",
       "      <th>3</th>\n",
       "      <td>4</td>\n",
       "      <td>1</td>\n",
       "      <td>1</td>\n",
       "      <td>Futrelle, Mrs. Jacques Heath (Lily May Peel)</td>\n",
       "      <td>female</td>\n",
       "      <td>35.0</td>\n",
       "      <td>1</td>\n",
       "      <td>0</td>\n",
       "      <td>113803</td>\n",
       "      <td>53.1000</td>\n",
       "      <td>C123</td>\n",
       "      <td>S</td>\n",
       "    </tr>\n",
       "    <tr>\n",
       "      <th>4</th>\n",
       "      <td>5</td>\n",
       "      <td>0</td>\n",
       "      <td>3</td>\n",
       "      <td>Allen, Mr. William Henry</td>\n",
       "      <td>male</td>\n",
       "      <td>35.0</td>\n",
       "      <td>0</td>\n",
       "      <td>0</td>\n",
       "      <td>373450</td>\n",
       "      <td>8.0500</td>\n",
       "      <td>None</td>\n",
       "      <td>S</td>\n",
       "    </tr>\n",
       "  </tbody>\n",
       "</table>\n",
       "</div>"
      ],
      "text/plain": [
       "   PassengerId  Survived  Pclass  \\\n",
       "0            1         0       3   \n",
       "1            2         1       1   \n",
       "2            3         1       3   \n",
       "3            4         1       1   \n",
       "4            5         0       3   \n",
       "\n",
       "                                                Name     Sex   Age  SibSp  \\\n",
       "0                            Braund, Mr. Owen Harris    male  22.0      1   \n",
       "1  Cumings, Mrs. John Bradley (Florence Briggs Th...  female  38.0      1   \n",
       "2                             Heikkinen, Miss. Laina  female  26.0      0   \n",
       "3       Futrelle, Mrs. Jacques Heath (Lily May Peel)  female  35.0      1   \n",
       "4                           Allen, Mr. William Henry    male  35.0      0   \n",
       "\n",
       "   Parch            Ticket     Fare Cabin Embarked  \n",
       "0      0         A/5 21171   7.2500  None        S  \n",
       "1      0          PC 17599  71.2833   C85        C  \n",
       "2      0  STON/O2. 3101282   7.9250  None        S  \n",
       "3      0            113803  53.1000  C123        S  \n",
       "4      0            373450   8.0500  None        S  "
      ]
     },
     "execution_count": 4,
     "metadata": {},
     "output_type": "execute_result"
    },
    {
     "name": "stdout",
     "output_type": "stream",
     "text": [
      "time: 156 ms (started: 2023-05-04 22:10:27 +07:00)\n"
     ]
    }
   ],
   "source": [
    "dafi = pd.read_json('titanic_json.json')\n",
    "dafi.head()"
   ]
  },
  {
   "cell_type": "code",
   "execution_count": 5,
   "metadata": {},
   "outputs": [
    {
     "data": {
      "text/plain": [
       "(891, 12)"
      ]
     },
     "execution_count": 5,
     "metadata": {},
     "output_type": "execute_result"
    },
    {
     "name": "stdout",
     "output_type": "stream",
     "text": [
      "time: 0 ns (started: 2023-05-04 22:10:30 +07:00)\n"
     ]
    }
   ],
   "source": [
    "dafi.shape"
   ]
  },
  {
   "attachments": {},
   "cell_type": "markdown",
   "metadata": {},
   "source": [
    "# Preprocessing\n",
    "\n",
    "Kolom yang akan menjadi prediktor adalah Survived, Pclass, Sex, Age, SibSp, Parch, Fare, Cabin, dan Embarked.\n",
    "\n",
    "Kolom respon adalah Survived.\n",
    "\n",
    "Kolom dengan data non-angka akan diubah menjadi angka dengan teknik categorical label encoding.\n",
    "\n",
    "Sebagai contoh, Sex:male diberi label 1, Sex:female diberi label 2.\n",
    "\n",
    "Missing value pada kolom kategorik (Pclass, Sex, SibSp, Parch, Cabin, dan Embarked) akan diisi dengan nilai modus.\n",
    "\n",
    "Missing value pada kolom numerik (Fare, Age) akan diisi dengan median."
   ]
  },
  {
   "attachments": {},
   "cell_type": "markdown",
   "metadata": {},
   "source": [
    "#### Pisahkan X dan y"
   ]
  },
  {
   "cell_type": "code",
   "execution_count": 6,
   "metadata": {},
   "outputs": [
    {
     "name": "stdout",
     "output_type": "stream",
     "text": [
      "time: 16 ms (started: 2023-05-04 22:10:32 +07:00)\n"
     ]
    }
   ],
   "source": [
    "# Pilih variabel X yang sudah dalam bentuk angka\n",
    "X_angka = dafi[['Pclass', 'Age', 'SibSp', 'Parch', 'Fare']]\n",
    "\n",
    "# Pilih variabel X yang masih bukan angka\n",
    "X_yang_bukan_angka = dafi[['Sex', 'Cabin', 'Embarked']]\n",
    "\n",
    "# Pilih variabel Y\n",
    "y = dafi['Survived']"
   ]
  },
  {
   "attachments": {},
   "cell_type": "markdown",
   "metadata": {},
   "source": [
    "### Ubah kolom non-angka ke dalam angka dengan label encoding\n",
    "\n",
    "Kolom yg ingin kita ubah adalah Sex, Cabin, dan Embarked."
   ]
  },
  {
   "cell_type": "code",
   "execution_count": 7,
   "metadata": {},
   "outputs": [
    {
     "data": {
      "text/html": [
       "<div>\n",
       "<style scoped>\n",
       "    .dataframe tbody tr th:only-of-type {\n",
       "        vertical-align: middle;\n",
       "    }\n",
       "\n",
       "    .dataframe tbody tr th {\n",
       "        vertical-align: top;\n",
       "    }\n",
       "\n",
       "    .dataframe thead th {\n",
       "        text-align: right;\n",
       "    }\n",
       "</style>\n",
       "<table border=\"1\" class=\"dataframe\">\n",
       "  <thead>\n",
       "    <tr style=\"text-align: right;\">\n",
       "      <th></th>\n",
       "      <th>Sex</th>\n",
       "      <th>Cabin</th>\n",
       "      <th>Embarked</th>\n",
       "    </tr>\n",
       "  </thead>\n",
       "  <tbody>\n",
       "    <tr>\n",
       "      <th>0</th>\n",
       "      <td>1</td>\n",
       "      <td>147</td>\n",
       "      <td>2</td>\n",
       "    </tr>\n",
       "    <tr>\n",
       "      <th>1</th>\n",
       "      <td>0</td>\n",
       "      <td>81</td>\n",
       "      <td>0</td>\n",
       "    </tr>\n",
       "    <tr>\n",
       "      <th>2</th>\n",
       "      <td>0</td>\n",
       "      <td>147</td>\n",
       "      <td>2</td>\n",
       "    </tr>\n",
       "    <tr>\n",
       "      <th>3</th>\n",
       "      <td>0</td>\n",
       "      <td>55</td>\n",
       "      <td>2</td>\n",
       "    </tr>\n",
       "    <tr>\n",
       "      <th>4</th>\n",
       "      <td>1</td>\n",
       "      <td>147</td>\n",
       "      <td>2</td>\n",
       "    </tr>\n",
       "    <tr>\n",
       "      <th>...</th>\n",
       "      <td>...</td>\n",
       "      <td>...</td>\n",
       "      <td>...</td>\n",
       "    </tr>\n",
       "    <tr>\n",
       "      <th>886</th>\n",
       "      <td>1</td>\n",
       "      <td>147</td>\n",
       "      <td>2</td>\n",
       "    </tr>\n",
       "    <tr>\n",
       "      <th>887</th>\n",
       "      <td>0</td>\n",
       "      <td>30</td>\n",
       "      <td>2</td>\n",
       "    </tr>\n",
       "    <tr>\n",
       "      <th>888</th>\n",
       "      <td>0</td>\n",
       "      <td>147</td>\n",
       "      <td>2</td>\n",
       "    </tr>\n",
       "    <tr>\n",
       "      <th>889</th>\n",
       "      <td>1</td>\n",
       "      <td>60</td>\n",
       "      <td>0</td>\n",
       "    </tr>\n",
       "    <tr>\n",
       "      <th>890</th>\n",
       "      <td>1</td>\n",
       "      <td>147</td>\n",
       "      <td>1</td>\n",
       "    </tr>\n",
       "  </tbody>\n",
       "</table>\n",
       "<p>891 rows × 3 columns</p>\n",
       "</div>"
      ],
      "text/plain": [
       "     Sex  Cabin  Embarked\n",
       "0      1    147         2\n",
       "1      0     81         0\n",
       "2      0    147         2\n",
       "3      0     55         2\n",
       "4      1    147         2\n",
       "..   ...    ...       ...\n",
       "886    1    147         2\n",
       "887    0     30         2\n",
       "888    0    147         2\n",
       "889    1     60         0\n",
       "890    1    147         1\n",
       "\n",
       "[891 rows x 3 columns]"
      ]
     },
     "execution_count": 7,
     "metadata": {},
     "output_type": "execute_result"
    },
    {
     "name": "stdout",
     "output_type": "stream",
     "text": [
      "time: 7.28 s (started: 2023-05-04 22:10:34 +07:00)\n"
     ]
    }
   ],
   "source": [
    "from sklearn.preprocessing import LabelEncoder\n",
    "X_yang_bukan_angka_udah_di_encode = X_yang_bukan_angka.apply(LabelEncoder().fit_transform)\n",
    "X_yang_bukan_angka_udah_di_encode"
   ]
  },
  {
   "cell_type": "code",
   "execution_count": 8,
   "metadata": {},
   "outputs": [
    {
     "data": {
      "text/html": [
       "<div>\n",
       "<style scoped>\n",
       "    .dataframe tbody tr th:only-of-type {\n",
       "        vertical-align: middle;\n",
       "    }\n",
       "\n",
       "    .dataframe tbody tr th {\n",
       "        vertical-align: top;\n",
       "    }\n",
       "\n",
       "    .dataframe thead th {\n",
       "        text-align: right;\n",
       "    }\n",
       "</style>\n",
       "<table border=\"1\" class=\"dataframe\">\n",
       "  <thead>\n",
       "    <tr style=\"text-align: right;\">\n",
       "      <th></th>\n",
       "      <th>Pclass</th>\n",
       "      <th>Age</th>\n",
       "      <th>SibSp</th>\n",
       "      <th>Parch</th>\n",
       "      <th>Fare</th>\n",
       "      <th>Sex</th>\n",
       "      <th>Cabin</th>\n",
       "      <th>Embarked</th>\n",
       "    </tr>\n",
       "  </thead>\n",
       "  <tbody>\n",
       "    <tr>\n",
       "      <th>0</th>\n",
       "      <td>3</td>\n",
       "      <td>22.0</td>\n",
       "      <td>1</td>\n",
       "      <td>0</td>\n",
       "      <td>7.2500</td>\n",
       "      <td>1</td>\n",
       "      <td>147</td>\n",
       "      <td>2</td>\n",
       "    </tr>\n",
       "    <tr>\n",
       "      <th>1</th>\n",
       "      <td>1</td>\n",
       "      <td>38.0</td>\n",
       "      <td>1</td>\n",
       "      <td>0</td>\n",
       "      <td>71.2833</td>\n",
       "      <td>0</td>\n",
       "      <td>81</td>\n",
       "      <td>0</td>\n",
       "    </tr>\n",
       "    <tr>\n",
       "      <th>2</th>\n",
       "      <td>3</td>\n",
       "      <td>26.0</td>\n",
       "      <td>0</td>\n",
       "      <td>0</td>\n",
       "      <td>7.9250</td>\n",
       "      <td>0</td>\n",
       "      <td>147</td>\n",
       "      <td>2</td>\n",
       "    </tr>\n",
       "    <tr>\n",
       "      <th>3</th>\n",
       "      <td>1</td>\n",
       "      <td>35.0</td>\n",
       "      <td>1</td>\n",
       "      <td>0</td>\n",
       "      <td>53.1000</td>\n",
       "      <td>0</td>\n",
       "      <td>55</td>\n",
       "      <td>2</td>\n",
       "    </tr>\n",
       "    <tr>\n",
       "      <th>4</th>\n",
       "      <td>3</td>\n",
       "      <td>35.0</td>\n",
       "      <td>0</td>\n",
       "      <td>0</td>\n",
       "      <td>8.0500</td>\n",
       "      <td>1</td>\n",
       "      <td>147</td>\n",
       "      <td>2</td>\n",
       "    </tr>\n",
       "    <tr>\n",
       "      <th>...</th>\n",
       "      <td>...</td>\n",
       "      <td>...</td>\n",
       "      <td>...</td>\n",
       "      <td>...</td>\n",
       "      <td>...</td>\n",
       "      <td>...</td>\n",
       "      <td>...</td>\n",
       "      <td>...</td>\n",
       "    </tr>\n",
       "    <tr>\n",
       "      <th>886</th>\n",
       "      <td>2</td>\n",
       "      <td>27.0</td>\n",
       "      <td>0</td>\n",
       "      <td>0</td>\n",
       "      <td>13.0000</td>\n",
       "      <td>1</td>\n",
       "      <td>147</td>\n",
       "      <td>2</td>\n",
       "    </tr>\n",
       "    <tr>\n",
       "      <th>887</th>\n",
       "      <td>1</td>\n",
       "      <td>19.0</td>\n",
       "      <td>0</td>\n",
       "      <td>0</td>\n",
       "      <td>30.0000</td>\n",
       "      <td>0</td>\n",
       "      <td>30</td>\n",
       "      <td>2</td>\n",
       "    </tr>\n",
       "    <tr>\n",
       "      <th>888</th>\n",
       "      <td>3</td>\n",
       "      <td>NaN</td>\n",
       "      <td>1</td>\n",
       "      <td>2</td>\n",
       "      <td>23.4500</td>\n",
       "      <td>0</td>\n",
       "      <td>147</td>\n",
       "      <td>2</td>\n",
       "    </tr>\n",
       "    <tr>\n",
       "      <th>889</th>\n",
       "      <td>1</td>\n",
       "      <td>26.0</td>\n",
       "      <td>0</td>\n",
       "      <td>0</td>\n",
       "      <td>30.0000</td>\n",
       "      <td>1</td>\n",
       "      <td>60</td>\n",
       "      <td>0</td>\n",
       "    </tr>\n",
       "    <tr>\n",
       "      <th>890</th>\n",
       "      <td>3</td>\n",
       "      <td>32.0</td>\n",
       "      <td>0</td>\n",
       "      <td>0</td>\n",
       "      <td>7.7500</td>\n",
       "      <td>1</td>\n",
       "      <td>147</td>\n",
       "      <td>1</td>\n",
       "    </tr>\n",
       "  </tbody>\n",
       "</table>\n",
       "<p>891 rows × 8 columns</p>\n",
       "</div>"
      ],
      "text/plain": [
       "     Pclass   Age  SibSp  Parch     Fare  Sex  Cabin  Embarked\n",
       "0         3  22.0      1      0   7.2500    1    147         2\n",
       "1         1  38.0      1      0  71.2833    0     81         0\n",
       "2         3  26.0      0      0   7.9250    0    147         2\n",
       "3         1  35.0      1      0  53.1000    0     55         2\n",
       "4         3  35.0      0      0   8.0500    1    147         2\n",
       "..      ...   ...    ...    ...      ...  ...    ...       ...\n",
       "886       2  27.0      0      0  13.0000    1    147         2\n",
       "887       1  19.0      0      0  30.0000    0     30         2\n",
       "888       3   NaN      1      2  23.4500    0    147         2\n",
       "889       1  26.0      0      0  30.0000    1     60         0\n",
       "890       3  32.0      0      0   7.7500    1    147         1\n",
       "\n",
       "[891 rows x 8 columns]"
      ]
     },
     "execution_count": 8,
     "metadata": {},
     "output_type": "execute_result"
    },
    {
     "name": "stdout",
     "output_type": "stream",
     "text": [
      "time: 63 ms (started: 2023-05-04 22:10:41 +07:00)\n"
     ]
    }
   ],
   "source": [
    "# Gabung hasilnya menjadi satu kesatuan yang utuh\n",
    "X = pd.concat([X_angka, X_yang_bukan_angka_udah_di_encode], axis = 1)\n",
    "X"
   ]
  },
  {
   "attachments": {},
   "cell_type": "markdown",
   "metadata": {},
   "source": [
    "### Observasi ada tidaknya missing value"
   ]
  },
  {
   "cell_type": "code",
   "execution_count": 9,
   "metadata": {},
   "outputs": [
    {
     "data": {
      "text/plain": [
       "Pclass        0\n",
       "Age         177\n",
       "SibSp         0\n",
       "Parch         0\n",
       "Fare          0\n",
       "Sex           0\n",
       "Cabin         0\n",
       "Embarked      0\n",
       "dtype: int64"
      ]
     },
     "execution_count": 9,
     "metadata": {},
     "output_type": "execute_result"
    },
    {
     "name": "stdout",
     "output_type": "stream",
     "text": [
      "time: 15 ms (started: 2023-05-04 22:10:49 +07:00)\n"
     ]
    }
   ],
   "source": [
    "X.isna().sum()"
   ]
  },
  {
   "attachments": {},
   "cell_type": "markdown",
   "metadata": {},
   "source": [
    "### Isi missing value kolom angka (Fare, Age) dengan median"
   ]
  },
  {
   "cell_type": "code",
   "execution_count": 10,
   "metadata": {},
   "outputs": [
    {
     "data": {
      "text/html": [
       "<div>\n",
       "<style scoped>\n",
       "    .dataframe tbody tr th:only-of-type {\n",
       "        vertical-align: middle;\n",
       "    }\n",
       "\n",
       "    .dataframe tbody tr th {\n",
       "        vertical-align: top;\n",
       "    }\n",
       "\n",
       "    .dataframe thead th {\n",
       "        text-align: right;\n",
       "    }\n",
       "</style>\n",
       "<table border=\"1\" class=\"dataframe\">\n",
       "  <thead>\n",
       "    <tr style=\"text-align: right;\">\n",
       "      <th></th>\n",
       "      <th>Pclass</th>\n",
       "      <th>Age</th>\n",
       "      <th>SibSp</th>\n",
       "      <th>Parch</th>\n",
       "      <th>Fare</th>\n",
       "      <th>Sex</th>\n",
       "      <th>Cabin</th>\n",
       "      <th>Embarked</th>\n",
       "    </tr>\n",
       "  </thead>\n",
       "  <tbody>\n",
       "    <tr>\n",
       "      <th>0</th>\n",
       "      <td>3</td>\n",
       "      <td>22.0</td>\n",
       "      <td>1</td>\n",
       "      <td>0</td>\n",
       "      <td>7.2500</td>\n",
       "      <td>1</td>\n",
       "      <td>147</td>\n",
       "      <td>2</td>\n",
       "    </tr>\n",
       "    <tr>\n",
       "      <th>1</th>\n",
       "      <td>1</td>\n",
       "      <td>38.0</td>\n",
       "      <td>1</td>\n",
       "      <td>0</td>\n",
       "      <td>71.2833</td>\n",
       "      <td>0</td>\n",
       "      <td>81</td>\n",
       "      <td>0</td>\n",
       "    </tr>\n",
       "    <tr>\n",
       "      <th>2</th>\n",
       "      <td>3</td>\n",
       "      <td>26.0</td>\n",
       "      <td>0</td>\n",
       "      <td>0</td>\n",
       "      <td>7.9250</td>\n",
       "      <td>0</td>\n",
       "      <td>147</td>\n",
       "      <td>2</td>\n",
       "    </tr>\n",
       "    <tr>\n",
       "      <th>3</th>\n",
       "      <td>1</td>\n",
       "      <td>35.0</td>\n",
       "      <td>1</td>\n",
       "      <td>0</td>\n",
       "      <td>53.1000</td>\n",
       "      <td>0</td>\n",
       "      <td>55</td>\n",
       "      <td>2</td>\n",
       "    </tr>\n",
       "    <tr>\n",
       "      <th>4</th>\n",
       "      <td>3</td>\n",
       "      <td>35.0</td>\n",
       "      <td>0</td>\n",
       "      <td>0</td>\n",
       "      <td>8.0500</td>\n",
       "      <td>1</td>\n",
       "      <td>147</td>\n",
       "      <td>2</td>\n",
       "    </tr>\n",
       "    <tr>\n",
       "      <th>...</th>\n",
       "      <td>...</td>\n",
       "      <td>...</td>\n",
       "      <td>...</td>\n",
       "      <td>...</td>\n",
       "      <td>...</td>\n",
       "      <td>...</td>\n",
       "      <td>...</td>\n",
       "      <td>...</td>\n",
       "    </tr>\n",
       "    <tr>\n",
       "      <th>886</th>\n",
       "      <td>2</td>\n",
       "      <td>27.0</td>\n",
       "      <td>0</td>\n",
       "      <td>0</td>\n",
       "      <td>13.0000</td>\n",
       "      <td>1</td>\n",
       "      <td>147</td>\n",
       "      <td>2</td>\n",
       "    </tr>\n",
       "    <tr>\n",
       "      <th>887</th>\n",
       "      <td>1</td>\n",
       "      <td>19.0</td>\n",
       "      <td>0</td>\n",
       "      <td>0</td>\n",
       "      <td>30.0000</td>\n",
       "      <td>0</td>\n",
       "      <td>30</td>\n",
       "      <td>2</td>\n",
       "    </tr>\n",
       "    <tr>\n",
       "      <th>888</th>\n",
       "      <td>3</td>\n",
       "      <td>28.0</td>\n",
       "      <td>1</td>\n",
       "      <td>2</td>\n",
       "      <td>23.4500</td>\n",
       "      <td>0</td>\n",
       "      <td>147</td>\n",
       "      <td>2</td>\n",
       "    </tr>\n",
       "    <tr>\n",
       "      <th>889</th>\n",
       "      <td>1</td>\n",
       "      <td>26.0</td>\n",
       "      <td>0</td>\n",
       "      <td>0</td>\n",
       "      <td>30.0000</td>\n",
       "      <td>1</td>\n",
       "      <td>60</td>\n",
       "      <td>0</td>\n",
       "    </tr>\n",
       "    <tr>\n",
       "      <th>890</th>\n",
       "      <td>3</td>\n",
       "      <td>32.0</td>\n",
       "      <td>0</td>\n",
       "      <td>0</td>\n",
       "      <td>7.7500</td>\n",
       "      <td>1</td>\n",
       "      <td>147</td>\n",
       "      <td>1</td>\n",
       "    </tr>\n",
       "  </tbody>\n",
       "</table>\n",
       "<p>891 rows × 8 columns</p>\n",
       "</div>"
      ],
      "text/plain": [
       "     Pclass   Age  SibSp  Parch     Fare  Sex  Cabin  Embarked\n",
       "0         3  22.0      1      0   7.2500    1    147         2\n",
       "1         1  38.0      1      0  71.2833    0     81         0\n",
       "2         3  26.0      0      0   7.9250    0    147         2\n",
       "3         1  35.0      1      0  53.1000    0     55         2\n",
       "4         3  35.0      0      0   8.0500    1    147         2\n",
       "..      ...   ...    ...    ...      ...  ...    ...       ...\n",
       "886       2  27.0      0      0  13.0000    1    147         2\n",
       "887       1  19.0      0      0  30.0000    0     30         2\n",
       "888       3  28.0      1      2  23.4500    0    147         2\n",
       "889       1  26.0      0      0  30.0000    1     60         0\n",
       "890       3  32.0      0      0   7.7500    1    147         1\n",
       "\n",
       "[891 rows x 8 columns]"
      ]
     },
     "execution_count": 10,
     "metadata": {},
     "output_type": "execute_result"
    },
    {
     "name": "stdout",
     "output_type": "stream",
     "text": [
      "time: 31 ms (started: 2023-05-04 22:10:53 +07:00)\n"
     ]
    }
   ],
   "source": [
    "X['Fare'].fillna(X['Fare'].median(), inplace = True)\n",
    "X['Age'].fillna(X['Age'].median(), inplace = True)\n",
    "X"
   ]
  },
  {
   "attachments": {},
   "cell_type": "markdown",
   "metadata": {},
   "source": [
    "### Isi missing value kolom kategorik dengan modus"
   ]
  },
  {
   "cell_type": "code",
   "execution_count": 11,
   "metadata": {},
   "outputs": [
    {
     "data": {
      "text/html": [
       "<div>\n",
       "<style scoped>\n",
       "    .dataframe tbody tr th:only-of-type {\n",
       "        vertical-align: middle;\n",
       "    }\n",
       "\n",
       "    .dataframe tbody tr th {\n",
       "        vertical-align: top;\n",
       "    }\n",
       "\n",
       "    .dataframe thead th {\n",
       "        text-align: right;\n",
       "    }\n",
       "</style>\n",
       "<table border=\"1\" class=\"dataframe\">\n",
       "  <thead>\n",
       "    <tr style=\"text-align: right;\">\n",
       "      <th></th>\n",
       "      <th>Pclass</th>\n",
       "      <th>Age</th>\n",
       "      <th>SibSp</th>\n",
       "      <th>Parch</th>\n",
       "      <th>Fare</th>\n",
       "      <th>Sex</th>\n",
       "      <th>Cabin</th>\n",
       "      <th>Embarked</th>\n",
       "    </tr>\n",
       "  </thead>\n",
       "  <tbody>\n",
       "    <tr>\n",
       "      <th>0</th>\n",
       "      <td>3</td>\n",
       "      <td>22.0</td>\n",
       "      <td>1</td>\n",
       "      <td>0</td>\n",
       "      <td>7.2500</td>\n",
       "      <td>1</td>\n",
       "      <td>147</td>\n",
       "      <td>2</td>\n",
       "    </tr>\n",
       "    <tr>\n",
       "      <th>1</th>\n",
       "      <td>1</td>\n",
       "      <td>38.0</td>\n",
       "      <td>1</td>\n",
       "      <td>0</td>\n",
       "      <td>71.2833</td>\n",
       "      <td>0</td>\n",
       "      <td>81</td>\n",
       "      <td>0</td>\n",
       "    </tr>\n",
       "    <tr>\n",
       "      <th>2</th>\n",
       "      <td>3</td>\n",
       "      <td>26.0</td>\n",
       "      <td>0</td>\n",
       "      <td>0</td>\n",
       "      <td>7.9250</td>\n",
       "      <td>0</td>\n",
       "      <td>147</td>\n",
       "      <td>2</td>\n",
       "    </tr>\n",
       "    <tr>\n",
       "      <th>3</th>\n",
       "      <td>1</td>\n",
       "      <td>35.0</td>\n",
       "      <td>1</td>\n",
       "      <td>0</td>\n",
       "      <td>53.1000</td>\n",
       "      <td>0</td>\n",
       "      <td>55</td>\n",
       "      <td>2</td>\n",
       "    </tr>\n",
       "    <tr>\n",
       "      <th>4</th>\n",
       "      <td>3</td>\n",
       "      <td>35.0</td>\n",
       "      <td>0</td>\n",
       "      <td>0</td>\n",
       "      <td>8.0500</td>\n",
       "      <td>1</td>\n",
       "      <td>147</td>\n",
       "      <td>2</td>\n",
       "    </tr>\n",
       "    <tr>\n",
       "      <th>...</th>\n",
       "      <td>...</td>\n",
       "      <td>...</td>\n",
       "      <td>...</td>\n",
       "      <td>...</td>\n",
       "      <td>...</td>\n",
       "      <td>...</td>\n",
       "      <td>...</td>\n",
       "      <td>...</td>\n",
       "    </tr>\n",
       "    <tr>\n",
       "      <th>886</th>\n",
       "      <td>2</td>\n",
       "      <td>27.0</td>\n",
       "      <td>0</td>\n",
       "      <td>0</td>\n",
       "      <td>13.0000</td>\n",
       "      <td>1</td>\n",
       "      <td>147</td>\n",
       "      <td>2</td>\n",
       "    </tr>\n",
       "    <tr>\n",
       "      <th>887</th>\n",
       "      <td>1</td>\n",
       "      <td>19.0</td>\n",
       "      <td>0</td>\n",
       "      <td>0</td>\n",
       "      <td>30.0000</td>\n",
       "      <td>0</td>\n",
       "      <td>30</td>\n",
       "      <td>2</td>\n",
       "    </tr>\n",
       "    <tr>\n",
       "      <th>888</th>\n",
       "      <td>3</td>\n",
       "      <td>28.0</td>\n",
       "      <td>1</td>\n",
       "      <td>2</td>\n",
       "      <td>23.4500</td>\n",
       "      <td>0</td>\n",
       "      <td>147</td>\n",
       "      <td>2</td>\n",
       "    </tr>\n",
       "    <tr>\n",
       "      <th>889</th>\n",
       "      <td>1</td>\n",
       "      <td>26.0</td>\n",
       "      <td>0</td>\n",
       "      <td>0</td>\n",
       "      <td>30.0000</td>\n",
       "      <td>1</td>\n",
       "      <td>60</td>\n",
       "      <td>0</td>\n",
       "    </tr>\n",
       "    <tr>\n",
       "      <th>890</th>\n",
       "      <td>3</td>\n",
       "      <td>32.0</td>\n",
       "      <td>0</td>\n",
       "      <td>0</td>\n",
       "      <td>7.7500</td>\n",
       "      <td>1</td>\n",
       "      <td>147</td>\n",
       "      <td>1</td>\n",
       "    </tr>\n",
       "  </tbody>\n",
       "</table>\n",
       "<p>891 rows × 8 columns</p>\n",
       "</div>"
      ],
      "text/plain": [
       "     Pclass   Age  SibSp  Parch     Fare  Sex  Cabin  Embarked\n",
       "0         3  22.0      1      0   7.2500    1    147         2\n",
       "1         1  38.0      1      0  71.2833    0     81         0\n",
       "2         3  26.0      0      0   7.9250    0    147         2\n",
       "3         1  35.0      1      0  53.1000    0     55         2\n",
       "4         3  35.0      0      0   8.0500    1    147         2\n",
       "..      ...   ...    ...    ...      ...  ...    ...       ...\n",
       "886       2  27.0      0      0  13.0000    1    147         2\n",
       "887       1  19.0      0      0  30.0000    0     30         2\n",
       "888       3  28.0      1      2  23.4500    0    147         2\n",
       "889       1  26.0      0      0  30.0000    1     60         0\n",
       "890       3  32.0      0      0   7.7500    1    147         1\n",
       "\n",
       "[891 rows x 8 columns]"
      ]
     },
     "execution_count": 11,
     "metadata": {},
     "output_type": "execute_result"
    },
    {
     "name": "stdout",
     "output_type": "stream",
     "text": [
      "time: 47 ms (started: 2023-05-04 22:11:05 +07:00)\n"
     ]
    }
   ],
   "source": [
    "X['Pclass'].fillna(X['Pclass'].mode(), inplace = True)\n",
    "X['SibSp'].fillna(X['SibSp'].mode(), inplace = True)\n",
    "X['Parch'].fillna(X['Parch'].mode(), inplace = True)\n",
    "X['Sex'].fillna(X['Sex'].mode(), inplace = True)\n",
    "X['Cabin'].fillna(X['Cabin'].mode(), inplace = True)\n",
    "X['Embarked'].fillna(X['Embarked'].mode(), inplace = True)\n",
    "X"
   ]
  },
  {
   "cell_type": "code",
   "execution_count": 12,
   "metadata": {},
   "outputs": [
    {
     "data": {
      "text/plain": [
       "Pclass      0\n",
       "Age         0\n",
       "SibSp       0\n",
       "Parch       0\n",
       "Fare        0\n",
       "Sex         0\n",
       "Cabin       0\n",
       "Embarked    0\n",
       "dtype: int64"
      ]
     },
     "execution_count": 12,
     "metadata": {},
     "output_type": "execute_result"
    },
    {
     "name": "stdout",
     "output_type": "stream",
     "text": [
      "time: 16 ms (started: 2023-05-04 22:11:08 +07:00)\n"
     ]
    }
   ],
   "source": [
    "X.isna().sum()"
   ]
  },
  {
   "attachments": {},
   "cell_type": "markdown",
   "metadata": {},
   "source": [
    "# Train Test Split\n",
    "\n",
    "Setelah data 'bersih', saatnya kita bikin model sesuai kreativitas masing2"
   ]
  },
  {
   "cell_type": "code",
   "execution_count": 13,
   "metadata": {},
   "outputs": [
    {
     "name": "stdout",
     "output_type": "stream",
     "text": [
      "time: 484 ms (started: 2023-05-04 22:16:22 +07:00)\n"
     ]
    }
   ],
   "source": [
    "from sklearn.model_selection import train_test_split\n",
    "x_kereta, x_ujian, y_kereta, y_ujian = train_test_split(X, y, test_size = 0.23923, random_state = 455518)"
   ]
  },
  {
   "cell_type": "markdown",
   "metadata": {},
   "source": [
    "# Evaluation Function"
   ]
  },
  {
   "cell_type": "code",
   "execution_count": 18,
   "metadata": {},
   "outputs": [
    {
     "name": "stdout",
     "output_type": "stream",
     "text": [
      "time: 0 ns (started: 2023-05-04 22:29:14 +07:00)\n"
     ]
    }
   ],
   "source": [
    "from sklearn.metrics import accuracy_score, f1_score, precision_score, recall_score, classification_report\n",
    "def evaluate_classification(y_true, y_pred):\n",
    "    accuracy = accuracy_score(y_true, y_pred)\n",
    "    precision = precision_score(y_true, y_pred)\n",
    "    recall = recall_score(y_true, y_pred)\n",
    "    f1 = f1_score(y_true, y_pred)\n",
    "    print(classification_report(y_true, y_pred))\n",
    "    return {'Accuracy': accuracy, 'Precision': precision, 'Recall': recall, 'F1-score': f1}"
   ]
  },
  {
   "attachments": {},
   "cell_type": "markdown",
   "metadata": {},
   "source": [
    "# Model"
   ]
  },
  {
   "cell_type": "code",
   "execution_count": 15,
   "metadata": {},
   "outputs": [
    {
     "name": "stdout",
     "output_type": "stream",
     "text": [
      "time: 1.44 s (started: 2023-05-04 22:28:48 +07:00)\n"
     ]
    }
   ],
   "source": [
    "from sklearn.svm import SVC\n",
    "from sklearn.tree import DecisionTreeClassifier\n",
    "from sklearn.neighbors import KNeighborsClassifier\n",
    "from sklearn.ensemble import AdaBoostClassifier, RandomForestClassifier\n",
    "from sklearn.neural_network import MLPClassifier\n",
    "from sklearn.naive_bayes import GaussianNB\n",
    "from sklearn.discriminant_analysis import QuadraticDiscriminantAnalysis\n",
    "from sklearn.semi_supervised import LabelPropagation, LabelSpreading\n",
    "from sklearn.linear_model import LogisticRegressionCV"
   ]
  },
  {
   "cell_type": "markdown",
   "metadata": {},
   "source": [
    "## Support Vector Machine"
   ]
  },
  {
   "cell_type": "code",
   "execution_count": 19,
   "metadata": {},
   "outputs": [
    {
     "name": "stdout",
     "output_type": "stream",
     "text": [
      "              precision    recall  f1-score   support\n",
      "\n",
      "           0       0.70      0.96      0.81       134\n",
      "           1       0.81      0.33      0.46        80\n",
      "\n",
      "    accuracy                           0.72       214\n",
      "   macro avg       0.76      0.64      0.64       214\n",
      "weighted avg       0.74      0.72      0.68       214\n",
      "\n"
     ]
    },
    {
     "data": {
      "text/plain": [
       "{'Accuracy': 0.719626168224299,\n",
       " 'Precision': 0.8125,\n",
       " 'Recall': 0.325,\n",
       " 'F1-score': 0.46428571428571436}"
      ]
     },
     "execution_count": 19,
     "metadata": {},
     "output_type": "execute_result"
    },
    {
     "name": "stdout",
     "output_type": "stream",
     "text": [
      "time: 109 ms (started: 2023-05-04 22:29:17 +07:00)\n"
     ]
    }
   ],
   "source": [
    "svm_clf = SVC()\n",
    "svm_clf.fit(x_kereta, y_kereta)\n",
    "svm_pred = svm_clf.predict(x_ujian)\n",
    "evaluate_classification(y_ujian, svm_pred)"
   ]
  },
  {
   "cell_type": "markdown",
   "metadata": {},
   "source": [
    "## Decision Tree Classifier"
   ]
  },
  {
   "cell_type": "code",
   "execution_count": 20,
   "metadata": {},
   "outputs": [
    {
     "name": "stdout",
     "output_type": "stream",
     "text": [
      "              precision    recall  f1-score   support\n",
      "\n",
      "           0       0.82      0.95      0.88       134\n",
      "           1       0.88      0.65      0.75        80\n",
      "\n",
      "    accuracy                           0.84       214\n",
      "   macro avg       0.85      0.80      0.81       214\n",
      "weighted avg       0.84      0.84      0.83       214\n",
      "\n"
     ]
    },
    {
     "data": {
      "text/plain": [
       "{'Accuracy': 0.8364485981308412,\n",
       " 'Precision': 0.8813559322033898,\n",
       " 'Recall': 0.65,\n",
       " 'F1-score': 0.7482014388489208}"
      ]
     },
     "execution_count": 20,
     "metadata": {},
     "output_type": "execute_result"
    },
    {
     "name": "stdout",
     "output_type": "stream",
     "text": [
      "time: 63 ms (started: 2023-05-04 22:29:19 +07:00)\n"
     ]
    }
   ],
   "source": [
    "dt_clf = DecisionTreeClassifier(max_depth=5)\n",
    "dt_clf.fit(x_kereta, y_kereta)\n",
    "dt_pred = dt_clf.predict(x_ujian)\n",
    "evaluate_classification(y_ujian, dt_pred)"
   ]
  },
  {
   "cell_type": "markdown",
   "metadata": {},
   "source": [
    "## K Neighbors Classifier"
   ]
  },
  {
   "cell_type": "code",
   "execution_count": 21,
   "metadata": {},
   "outputs": [
    {
     "name": "stdout",
     "output_type": "stream",
     "text": [
      "              precision    recall  f1-score   support\n",
      "\n",
      "           0       0.74      0.81      0.77       134\n",
      "           1       0.62      0.54      0.58        80\n",
      "\n",
      "    accuracy                           0.71       214\n",
      "   macro avg       0.68      0.67      0.68       214\n",
      "weighted avg       0.70      0.71      0.70       214\n",
      "\n"
     ]
    },
    {
     "data": {
      "text/plain": [
       "{'Accuracy': 0.705607476635514,\n",
       " 'Precision': 0.6231884057971014,\n",
       " 'Recall': 0.5375,\n",
       " 'F1-score': 0.5771812080536913}"
      ]
     },
     "execution_count": 21,
     "metadata": {},
     "output_type": "execute_result"
    },
    {
     "name": "stdout",
     "output_type": "stream",
     "text": [
      "time: 47 ms (started: 2023-05-04 22:29:23 +07:00)\n"
     ]
    }
   ],
   "source": [
    "knn_clf = KNeighborsClassifier(n_neighbors=5)\n",
    "knn_clf.fit(x_kereta, y_kereta)\n",
    "knn_pred = knn_clf.predict(x_ujian)\n",
    "evaluate_classification(y_ujian, knn_pred)"
   ]
  },
  {
   "cell_type": "markdown",
   "metadata": {},
   "source": [
    "## Ada Boost Classifier"
   ]
  },
  {
   "cell_type": "code",
   "execution_count": 22,
   "metadata": {},
   "outputs": [
    {
     "name": "stdout",
     "output_type": "stream",
     "text": [
      "              precision    recall  f1-score   support\n",
      "\n",
      "           0       0.86      0.90      0.88       134\n",
      "           1       0.81      0.75      0.78        80\n",
      "\n",
      "    accuracy                           0.84       214\n",
      "   macro avg       0.83      0.82      0.83       214\n",
      "weighted avg       0.84      0.84      0.84       214\n",
      "\n"
     ]
    },
    {
     "data": {
      "text/plain": [
       "{'Accuracy': 0.8411214953271028,\n",
       " 'Precision': 0.8108108108108109,\n",
       " 'Recall': 0.75,\n",
       " 'F1-score': 0.7792207792207791}"
      ]
     },
     "execution_count": 22,
     "metadata": {},
     "output_type": "execute_result"
    },
    {
     "name": "stdout",
     "output_type": "stream",
     "text": [
      "time: 422 ms (started: 2023-05-04 22:29:25 +07:00)\n"
     ]
    }
   ],
   "source": [
    "ada_clf = AdaBoostClassifier(n_estimators=100)\n",
    "ada_clf.fit(x_kereta, y_kereta)\n",
    "ada_pred = ada_clf.predict(x_ujian)\n",
    "evaluate_classification(y_ujian, ada_pred)"
   ]
  },
  {
   "cell_type": "markdown",
   "metadata": {},
   "source": [
    "## MLP Classifier"
   ]
  },
  {
   "cell_type": "code",
   "execution_count": 23,
   "metadata": {},
   "outputs": [
    {
     "name": "stdout",
     "output_type": "stream",
     "text": [
      "              precision    recall  f1-score   support\n",
      "\n",
      "           0       0.82      0.86      0.84       134\n",
      "           1       0.74      0.69      0.71        80\n",
      "\n",
      "    accuracy                           0.79       214\n",
      "   macro avg       0.78      0.77      0.78       214\n",
      "weighted avg       0.79      0.79      0.79       214\n",
      "\n"
     ]
    },
    {
     "data": {
      "text/plain": [
       "{'Accuracy': 0.794392523364486,\n",
       " 'Precision': 0.7432432432432432,\n",
       " 'Recall': 0.6875,\n",
       " 'F1-score': 0.7142857142857143}"
      ]
     },
     "execution_count": 23,
     "metadata": {},
     "output_type": "execute_result"
    },
    {
     "name": "stdout",
     "output_type": "stream",
     "text": [
      "time: 3.19 s (started: 2023-05-04 22:29:27 +07:00)\n"
     ]
    }
   ],
   "source": [
    "mlp_clf = MLPClassifier(hidden_layer_sizes=(10, 5), max_iter=1000)\n",
    "mlp_clf.fit(x_kereta, y_kereta)\n",
    "mlp_pred = mlp_clf.predict(x_ujian)\n",
    "evaluate_classification(y_ujian, mlp_pred)"
   ]
  },
  {
   "cell_type": "markdown",
   "metadata": {},
   "source": [
    "# Gaussian Naive Bayes"
   ]
  },
  {
   "cell_type": "code",
   "execution_count": 24,
   "metadata": {},
   "outputs": [
    {
     "name": "stdout",
     "output_type": "stream",
     "text": [
      "              precision    recall  f1-score   support\n",
      "\n",
      "           0       0.80      0.86      0.83       134\n",
      "           1       0.73      0.64      0.68        80\n",
      "\n",
      "    accuracy                           0.78       214\n",
      "   macro avg       0.76      0.75      0.75       214\n",
      "weighted avg       0.77      0.78      0.77       214\n",
      "\n"
     ]
    },
    {
     "data": {
      "text/plain": [
       "{'Accuracy': 0.7757009345794392,\n",
       " 'Precision': 0.7285714285714285,\n",
       " 'Recall': 0.6375,\n",
       " 'F1-score': 0.68}"
      ]
     },
     "execution_count": 24,
     "metadata": {},
     "output_type": "execute_result"
    },
    {
     "name": "stdout",
     "output_type": "stream",
     "text": [
      "time: 47 ms (started: 2023-05-04 22:29:31 +07:00)\n"
     ]
    }
   ],
   "source": [
    "gnb_clf = GaussianNB()\n",
    "gnb_clf.fit(x_kereta, y_kereta)\n",
    "gnb_pred = gnb_clf.predict(x_ujian)\n",
    "evaluate_classification(y_ujian, gnb_pred)"
   ]
  },
  {
   "cell_type": "markdown",
   "metadata": {},
   "source": [
    "# Random Forest"
   ]
  },
  {
   "cell_type": "code",
   "execution_count": 25,
   "metadata": {},
   "outputs": [
    {
     "name": "stdout",
     "output_type": "stream",
     "text": [
      "              precision    recall  f1-score   support\n",
      "\n",
      "           0       0.80      0.95      0.87       134\n",
      "           1       0.87      0.60      0.71        80\n",
      "\n",
      "    accuracy                           0.82       214\n",
      "   macro avg       0.84      0.77      0.79       214\n",
      "weighted avg       0.83      0.82      0.81       214\n",
      "\n"
     ]
    },
    {
     "data": {
      "text/plain": [
       "{'Accuracy': 0.8177570093457944,\n",
       " 'Precision': 0.8727272727272727,\n",
       " 'Recall': 0.6,\n",
       " 'F1-score': 0.711111111111111}"
      ]
     },
     "execution_count": 25,
     "metadata": {},
     "output_type": "execute_result"
    },
    {
     "name": "stdout",
     "output_type": "stream",
     "text": [
      "time: 610 ms (started: 2023-05-04 22:29:34 +07:00)\n"
     ]
    }
   ],
   "source": [
    "rf_clf = RandomForestClassifier(n_estimators=100, max_depth=5)\n",
    "rf_clf.fit(x_kereta, y_kereta)\n",
    "rf_pred = rf_clf.predict(x_ujian)\n",
    "evaluate_classification(y_ujian, rf_pred)"
   ]
  },
  {
   "cell_type": "markdown",
   "metadata": {},
   "source": [
    "# Quadratic Discriminant Analysis"
   ]
  },
  {
   "cell_type": "code",
   "execution_count": 26,
   "metadata": {},
   "outputs": [
    {
     "name": "stdout",
     "output_type": "stream",
     "text": [
      "              precision    recall  f1-score   support\n",
      "\n",
      "           0       0.84      0.89      0.87       134\n",
      "           1       0.79      0.72      0.76        80\n",
      "\n",
      "    accuracy                           0.83       214\n",
      "   macro avg       0.82      0.81      0.81       214\n",
      "weighted avg       0.83      0.83      0.83       214\n",
      "\n"
     ]
    },
    {
     "data": {
      "text/plain": [
       "{'Accuracy': 0.8271028037383178,\n",
       " 'Precision': 0.7945205479452054,\n",
       " 'Recall': 0.725,\n",
       " 'F1-score': 0.7581699346405228}"
      ]
     },
     "execution_count": 26,
     "metadata": {},
     "output_type": "execute_result"
    },
    {
     "name": "stdout",
     "output_type": "stream",
     "text": [
      "time: 62 ms (started: 2023-05-04 22:29:36 +07:00)\n"
     ]
    }
   ],
   "source": [
    "qda_clf = QuadraticDiscriminantAnalysis()\n",
    "qda_clf.fit(x_kereta, y_kereta)\n",
    "qda_pred = qda_clf.predict(x_ujian)\n",
    "evaluate_classification(y_ujian, qda_pred)"
   ]
  },
  {
   "cell_type": "markdown",
   "metadata": {},
   "source": [
    "# Logistic Regression CV"
   ]
  },
  {
   "cell_type": "code",
   "execution_count": 27,
   "metadata": {},
   "outputs": [
    {
     "name": "stdout",
     "output_type": "stream",
     "text": [
      "              precision    recall  f1-score   support\n",
      "\n",
      "           0       0.82      0.88      0.85       134\n",
      "           1       0.77      0.68      0.72        80\n",
      "\n",
      "    accuracy                           0.80       214\n",
      "   macro avg       0.80      0.78      0.78       214\n",
      "weighted avg       0.80      0.80      0.80       214\n",
      "\n"
     ]
    },
    {
     "data": {
      "text/plain": [
       "{'Accuracy': 0.8037383177570093,\n",
       " 'Precision': 0.7714285714285715,\n",
       " 'Recall': 0.675,\n",
       " 'F1-score': 0.72}"
      ]
     },
     "execution_count": 27,
     "metadata": {},
     "output_type": "execute_result"
    },
    {
     "name": "stdout",
     "output_type": "stream",
     "text": [
      "time: 2.12 s (started: 2023-05-04 22:29:38 +07:00)\n"
     ]
    }
   ],
   "source": [
    "lr_cv_clf = LogisticRegressionCV(cv=5, max_iter=1000)\n",
    "lr_cv_clf.fit(x_kereta, y_kereta)\n",
    "lr_cv_pred = lr_cv_clf.predict(x_ujian)\n",
    "evaluate_classification(y_ujian, lr_cv_pred)"
   ]
  },
  {
   "cell_type": "markdown",
   "metadata": {},
   "source": [
    "# Label Propagation"
   ]
  },
  {
   "cell_type": "code",
   "execution_count": 28,
   "metadata": {},
   "outputs": [
    {
     "name": "stdout",
     "output_type": "stream",
     "text": [
      "              precision    recall  f1-score   support\n",
      "\n",
      "           0       0.73      0.87      0.79       134\n",
      "           1       0.68      0.47      0.56        80\n",
      "\n",
      "    accuracy                           0.72       214\n",
      "   macro avg       0.71      0.67      0.68       214\n",
      "weighted avg       0.71      0.72      0.71       214\n",
      "\n"
     ]
    },
    {
     "data": {
      "text/plain": [
       "{'Accuracy': 0.719626168224299,\n",
       " 'Precision': 0.6785714285714286,\n",
       " 'Recall': 0.475,\n",
       " 'F1-score': 0.5588235294117648}"
      ]
     },
     "execution_count": 28,
     "metadata": {},
     "output_type": "execute_result"
    },
    {
     "name": "stdout",
     "output_type": "stream",
     "text": [
      "time: 94 ms (started: 2023-05-04 22:29:42 +07:00)\n"
     ]
    }
   ],
   "source": [
    "lp_clf = LabelPropagation(kernel='rbf', gamma=0.1)\n",
    "lp_clf.fit(x_kereta, y_kereta)\n",
    "lp_pred = lp_clf.predict(x_ujian)\n",
    "evaluate_classification(y_ujian, lp_pred)"
   ]
  },
  {
   "cell_type": "markdown",
   "metadata": {},
   "source": [
    "# Label Spreading"
   ]
  },
  {
   "cell_type": "code",
   "execution_count": 29,
   "metadata": {},
   "outputs": [
    {
     "name": "stdout",
     "output_type": "stream",
     "text": [
      "              precision    recall  f1-score   support\n",
      "\n",
      "           0       0.74      0.81      0.77       134\n",
      "           1       0.62      0.53      0.57        80\n",
      "\n",
      "    accuracy                           0.70       214\n",
      "   macro avg       0.68      0.67      0.67       214\n",
      "weighted avg       0.69      0.70      0.70       214\n",
      "\n"
     ]
    },
    {
     "data": {
      "text/plain": [
       "{'Accuracy': 0.7009345794392523,\n",
       " 'Precision': 0.6176470588235294,\n",
       " 'Recall': 0.525,\n",
       " 'F1-score': 0.5675675675675677}"
      ]
     },
     "execution_count": 29,
     "metadata": {},
     "output_type": "execute_result"
    },
    {
     "name": "stdout",
     "output_type": "stream",
     "text": [
      "time: 109 ms (started: 2023-05-04 22:29:45 +07:00)\n"
     ]
    }
   ],
   "source": [
    "ls_clf = LabelSpreading(kernel='knn', n_neighbors=5, max_iter=1000)\n",
    "ls_clf.fit(x_kereta, y_kereta)\n",
    "ls_pred = ls_clf.predict(x_ujian)\n",
    "evaluate_classification(y_ujian, ls_pred)"
   ]
  },
  {
   "cell_type": "markdown",
   "metadata": {},
   "source": [
    "# All Model"
   ]
  },
  {
   "cell_type": "code",
   "execution_count": 32,
   "metadata": {},
   "outputs": [
    {
     "name": "stdout",
     "output_type": "stream",
     "text": [
      "time: 0 ns (started: 2023-05-04 22:32:38 +07:00)\n"
     ]
    }
   ],
   "source": [
    "# Model\n",
    "from sklearn.svm import SVC\n",
    "from sklearn.tree import DecisionTreeClassifier\n",
    "from sklearn.neighbors import KNeighborsClassifier\n",
    "from sklearn.ensemble import AdaBoostClassifier\n",
    "from sklearn.neural_network import MLPClassifier\n",
    "\n",
    "# Metrics evaluasi\n",
    "from sklearn.metrics import accuracy_score, f1_score, precision_score, recall_score\n",
    "\n",
    "def auto_model(x_kereta, y_kereta, x_ujian, y_ujian):\n",
    "  # Tulis semua model yg mau dibikin jadi sebuah list kayak gini\n",
    "  daftar_model_kita = [SVC(), DecisionTreeClassifier(), KNeighborsClassifier(), AdaBoostClassifier(), MLPClassifier(), GaussianNB(), RandomForestClassifier(), QuadraticDiscriminantAnalysis(), LabelPropagation(), LabelSpreading(), LogisticRegressionCV()]\n",
    "\n",
    "  # Siapin list buat nyimpen nilai metrics nya, bebas sih mau pilih apa aja\n",
    "  akurasi = []\n",
    "  formula_1 = []\n",
    "  temennya_akurasi = []\n",
    "  recall_recall = []\n",
    "\n",
    "  # Looping deh \n",
    "  for model in daftar_model_kita:\n",
    "    # Di fit\n",
    "    model.fit(x_kereta, y_kereta)\n",
    "\n",
    "    # Prediksi dataset ujian\n",
    "    prediksi_model_kita = model.predict(x_ujian)\n",
    "    akurasi.append(accuracy_score(y_true = y_ujian, y_pred = prediksi_model_kita))\n",
    "    formula_1.append(f1_score(y_true = y_ujian, y_pred = prediksi_model_kita))\n",
    "    temennya_akurasi.append(precision_score(y_true = y_ujian, y_pred = prediksi_model_kita))\n",
    "    recall_recall.append(recall_score(y_true = y_ujian, y_pred = prediksi_model_kita))\n",
    "\n",
    "  # Jadiin sebuah dataframe biar keren gituloh\n",
    "  hasil = {\n",
    "    'model' : daftar_model_kita,\n",
    "    'akurasi' : akurasi,\n",
    "    'formula_1' : formula_1,\n",
    "    'temennya_akurasi' : temennya_akurasi,\n",
    "    'recall_recall' : recall_recall\n",
    "  }\n",
    "\n",
    "  # Balikin hasilnya\n",
    "  return(pd.DataFrame(hasil))"
   ]
  },
  {
   "cell_type": "code",
   "execution_count": null,
   "metadata": {},
   "outputs": [],
   "source": [
    "# Saatnya kita uji\n",
    "hasilnya_masbro = auto_model(x_kereta, y_kereta, x_ujian, y_ujian)"
   ]
  },
  {
   "cell_type": "code",
   "execution_count": 37,
   "metadata": {},
   "outputs": [
    {
     "data": {
      "text/html": [
       "<div>\n",
       "<style scoped>\n",
       "    .dataframe tbody tr th:only-of-type {\n",
       "        vertical-align: middle;\n",
       "    }\n",
       "\n",
       "    .dataframe tbody tr th {\n",
       "        vertical-align: top;\n",
       "    }\n",
       "\n",
       "    .dataframe thead th {\n",
       "        text-align: right;\n",
       "    }\n",
       "</style>\n",
       "<table border=\"1\" class=\"dataframe\">\n",
       "  <thead>\n",
       "    <tr style=\"text-align: right;\">\n",
       "      <th></th>\n",
       "      <th>model</th>\n",
       "      <th>akurasi</th>\n",
       "      <th>formula_1</th>\n",
       "      <th>temennya_akurasi</th>\n",
       "      <th>recall_recall</th>\n",
       "    </tr>\n",
       "  </thead>\n",
       "  <tbody>\n",
       "    <tr>\n",
       "      <th>3</th>\n",
       "      <td>(DecisionTreeClassifier(max_depth=1, random_st...</td>\n",
       "      <td>0.845794</td>\n",
       "      <td>0.784314</td>\n",
       "      <td>0.821918</td>\n",
       "      <td>0.7500</td>\n",
       "    </tr>\n",
       "    <tr>\n",
       "      <th>6</th>\n",
       "      <td>(DecisionTreeClassifier(max_features='sqrt', r...</td>\n",
       "      <td>0.831776</td>\n",
       "      <td>0.760000</td>\n",
       "      <td>0.814286</td>\n",
       "      <td>0.7125</td>\n",
       "    </tr>\n",
       "    <tr>\n",
       "      <th>7</th>\n",
       "      <td>QuadraticDiscriminantAnalysis()</td>\n",
       "      <td>0.827103</td>\n",
       "      <td>0.758170</td>\n",
       "      <td>0.794521</td>\n",
       "      <td>0.7250</td>\n",
       "    </tr>\n",
       "    <tr>\n",
       "      <th>4</th>\n",
       "      <td>MLPClassifier()</td>\n",
       "      <td>0.808411</td>\n",
       "      <td>0.738854</td>\n",
       "      <td>0.753247</td>\n",
       "      <td>0.7250</td>\n",
       "    </tr>\n",
       "    <tr>\n",
       "      <th>10</th>\n",
       "      <td>LogisticRegressionCV()</td>\n",
       "      <td>0.799065</td>\n",
       "      <td>0.715232</td>\n",
       "      <td>0.760563</td>\n",
       "      <td>0.6750</td>\n",
       "    </tr>\n",
       "    <tr>\n",
       "      <th>1</th>\n",
       "      <td>DecisionTreeClassifier()</td>\n",
       "      <td>0.789720</td>\n",
       "      <td>0.693878</td>\n",
       "      <td>0.761194</td>\n",
       "      <td>0.6375</td>\n",
       "    </tr>\n",
       "    <tr>\n",
       "      <th>5</th>\n",
       "      <td>GaussianNB()</td>\n",
       "      <td>0.775701</td>\n",
       "      <td>0.680000</td>\n",
       "      <td>0.728571</td>\n",
       "      <td>0.6375</td>\n",
       "    </tr>\n",
       "    <tr>\n",
       "      <th>0</th>\n",
       "      <td>SVC()</td>\n",
       "      <td>0.719626</td>\n",
       "      <td>0.464286</td>\n",
       "      <td>0.812500</td>\n",
       "      <td>0.3250</td>\n",
       "    </tr>\n",
       "    <tr>\n",
       "      <th>2</th>\n",
       "      <td>KNeighborsClassifier()</td>\n",
       "      <td>0.705607</td>\n",
       "      <td>0.577181</td>\n",
       "      <td>0.623188</td>\n",
       "      <td>0.5375</td>\n",
       "    </tr>\n",
       "    <tr>\n",
       "      <th>9</th>\n",
       "      <td>LabelSpreading()</td>\n",
       "      <td>0.668224</td>\n",
       "      <td>0.517007</td>\n",
       "      <td>0.567164</td>\n",
       "      <td>0.4750</td>\n",
       "    </tr>\n",
       "    <tr>\n",
       "      <th>8</th>\n",
       "      <td>LabelPropagation()</td>\n",
       "      <td>0.663551</td>\n",
       "      <td>0.513514</td>\n",
       "      <td>0.558824</td>\n",
       "      <td>0.4750</td>\n",
       "    </tr>\n",
       "  </tbody>\n",
       "</table>\n",
       "</div>"
      ],
      "text/plain": [
       "                                                model   akurasi  formula_1  \\\n",
       "3   (DecisionTreeClassifier(max_depth=1, random_st...  0.845794   0.784314   \n",
       "6   (DecisionTreeClassifier(max_features='sqrt', r...  0.831776   0.760000   \n",
       "7                     QuadraticDiscriminantAnalysis()  0.827103   0.758170   \n",
       "4                                     MLPClassifier()  0.808411   0.738854   \n",
       "10                             LogisticRegressionCV()  0.799065   0.715232   \n",
       "1                            DecisionTreeClassifier()  0.789720   0.693878   \n",
       "5                                        GaussianNB()  0.775701   0.680000   \n",
       "0                                               SVC()  0.719626   0.464286   \n",
       "2                              KNeighborsClassifier()  0.705607   0.577181   \n",
       "9                                    LabelSpreading()  0.668224   0.517007   \n",
       "8                                  LabelPropagation()  0.663551   0.513514   \n",
       "\n",
       "    temennya_akurasi  recall_recall  \n",
       "3           0.821918         0.7500  \n",
       "6           0.814286         0.7125  \n",
       "7           0.794521         0.7250  \n",
       "4           0.753247         0.7250  \n",
       "10          0.760563         0.6750  \n",
       "1           0.761194         0.6375  \n",
       "5           0.728571         0.6375  \n",
       "0           0.812500         0.3250  \n",
       "2           0.623188         0.5375  \n",
       "9           0.567164         0.4750  \n",
       "8           0.558824         0.4750  "
      ]
     },
     "execution_count": 37,
     "metadata": {},
     "output_type": "execute_result"
    },
    {
     "name": "stdout",
     "output_type": "stream",
     "text": [
      "time: 234 ms (started: 2023-05-04 22:35:27 +07:00)\n"
     ]
    }
   ],
   "source": [
    "hasilnya_masbro.sort_values(by='akurasi', ascending=False)"
   ]
  },
  {
   "attachments": {},
   "cell_type": "markdown",
   "metadata": {},
   "source": [
    "### Bonus content: gunakan Cross Validation, tidak perlu pakai train_test_split!\n",
    "\n",
    "Tujuannya pakai CV sesuai namanya, yaitu untuk validasi hasil akhir. \n",
    "\n",
    "Misal kita sudah punya 2 kandidat model, yaitu Decision Tree vs SVC. Secara akurasi bagusan Decision Tree, tapi secara F1 score bagusan SVC. \n",
    "\n",
    "Untuk memastikan, kita bisa lihat rata2 nilai cross validationnya. CV itu intinya ngecek model kita berulang kali (bukan cuma 1 kali)."
   ]
  },
  {
   "cell_type": "code",
   "execution_count": 34,
   "metadata": {},
   "outputs": [
    {
     "name": "stdout",
     "output_type": "stream",
     "text": [
      "time: 0 ns (started: 2023-05-04 22:32:52 +07:00)\n"
     ]
    }
   ],
   "source": [
    "from sklearn.svm import SVC\n",
    "from sklearn.tree import DecisionTreeClassifier\n",
    "from sklearn.neighbors import KNeighborsClassifier\n",
    "from sklearn.ensemble import AdaBoostClassifier\n",
    "from sklearn.neural_network import MLPClassifier\n",
    "\n",
    "# Ini ni salah satunya\n",
    "from sklearn.model_selection import KFold, cross_val_score\n",
    "\n",
    "def auto_model_pake_cv(X, y):\n",
    "  # Tulis semua model yg mau dibikin jadi sebuah list kayak gini\n",
    "  daftar_model_kita = [SVC(), DecisionTreeClassifier(), KNeighborsClassifier(), AdaBoostClassifier(), MLPClassifier(), GaussianNB(), RandomForestClassifier(), QuadraticDiscriminantAnalysis(), LabelPropagation(), LabelSpreading(), LogisticRegressionCV()]\n",
    "\n",
    "  # Bikin CV buat daftar kerja\n",
    "  # CV ini nanti otomatis dipakai oleh model\n",
    "  cv_kita = KFold(n_splits = 3)\n",
    "\n",
    "  # Siapin list buat nyimpen nilai metrics nya, bebas sih mau pilih apa aja\n",
    "  akurasi = []\n",
    "  formula_1 = []\n",
    "  temennya_akurasi = []\n",
    "  recall_recall = []\n",
    "\n",
    "  # Looping deh \n",
    "  for model in daftar_model_kita:\n",
    "    # Ga usah fit & predict2 lagi bang, langsung kita hitung metricsnya\n",
    "    akurasi.append(np.mean(cross_val_score(model, X, y, cv = cv_kita, scoring = 'accuracy')))\n",
    "    formula_1.append(np.mean(cross_val_score(model, X, y, cv = cv_kita, scoring = 'f1')))\n",
    "    temennya_akurasi.append(np.mean(cross_val_score(model, X, y, cv = cv_kita, scoring = 'precision')))\n",
    "    recall_recall.append(np.mean(cross_val_score(model, X, y, cv = cv_kita, scoring = 'recall')))\n",
    "\n",
    "  # Jadiin sebuah dataframe biar keren gituloh\n",
    "  hasil = {\n",
    "    'model' : daftar_model_kita,\n",
    "    'akurasi' : akurasi,\n",
    "    'formula_1' : formula_1,\n",
    "    'temennya_akurasi' : temennya_akurasi,\n",
    "    'recall_recall' : recall_recall\n",
    "  }\n",
    "\n",
    "  # Balikin hasilnya\n",
    "  return(pd.DataFrame(hasil))"
   ]
  },
  {
   "cell_type": "code",
   "execution_count": null,
   "metadata": {},
   "outputs": [],
   "source": [
    "hasilnya_pake_cv_masbro = auto_model_pake_cv(X, y)"
   ]
  },
  {
   "cell_type": "code",
   "execution_count": 38,
   "metadata": {},
   "outputs": [
    {
     "data": {
      "text/html": [
       "<div>\n",
       "<style scoped>\n",
       "    .dataframe tbody tr th:only-of-type {\n",
       "        vertical-align: middle;\n",
       "    }\n",
       "\n",
       "    .dataframe tbody tr th {\n",
       "        vertical-align: top;\n",
       "    }\n",
       "\n",
       "    .dataframe thead th {\n",
       "        text-align: right;\n",
       "    }\n",
       "</style>\n",
       "<table border=\"1\" class=\"dataframe\">\n",
       "  <thead>\n",
       "    <tr style=\"text-align: right;\">\n",
       "      <th></th>\n",
       "      <th>model</th>\n",
       "      <th>akurasi</th>\n",
       "      <th>formula_1</th>\n",
       "      <th>temennya_akurasi</th>\n",
       "      <th>recall_recall</th>\n",
       "    </tr>\n",
       "  </thead>\n",
       "  <tbody>\n",
       "    <tr>\n",
       "      <th>6</th>\n",
       "      <td>RandomForestClassifier()</td>\n",
       "      <td>0.801347</td>\n",
       "      <td>0.722871</td>\n",
       "      <td>0.726772</td>\n",
       "      <td>0.714011</td>\n",
       "    </tr>\n",
       "    <tr>\n",
       "      <th>3</th>\n",
       "      <td>AdaBoostClassifier()</td>\n",
       "      <td>0.789001</td>\n",
       "      <td>0.726190</td>\n",
       "      <td>0.727422</td>\n",
       "      <td>0.728095</td>\n",
       "    </tr>\n",
       "    <tr>\n",
       "      <th>7</th>\n",
       "      <td>QuadraticDiscriminantAnalysis()</td>\n",
       "      <td>0.787879</td>\n",
       "      <td>0.721571</td>\n",
       "      <td>0.724931</td>\n",
       "      <td>0.718603</td>\n",
       "    </tr>\n",
       "    <tr>\n",
       "      <th>10</th>\n",
       "      <td>LogisticRegressionCV()</td>\n",
       "      <td>0.787879</td>\n",
       "      <td>0.714076</td>\n",
       "      <td>0.738239</td>\n",
       "      <td>0.692388</td>\n",
       "    </tr>\n",
       "    <tr>\n",
       "      <th>1</th>\n",
       "      <td>DecisionTreeClassifier()</td>\n",
       "      <td>0.781145</td>\n",
       "      <td>0.707262</td>\n",
       "      <td>0.710144</td>\n",
       "      <td>0.714801</td>\n",
       "    </tr>\n",
       "    <tr>\n",
       "      <th>5</th>\n",
       "      <td>GaussianNB()</td>\n",
       "      <td>0.769921</td>\n",
       "      <td>0.685857</td>\n",
       "      <td>0.708064</td>\n",
       "      <td>0.666341</td>\n",
       "    </tr>\n",
       "    <tr>\n",
       "      <th>4</th>\n",
       "      <td>MLPClassifier()</td>\n",
       "      <td>0.764310</td>\n",
       "      <td>0.705752</td>\n",
       "      <td>0.721887</td>\n",
       "      <td>0.649502</td>\n",
       "    </tr>\n",
       "    <tr>\n",
       "      <th>2</th>\n",
       "      <td>KNeighborsClassifier()</td>\n",
       "      <td>0.728395</td>\n",
       "      <td>0.617428</td>\n",
       "      <td>0.663221</td>\n",
       "      <td>0.578587</td>\n",
       "    </tr>\n",
       "    <tr>\n",
       "      <th>0</th>\n",
       "      <td>SVC()</td>\n",
       "      <td>0.679012</td>\n",
       "      <td>0.439393</td>\n",
       "      <td>0.667091</td>\n",
       "      <td>0.327654</td>\n",
       "    </tr>\n",
       "    <tr>\n",
       "      <th>8</th>\n",
       "      <td>LabelPropagation()</td>\n",
       "      <td>0.662177</td>\n",
       "      <td>0.461168</td>\n",
       "      <td>0.596533</td>\n",
       "      <td>0.377812</td>\n",
       "    </tr>\n",
       "    <tr>\n",
       "      <th>9</th>\n",
       "      <td>LabelSpreading()</td>\n",
       "      <td>0.662177</td>\n",
       "      <td>0.461166</td>\n",
       "      <td>0.597505</td>\n",
       "      <td>0.377812</td>\n",
       "    </tr>\n",
       "  </tbody>\n",
       "</table>\n",
       "</div>"
      ],
      "text/plain": [
       "                              model   akurasi  formula_1  temennya_akurasi  \\\n",
       "6          RandomForestClassifier()  0.801347   0.722871          0.726772   \n",
       "3              AdaBoostClassifier()  0.789001   0.726190          0.727422   \n",
       "7   QuadraticDiscriminantAnalysis()  0.787879   0.721571          0.724931   \n",
       "10           LogisticRegressionCV()  0.787879   0.714076          0.738239   \n",
       "1          DecisionTreeClassifier()  0.781145   0.707262          0.710144   \n",
       "5                      GaussianNB()  0.769921   0.685857          0.708064   \n",
       "4                   MLPClassifier()  0.764310   0.705752          0.721887   \n",
       "2            KNeighborsClassifier()  0.728395   0.617428          0.663221   \n",
       "0                             SVC()  0.679012   0.439393          0.667091   \n",
       "8                LabelPropagation()  0.662177   0.461168          0.596533   \n",
       "9                  LabelSpreading()  0.662177   0.461166          0.597505   \n",
       "\n",
       "    recall_recall  \n",
       "6        0.714011  \n",
       "3        0.728095  \n",
       "7        0.718603  \n",
       "10       0.692388  \n",
       "1        0.714801  \n",
       "5        0.666341  \n",
       "4        0.649502  \n",
       "2        0.578587  \n",
       "0        0.327654  \n",
       "8        0.377812  \n",
       "9        0.377812  "
      ]
     },
     "execution_count": 38,
     "metadata": {},
     "output_type": "execute_result"
    },
    {
     "name": "stdout",
     "output_type": "stream",
     "text": [
      "time: 47 ms (started: 2023-05-04 22:35:39 +07:00)\n"
     ]
    }
   ],
   "source": [
    "hasilnya_pake_cv_masbro.sort_values(by='akurasi', ascending=False)"
   ]
  },
  {
   "attachments": {},
   "cell_type": "markdown",
   "metadata": {},
   "source": [
    "### Bonus content\n",
    "\n",
    "Model di bawah ini juga buat cross validation, cuma lebih sophisticated (lebih rumit utk dijelaskan~)\n",
    "\n",
    "CalibratedClassifier bisa digunakan untuk meningkatkan performa model apapun yg kita punya\n",
    "\n",
    "RidgeClassifierCV khusus buat ridge regression (otomatis)"
   ]
  },
  {
   "cell_type": "code",
   "execution_count": 42,
   "metadata": {},
   "outputs": [
    {
     "name": "stdout",
     "output_type": "stream",
     "text": [
      "time: 16 ms (started: 2023-05-04 22:38:33 +07:00)\n"
     ]
    }
   ],
   "source": [
    "from sklearn.calibration import CalibratedClassifierCV\n",
    "from sklearn.linear_model import RidgeClassifierCV\n",
    "\n",
    "def auto_model_2(x_kereta, y_kereta, x_ujian, y_ujian):\n",
    "  # Tulis semua model yg mau dibikin jadi sebuah list kayak gini\n",
    "  daftar_model_kita = [SVC(), DecisionTreeClassifier(), KNeighborsClassifier(), AdaBoostClassifier(), MLPClassifier(), GaussianNB(), RandomForestClassifier(), QuadraticDiscriminantAnalysis(), LabelPropagation(), LabelSpreading(), LogisticRegressionCV()]\n",
    "\n",
    "  # Siapin list buat nyimpen nilai metrics nya, bebas sih mau pilih apa aja\n",
    "  akurasi = []\n",
    "  akurasi_kalibrasi = []\n",
    "  akurasi_jembatan = []\n",
    "\n",
    "  # Looping deh \n",
    "  for model in daftar_model_kita:\n",
    "    # Di fit\n",
    "    model.fit(x_kereta, y_kereta)\n",
    "    \n",
    "    # Di kalibrasi & jembatani\n",
    "    model_kalibrasi = CalibratedClassifierCV(model, cv = 'prefit').fit(x_kereta, y_kereta)\n",
    "    model_jembatan = RidgeClassifierCV(alphas = [0.3, 1.9, 4.5], cv = 3).fit(x_kereta, y_kereta)\n",
    "\n",
    "    # Prediksi dataset ujian setelah di kalibrasi\n",
    "    prediksi_model_kita = model.predict(x_ujian)\n",
    "    prediksi_model_kalibrasi = model_kalibrasi.predict(x_ujian)\n",
    "    prediksi_model_jembatan = model_jembatan.predict(x_ujian)\n",
    "\n",
    "    akurasi.append(accuracy_score(y_true = y_ujian, y_pred = prediksi_model_kita))\n",
    "    akurasi_kalibrasi.append(accuracy_score(y_true = y_ujian, y_pred = prediksi_model_kalibrasi))\n",
    "    akurasi_jembatan.append(accuracy_score(y_true = y_ujian, y_pred = prediksi_model_jembatan))\n",
    "\n",
    "  # Jadiin sebuah dataframe biar keren gituloh\n",
    "  hasil = {\n",
    "    'model' : daftar_model_kita,\n",
    "    'akurasi' : akurasi,\n",
    "    'akurasi_kalibrasi' : akurasi_kalibrasi,\n",
    "    'akurasi_jembatan' : akurasi_jembatan\n",
    "  }\n",
    "\n",
    "  # Balikin hasilnya\n",
    "  return(pd.DataFrame(hasil))"
   ]
  },
  {
   "cell_type": "code",
   "execution_count": null,
   "metadata": {},
   "outputs": [],
   "source": [
    "hasillagi = auto_model_2(x_kereta, y_kereta, x_ujian, y_ujian)"
   ]
  },
  {
   "cell_type": "code",
   "execution_count": 44,
   "metadata": {},
   "outputs": [
    {
     "data": {
      "text/html": [
       "<div>\n",
       "<style scoped>\n",
       "    .dataframe tbody tr th:only-of-type {\n",
       "        vertical-align: middle;\n",
       "    }\n",
       "\n",
       "    .dataframe tbody tr th {\n",
       "        vertical-align: top;\n",
       "    }\n",
       "\n",
       "    .dataframe thead th {\n",
       "        text-align: right;\n",
       "    }\n",
       "</style>\n",
       "<table border=\"1\" class=\"dataframe\">\n",
       "  <thead>\n",
       "    <tr style=\"text-align: right;\">\n",
       "      <th></th>\n",
       "      <th>model</th>\n",
       "      <th>akurasi</th>\n",
       "      <th>akurasi_kalibrasi</th>\n",
       "      <th>akurasi_jembatan</th>\n",
       "    </tr>\n",
       "  </thead>\n",
       "  <tbody>\n",
       "    <tr>\n",
       "      <th>3</th>\n",
       "      <td>(DecisionTreeClassifier(max_depth=1, random_st...</td>\n",
       "      <td>0.845794</td>\n",
       "      <td>0.845794</td>\n",
       "      <td>0.799065</td>\n",
       "    </tr>\n",
       "    <tr>\n",
       "      <th>7</th>\n",
       "      <td>QuadraticDiscriminantAnalysis()</td>\n",
       "      <td>0.827103</td>\n",
       "      <td>0.766355</td>\n",
       "      <td>0.799065</td>\n",
       "    </tr>\n",
       "    <tr>\n",
       "      <th>6</th>\n",
       "      <td>(DecisionTreeClassifier(max_features='sqrt', r...</td>\n",
       "      <td>0.817757</td>\n",
       "      <td>0.817757</td>\n",
       "      <td>0.799065</td>\n",
       "    </tr>\n",
       "    <tr>\n",
       "      <th>1</th>\n",
       "      <td>DecisionTreeClassifier()</td>\n",
       "      <td>0.799065</td>\n",
       "      <td>0.799065</td>\n",
       "      <td>0.799065</td>\n",
       "    </tr>\n",
       "    <tr>\n",
       "      <th>4</th>\n",
       "      <td>MLPClassifier()</td>\n",
       "      <td>0.799065</td>\n",
       "      <td>0.789720</td>\n",
       "      <td>0.799065</td>\n",
       "    </tr>\n",
       "    <tr>\n",
       "      <th>10</th>\n",
       "      <td>LogisticRegressionCV()</td>\n",
       "      <td>0.799065</td>\n",
       "      <td>0.799065</td>\n",
       "      <td>0.799065</td>\n",
       "    </tr>\n",
       "    <tr>\n",
       "      <th>5</th>\n",
       "      <td>GaussianNB()</td>\n",
       "      <td>0.775701</td>\n",
       "      <td>0.771028</td>\n",
       "      <td>0.799065</td>\n",
       "    </tr>\n",
       "    <tr>\n",
       "      <th>0</th>\n",
       "      <td>SVC()</td>\n",
       "      <td>0.719626</td>\n",
       "      <td>0.724299</td>\n",
       "      <td>0.799065</td>\n",
       "    </tr>\n",
       "    <tr>\n",
       "      <th>2</th>\n",
       "      <td>KNeighborsClassifier()</td>\n",
       "      <td>0.705607</td>\n",
       "      <td>0.705607</td>\n",
       "      <td>0.799065</td>\n",
       "    </tr>\n",
       "    <tr>\n",
       "      <th>9</th>\n",
       "      <td>LabelSpreading()</td>\n",
       "      <td>0.668224</td>\n",
       "      <td>0.640187</td>\n",
       "      <td>0.799065</td>\n",
       "    </tr>\n",
       "    <tr>\n",
       "      <th>8</th>\n",
       "      <td>LabelPropagation()</td>\n",
       "      <td>0.663551</td>\n",
       "      <td>0.640187</td>\n",
       "      <td>0.799065</td>\n",
       "    </tr>\n",
       "  </tbody>\n",
       "</table>\n",
       "</div>"
      ],
      "text/plain": [
       "                                                model   akurasi  \\\n",
       "3   (DecisionTreeClassifier(max_depth=1, random_st...  0.845794   \n",
       "7                     QuadraticDiscriminantAnalysis()  0.827103   \n",
       "6   (DecisionTreeClassifier(max_features='sqrt', r...  0.817757   \n",
       "1                            DecisionTreeClassifier()  0.799065   \n",
       "4                                     MLPClassifier()  0.799065   \n",
       "10                             LogisticRegressionCV()  0.799065   \n",
       "5                                        GaussianNB()  0.775701   \n",
       "0                                               SVC()  0.719626   \n",
       "2                              KNeighborsClassifier()  0.705607   \n",
       "9                                    LabelSpreading()  0.668224   \n",
       "8                                  LabelPropagation()  0.663551   \n",
       "\n",
       "    akurasi_kalibrasi  akurasi_jembatan  \n",
       "3            0.845794          0.799065  \n",
       "7            0.766355          0.799065  \n",
       "6            0.817757          0.799065  \n",
       "1            0.799065          0.799065  \n",
       "4            0.789720          0.799065  \n",
       "10           0.799065          0.799065  \n",
       "5            0.771028          0.799065  \n",
       "0            0.724299          0.799065  \n",
       "2            0.705607          0.799065  \n",
       "9            0.640187          0.799065  \n",
       "8            0.640187          0.799065  "
      ]
     },
     "execution_count": 44,
     "metadata": {},
     "output_type": "execute_result"
    },
    {
     "name": "stdout",
     "output_type": "stream",
     "text": [
      "time: 187 ms (started: 2023-05-04 22:38:41 +07:00)\n"
     ]
    }
   ],
   "source": [
    "hasillagi.sort_values(by='akurasi', ascending=False)"
   ]
  }
 ],
 "metadata": {
  "kernelspec": {
   "display_name": "Python 3.9.9 64-bit",
   "language": "python",
   "name": "python3"
  },
  "language_info": {
   "codemirror_mode": {
    "name": "ipython",
    "version": 3
   },
   "file_extension": ".py",
   "mimetype": "text/x-python",
   "name": "python",
   "nbconvert_exporter": "python",
   "pygments_lexer": "ipython3",
   "version": "3.9.9"
  },
  "orig_nbformat": 4,
  "vscode": {
   "interpreter": {
    "hash": "a820877bb240290804912ab4e6c808c89634e69de391124838cf281dba6966bd"
   }
  }
 },
 "nbformat": 4,
 "nbformat_minor": 2
}
